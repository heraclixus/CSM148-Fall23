{
 "cells": [
  {
   "cell_type": "markdown",
   "id": "993e4087-ab8f-4aef-b63e-5e91fecce3ac",
   "metadata": {},
   "source": [
    "This notebook is based on the surprisingly helpful tutorial from their [official documentation](https://pandas.pydata.org/docs/user_guide/10min.html) "
   ]
  },
  {
   "cell_type": "code",
   "execution_count": 1,
   "id": "58c98846-77a2-460f-8884-c83f4eee7784",
   "metadata": {},
   "outputs": [
    {
     "name": "stdout",
     "output_type": "stream",
     "text": [
      "Defaulting to user installation because normal site-packages is not writeable\n",
      "Requirement already satisfied: pandas in /home/heraclitus/.local/lib/python3.10/site-packages (2.1.0)\n",
      "Requirement already satisfied: numpy>=1.22.4 in /home/heraclitus/.local/lib/python3.10/site-packages (from pandas) (1.24.1)\n",
      "Requirement already satisfied: pytz>=2020.1 in /usr/lib/python3/dist-packages (from pandas) (2022.1)\n",
      "Requirement already satisfied: python-dateutil>=2.8.2 in /home/heraclitus/.local/lib/python3.10/site-packages (from pandas) (2.8.2)\n",
      "Requirement already satisfied: tzdata>=2022.1 in /home/heraclitus/.local/lib/python3.10/site-packages (from pandas) (2023.3)\n",
      "Requirement already satisfied: six>=1.5 in /usr/lib/python3/dist-packages (from python-dateutil>=2.8.2->pandas) (1.16.0)\n",
      "\n",
      "\u001b[1m[\u001b[0m\u001b[34;49mnotice\u001b[0m\u001b[1;39;49m]\u001b[0m\u001b[39;49m A new release of pip available: \u001b[0m\u001b[31;49m22.3\u001b[0m\u001b[39;49m -> \u001b[0m\u001b[32;49m23.2.1\u001b[0m\n",
      "\u001b[1m[\u001b[0m\u001b[34;49mnotice\u001b[0m\u001b[1;39;49m]\u001b[0m\u001b[39;49m To update, run: \u001b[0m\u001b[32;49m/usr/bin/python3 -m pip install --upgrade pip\u001b[0m\n"
     ]
    }
   ],
   "source": [
    "!pip install pandas"
   ]
  },
  {
   "cell_type": "code",
   "execution_count": 1,
   "id": "f612b748-45c4-493a-842b-f4c20da5f2a5",
   "metadata": {},
   "outputs": [],
   "source": [
    "import numpy as np\n",
    "import pandas as pd"
   ]
  },
  {
   "cell_type": "markdown",
   "id": "5951df4a-4d37-4793-b7d8-6d668370c880",
   "metadata": {},
   "source": [
    "# Basic data structures in pandas\n",
    "\n",
    "Pandas provides two types of classes for handling data\n",
    "1. `Series`: a one-dimensional labeled array holding data of any type such as integers, strings, Python objects etc.\n",
    "2. `DataFrame`: a two-dimensional data structure that holds data like a two-dimension array or a table with rows and columns.lumns."
   ]
  },
  {
   "cell_type": "markdown",
   "id": "4011b63f-bf89-4342-a30f-9f97d8a3fb73",
   "metadata": {},
   "source": [
    "## Object creation\n",
    "Creating a Series by passing a list of values, letting pandas create a default RangeIndex."
   ]
  },
  {
   "cell_type": "code",
   "execution_count": 9,
   "id": "68d24634",
   "metadata": {},
   "outputs": [],
   "source": [
    "s = np.array([1,3,5, \"hello\", 6])"
   ]
  },
  {
   "cell_type": "code",
   "execution_count": 10,
   "id": "efa0219f-74da-423a-8de5-34af6bb61b00",
   "metadata": {},
   "outputs": [
    {
     "data": {
      "text/plain": [
       "0    1.0\n",
       "1    3.0\n",
       "2    5.0\n",
       "3    NaN\n",
       "4    6.0\n",
       "5    8.0\n",
       "dtype: float64"
      ]
     },
     "execution_count": 10,
     "metadata": {},
     "output_type": "execute_result"
    }
   ],
   "source": [
    "s = pd.Series([1, 3, 5, np.nan, 6, 8]) # different types\n",
    "s"
   ]
  },
  {
   "cell_type": "code",
   "execution_count": 11,
   "id": "3a1def42",
   "metadata": {},
   "outputs": [],
   "source": [
    "s = pd.Series([1,3,5,\"hello\", 6])"
   ]
  },
  {
   "cell_type": "code",
   "execution_count": 12,
   "id": "c5052c52",
   "metadata": {},
   "outputs": [
    {
     "data": {
      "text/plain": [
       "0        1\n",
       "1        3\n",
       "2        5\n",
       "3    hello\n",
       "4        6\n",
       "dtype: object"
      ]
     },
     "execution_count": 12,
     "metadata": {},
     "output_type": "execute_result"
    }
   ],
   "source": [
    "s"
   ]
  },
  {
   "cell_type": "markdown",
   "id": "169a83db-fd98-4539-b1b9-92870cd875d3",
   "metadata": {},
   "source": [
    "Creating a DataFrame by passing a NumPy array with a `datetime` index using `date_range()` and labeled columns:"
   ]
  },
  {
   "cell_type": "code",
   "execution_count": 45,
   "id": "51e09225-f0cf-406d-a205-2bb8c946e623",
   "metadata": {},
   "outputs": [
    {
     "data": {
      "text/plain": [
       "DatetimeIndex(['2013-01-01', '2013-01-02', '2013-01-03', '2013-01-04',\n",
       "               '2013-01-05', '2013-01-06'],\n",
       "              dtype='datetime64[ns]', freq='D')"
      ]
     },
     "execution_count": 45,
     "metadata": {},
     "output_type": "execute_result"
    }
   ],
   "source": [
    "dates = pd.date_range(\"20130101\", periods=6)\n",
    "dates"
   ]
  },
  {
   "cell_type": "code",
   "execution_count": 46,
   "id": "3d6bc3e1-995d-4e41-8dc3-3a17a7434595",
   "metadata": {},
   "outputs": [
    {
     "data": {
      "text/html": [
       "<div>\n",
       "<style scoped>\n",
       "    .dataframe tbody tr th:only-of-type {\n",
       "        vertical-align: middle;\n",
       "    }\n",
       "\n",
       "    .dataframe tbody tr th {\n",
       "        vertical-align: top;\n",
       "    }\n",
       "\n",
       "    .dataframe thead th {\n",
       "        text-align: right;\n",
       "    }\n",
       "</style>\n",
       "<table border=\"1\" class=\"dataframe\">\n",
       "  <thead>\n",
       "    <tr style=\"text-align: right;\">\n",
       "      <th></th>\n",
       "      <th>A</th>\n",
       "      <th>B</th>\n",
       "      <th>C</th>\n",
       "      <th>D</th>\n",
       "    </tr>\n",
       "  </thead>\n",
       "  <tbody>\n",
       "    <tr>\n",
       "      <th>2013-01-01</th>\n",
       "      <td>0.187772</td>\n",
       "      <td>0.483595</td>\n",
       "      <td>-0.031297</td>\n",
       "      <td>0.214045</td>\n",
       "    </tr>\n",
       "    <tr>\n",
       "      <th>2013-01-02</th>\n",
       "      <td>-0.475598</td>\n",
       "      <td>1.220424</td>\n",
       "      <td>-0.656457</td>\n",
       "      <td>1.346357</td>\n",
       "    </tr>\n",
       "    <tr>\n",
       "      <th>2013-01-03</th>\n",
       "      <td>1.778614</td>\n",
       "      <td>-1.409747</td>\n",
       "      <td>-0.710553</td>\n",
       "      <td>0.989969</td>\n",
       "    </tr>\n",
       "    <tr>\n",
       "      <th>2013-01-04</th>\n",
       "      <td>-0.244300</td>\n",
       "      <td>1.438121</td>\n",
       "      <td>-1.454807</td>\n",
       "      <td>-0.051501</td>\n",
       "    </tr>\n",
       "    <tr>\n",
       "      <th>2013-01-05</th>\n",
       "      <td>0.767371</td>\n",
       "      <td>-2.234320</td>\n",
       "      <td>0.153770</td>\n",
       "      <td>-0.003748</td>\n",
       "    </tr>\n",
       "    <tr>\n",
       "      <th>2013-01-06</th>\n",
       "      <td>0.916263</td>\n",
       "      <td>1.325839</td>\n",
       "      <td>-1.839756</td>\n",
       "      <td>0.275991</td>\n",
       "    </tr>\n",
       "  </tbody>\n",
       "</table>\n",
       "</div>"
      ],
      "text/plain": [
       "                   A         B         C         D\n",
       "2013-01-01  0.187772  0.483595 -0.031297  0.214045\n",
       "2013-01-02 -0.475598  1.220424 -0.656457  1.346357\n",
       "2013-01-03  1.778614 -1.409747 -0.710553  0.989969\n",
       "2013-01-04 -0.244300  1.438121 -1.454807 -0.051501\n",
       "2013-01-05  0.767371 -2.234320  0.153770 -0.003748\n",
       "2013-01-06  0.916263  1.325839 -1.839756  0.275991"
      ]
     },
     "execution_count": 46,
     "metadata": {},
     "output_type": "execute_result"
    }
   ],
   "source": [
    "df = pd.DataFrame(np.random.randn(6, 4), index=dates, columns=list(\"ABCD\"))\n",
    "df"
   ]
  },
  {
   "cell_type": "code",
   "execution_count": 15,
   "id": "b37fdc32-d83d-4018-9a8d-e98b1e408cca",
   "metadata": {},
   "outputs": [
    {
     "data": {
      "text/html": [
       "<div>\n",
       "<style scoped>\n",
       "    .dataframe tbody tr th:only-of-type {\n",
       "        vertical-align: middle;\n",
       "    }\n",
       "\n",
       "    .dataframe tbody tr th {\n",
       "        vertical-align: top;\n",
       "    }\n",
       "\n",
       "    .dataframe thead th {\n",
       "        text-align: right;\n",
       "    }\n",
       "</style>\n",
       "<table border=\"1\" class=\"dataframe\">\n",
       "  <thead>\n",
       "    <tr style=\"text-align: right;\">\n",
       "      <th></th>\n",
       "      <th>A</th>\n",
       "      <th>B</th>\n",
       "      <th>C</th>\n",
       "      <th>D</th>\n",
       "      <th>E</th>\n",
       "      <th>F</th>\n",
       "    </tr>\n",
       "  </thead>\n",
       "  <tbody>\n",
       "    <tr>\n",
       "      <th>0</th>\n",
       "      <td>1.0</td>\n",
       "      <td>2013-01-02</td>\n",
       "      <td>1.0</td>\n",
       "      <td>3</td>\n",
       "      <td>test</td>\n",
       "      <td>foo</td>\n",
       "    </tr>\n",
       "    <tr>\n",
       "      <th>1</th>\n",
       "      <td>1.0</td>\n",
       "      <td>2013-01-02</td>\n",
       "      <td>1.0</td>\n",
       "      <td>3</td>\n",
       "      <td>train</td>\n",
       "      <td>foo</td>\n",
       "    </tr>\n",
       "    <tr>\n",
       "      <th>2</th>\n",
       "      <td>1.0</td>\n",
       "      <td>2013-01-02</td>\n",
       "      <td>1.0</td>\n",
       "      <td>3</td>\n",
       "      <td>test</td>\n",
       "      <td>foo</td>\n",
       "    </tr>\n",
       "    <tr>\n",
       "      <th>3</th>\n",
       "      <td>1.0</td>\n",
       "      <td>2013-01-02</td>\n",
       "      <td>1.0</td>\n",
       "      <td>3</td>\n",
       "      <td>train</td>\n",
       "      <td>foo</td>\n",
       "    </tr>\n",
       "  </tbody>\n",
       "</table>\n",
       "</div>"
      ],
      "text/plain": [
       "     A          B    C  D      E    F\n",
       "0  1.0 2013-01-02  1.0  3   test  foo\n",
       "1  1.0 2013-01-02  1.0  3  train  foo\n",
       "2  1.0 2013-01-02  1.0  3   test  foo\n",
       "3  1.0 2013-01-02  1.0  3  train  foo"
      ]
     },
     "execution_count": 15,
     "metadata": {},
     "output_type": "execute_result"
    }
   ],
   "source": [
    "# Creating a DataFrame by passing a dictionary of objects where the keys are the column labels and the values are the column values.\n",
    "df2 = pd.DataFrame(\n",
    " {\n",
    "     \"A\": 1.0,\n",
    "     \"B\": pd.Timestamp(\"20130102\"),\n",
    "     \"C\": pd.Series(1, index=list(range(4)), dtype=\"float32\"),\n",
    "     \"D\": np.array([3] * 4, dtype=\"int32\"),\n",
    "     \"E\": pd.Categorical([\"test\", \"train\", \"test\", \"train\"]),\n",
    "     \"F\": \"foo\",\n",
    " }\n",
    ")\n",
    "\n",
    "df2"
   ]
  },
  {
   "cell_type": "code",
   "execution_count": 16,
   "id": "3c8eac7d-e52b-4b73-82f1-da851b31c660",
   "metadata": {},
   "outputs": [
    {
     "data": {
      "text/plain": [
       "A           float64\n",
       "B    datetime64[ns]\n",
       "C           float32\n",
       "D             int32\n",
       "E          category\n",
       "F            object\n",
       "dtype: object"
      ]
     },
     "execution_count": 16,
     "metadata": {},
     "output_type": "execute_result"
    }
   ],
   "source": [
    "df2.dtypes"
   ]
  },
  {
   "cell_type": "markdown",
   "id": "ae66e8df-4e92-43a1-ab44-8c721aae45de",
   "metadata": {},
   "source": [
    "## Viewing Data\n",
    "Use `DataFrame.head()` and `DataFrame.tail()` to view the top and bottom rows of the frame respectively:"
   ]
  },
  {
   "cell_type": "code",
   "execution_count": 17,
   "id": "f636250f-9859-4766-a7a6-8bf5a4cf36e9",
   "metadata": {},
   "outputs": [
    {
     "data": {
      "text/html": [
       "<div>\n",
       "<style scoped>\n",
       "    .dataframe tbody tr th:only-of-type {\n",
       "        vertical-align: middle;\n",
       "    }\n",
       "\n",
       "    .dataframe tbody tr th {\n",
       "        vertical-align: top;\n",
       "    }\n",
       "\n",
       "    .dataframe thead th {\n",
       "        text-align: right;\n",
       "    }\n",
       "</style>\n",
       "<table border=\"1\" class=\"dataframe\">\n",
       "  <thead>\n",
       "    <tr style=\"text-align: right;\">\n",
       "      <th></th>\n",
       "      <th>A</th>\n",
       "      <th>B</th>\n",
       "      <th>C</th>\n",
       "      <th>D</th>\n",
       "    </tr>\n",
       "  </thead>\n",
       "  <tbody>\n",
       "    <tr>\n",
       "      <th>2013-01-01</th>\n",
       "      <td>-0.683458</td>\n",
       "      <td>3.796712</td>\n",
       "      <td>-1.016538</td>\n",
       "      <td>0.295862</td>\n",
       "    </tr>\n",
       "    <tr>\n",
       "      <th>2013-01-02</th>\n",
       "      <td>0.252125</td>\n",
       "      <td>0.539947</td>\n",
       "      <td>-0.276371</td>\n",
       "      <td>0.649606</td>\n",
       "    </tr>\n",
       "    <tr>\n",
       "      <th>2013-01-03</th>\n",
       "      <td>-1.698165</td>\n",
       "      <td>-0.219369</td>\n",
       "      <td>1.545618</td>\n",
       "      <td>0.185408</td>\n",
       "    </tr>\n",
       "    <tr>\n",
       "      <th>2013-01-04</th>\n",
       "      <td>0.442178</td>\n",
       "      <td>-0.100783</td>\n",
       "      <td>-0.567966</td>\n",
       "      <td>-0.443279</td>\n",
       "    </tr>\n",
       "    <tr>\n",
       "      <th>2013-01-05</th>\n",
       "      <td>1.054685</td>\n",
       "      <td>1.430262</td>\n",
       "      <td>-0.084395</td>\n",
       "      <td>0.499660</td>\n",
       "    </tr>\n",
       "  </tbody>\n",
       "</table>\n",
       "</div>"
      ],
      "text/plain": [
       "                   A         B         C         D\n",
       "2013-01-01 -0.683458  3.796712 -1.016538  0.295862\n",
       "2013-01-02  0.252125  0.539947 -0.276371  0.649606\n",
       "2013-01-03 -1.698165 -0.219369  1.545618  0.185408\n",
       "2013-01-04  0.442178 -0.100783 -0.567966 -0.443279\n",
       "2013-01-05  1.054685  1.430262 -0.084395  0.499660"
      ]
     },
     "execution_count": 17,
     "metadata": {},
     "output_type": "execute_result"
    }
   ],
   "source": [
    "df.head()"
   ]
  },
  {
   "cell_type": "code",
   "execution_count": 18,
   "id": "235b1103-bc5e-4cd1-9fc7-95bad75e7848",
   "metadata": {},
   "outputs": [
    {
     "data": {
      "text/html": [
       "<div>\n",
       "<style scoped>\n",
       "    .dataframe tbody tr th:only-of-type {\n",
       "        vertical-align: middle;\n",
       "    }\n",
       "\n",
       "    .dataframe tbody tr th {\n",
       "        vertical-align: top;\n",
       "    }\n",
       "\n",
       "    .dataframe thead th {\n",
       "        text-align: right;\n",
       "    }\n",
       "</style>\n",
       "<table border=\"1\" class=\"dataframe\">\n",
       "  <thead>\n",
       "    <tr style=\"text-align: right;\">\n",
       "      <th></th>\n",
       "      <th>A</th>\n",
       "      <th>B</th>\n",
       "      <th>C</th>\n",
       "      <th>D</th>\n",
       "    </tr>\n",
       "  </thead>\n",
       "  <tbody>\n",
       "    <tr>\n",
       "      <th>2013-01-04</th>\n",
       "      <td>0.442178</td>\n",
       "      <td>-0.100783</td>\n",
       "      <td>-0.567966</td>\n",
       "      <td>-0.443279</td>\n",
       "    </tr>\n",
       "    <tr>\n",
       "      <th>2013-01-05</th>\n",
       "      <td>1.054685</td>\n",
       "      <td>1.430262</td>\n",
       "      <td>-0.084395</td>\n",
       "      <td>0.499660</td>\n",
       "    </tr>\n",
       "    <tr>\n",
       "      <th>2013-01-06</th>\n",
       "      <td>-1.362981</td>\n",
       "      <td>0.510188</td>\n",
       "      <td>0.162478</td>\n",
       "      <td>-0.473581</td>\n",
       "    </tr>\n",
       "  </tbody>\n",
       "</table>\n",
       "</div>"
      ],
      "text/plain": [
       "                   A         B         C         D\n",
       "2013-01-04  0.442178 -0.100783 -0.567966 -0.443279\n",
       "2013-01-05  1.054685  1.430262 -0.084395  0.499660\n",
       "2013-01-06 -1.362981  0.510188  0.162478 -0.473581"
      ]
     },
     "execution_count": 18,
     "metadata": {},
     "output_type": "execute_result"
    }
   ],
   "source": [
    "df.tail(3)"
   ]
  },
  {
   "cell_type": "code",
   "execution_count": 19,
   "id": "01839d01-c282-4fd3-a775-7f16d16b779c",
   "metadata": {},
   "outputs": [
    {
     "data": {
      "text/plain": [
       "DatetimeIndex(['2013-01-01', '2013-01-02', '2013-01-03', '2013-01-04',\n",
       "               '2013-01-05', '2013-01-06'],\n",
       "              dtype='datetime64[ns]', freq='D')"
      ]
     },
     "execution_count": 19,
     "metadata": {},
     "output_type": "execute_result"
    }
   ],
   "source": [
    "df.index"
   ]
  },
  {
   "cell_type": "code",
   "execution_count": 20,
   "id": "08d28f22-ecda-44b2-971b-bbb40435f0f6",
   "metadata": {},
   "outputs": [
    {
     "data": {
      "text/plain": [
       "Index(['A', 'B', 'C', 'D'], dtype='object')"
      ]
     },
     "execution_count": 20,
     "metadata": {},
     "output_type": "execute_result"
    }
   ],
   "source": [
    "df.columns"
   ]
  },
  {
   "cell_type": "code",
   "execution_count": 21,
   "id": "5f0a4880-4c03-4925-981a-de8d1b814adf",
   "metadata": {},
   "outputs": [
    {
     "data": {
      "text/plain": [
       "array([[-0.68345842,  3.79671176, -1.01653831,  0.2958618 ],\n",
       "       [ 0.25212464,  0.53994745, -0.27637074,  0.64960623],\n",
       "       [-1.69816461, -0.21936874,  1.54561848,  0.18540771],\n",
       "       [ 0.44217808, -0.10078308, -0.56796637, -0.4432795 ],\n",
       "       [ 1.0546852 ,  1.43026178, -0.08439468,  0.49965992],\n",
       "       [-1.36298067,  0.51018768,  0.16247844, -0.47358051]])"
      ]
     },
     "execution_count": 21,
     "metadata": {},
     "output_type": "execute_result"
    }
   ],
   "source": [
    "# Return a NumPy representation of the underlying data with DataFrame.to_numpy() without the index or column labels:\n",
    "df.to_numpy()"
   ]
  },
  {
   "cell_type": "markdown",
   "id": "85abf7f7-26e5-4ae0-8190-73fcaa2740f0",
   "metadata": {},
   "source": [
    "__Note__: NumPy arrays have one dtype for the entire array while pandas DataFrames have one dtype per column. When you call `DataFrame.to_numpy()`, pandas will find the NumPy dtype that can hold all of the dtypes in the DataFrame. If the common data type is object, `DataFrame.to_numpy()` will require copying data."
   ]
  },
  {
   "cell_type": "code",
   "execution_count": 22,
   "id": "af15a885-c072-4463-ba1d-142b79fcc120",
   "metadata": {},
   "outputs": [
    {
     "data": {
      "text/plain": [
       "A           float64\n",
       "B    datetime64[ns]\n",
       "C           float32\n",
       "D             int32\n",
       "E          category\n",
       "F            object\n",
       "dtype: object"
      ]
     },
     "execution_count": 22,
     "metadata": {},
     "output_type": "execute_result"
    }
   ],
   "source": [
    "df2.dtypes"
   ]
  },
  {
   "cell_type": "code",
   "execution_count": 23,
   "id": "ed9afc5e-0fca-4047-b07a-149a6e0bf86b",
   "metadata": {},
   "outputs": [
    {
     "data": {
      "text/plain": [
       "array([[1.0, Timestamp('2013-01-02 00:00:00'), 1.0, 3, 'test', 'foo'],\n",
       "       [1.0, Timestamp('2013-01-02 00:00:00'), 1.0, 3, 'train', 'foo'],\n",
       "       [1.0, Timestamp('2013-01-02 00:00:00'), 1.0, 3, 'test', 'foo'],\n",
       "       [1.0, Timestamp('2013-01-02 00:00:00'), 1.0, 3, 'train', 'foo']],\n",
       "      dtype=object)"
      ]
     },
     "execution_count": 23,
     "metadata": {},
     "output_type": "execute_result"
    }
   ],
   "source": [
    "df2.to_numpy()"
   ]
  },
  {
   "cell_type": "markdown",
   "id": "42be4424-6f29-44b0-957b-fe3e202288b6",
   "metadata": {},
   "source": [
    "`describe()` shows a quick statistic summary of your data:\n",
    "\n"
   ]
  },
  {
   "cell_type": "code",
   "execution_count": 24,
   "id": "0165299b-9111-4b6c-bfe7-e583842c3016",
   "metadata": {},
   "outputs": [
    {
     "data": {
      "text/html": [
       "<div>\n",
       "<style scoped>\n",
       "    .dataframe tbody tr th:only-of-type {\n",
       "        vertical-align: middle;\n",
       "    }\n",
       "\n",
       "    .dataframe tbody tr th {\n",
       "        vertical-align: top;\n",
       "    }\n",
       "\n",
       "    .dataframe thead th {\n",
       "        text-align: right;\n",
       "    }\n",
       "</style>\n",
       "<table border=\"1\" class=\"dataframe\">\n",
       "  <thead>\n",
       "    <tr style=\"text-align: right;\">\n",
       "      <th></th>\n",
       "      <th>A</th>\n",
       "      <th>B</th>\n",
       "      <th>C</th>\n",
       "      <th>D</th>\n",
       "    </tr>\n",
       "  </thead>\n",
       "  <tbody>\n",
       "    <tr>\n",
       "      <th>count</th>\n",
       "      <td>6.000000</td>\n",
       "      <td>6.000000</td>\n",
       "      <td>6.000000</td>\n",
       "      <td>6.000000</td>\n",
       "    </tr>\n",
       "    <tr>\n",
       "      <th>mean</th>\n",
       "      <td>-0.332603</td>\n",
       "      <td>0.992826</td>\n",
       "      <td>-0.039529</td>\n",
       "      <td>0.118946</td>\n",
       "    </tr>\n",
       "    <tr>\n",
       "      <th>std</th>\n",
       "      <td>1.087777</td>\n",
       "      <td>1.493758</td>\n",
       "      <td>0.876972</td>\n",
       "      <td>0.475278</td>\n",
       "    </tr>\n",
       "    <tr>\n",
       "      <th>min</th>\n",
       "      <td>-1.698165</td>\n",
       "      <td>-0.219369</td>\n",
       "      <td>-1.016538</td>\n",
       "      <td>-0.473581</td>\n",
       "    </tr>\n",
       "    <tr>\n",
       "      <th>25%</th>\n",
       "      <td>-1.193100</td>\n",
       "      <td>0.051960</td>\n",
       "      <td>-0.495067</td>\n",
       "      <td>-0.286108</td>\n",
       "    </tr>\n",
       "    <tr>\n",
       "      <th>50%</th>\n",
       "      <td>-0.215667</td>\n",
       "      <td>0.525068</td>\n",
       "      <td>-0.180383</td>\n",
       "      <td>0.240635</td>\n",
       "    </tr>\n",
       "    <tr>\n",
       "      <th>75%</th>\n",
       "      <td>0.394665</td>\n",
       "      <td>1.207683</td>\n",
       "      <td>0.100760</td>\n",
       "      <td>0.448710</td>\n",
       "    </tr>\n",
       "    <tr>\n",
       "      <th>max</th>\n",
       "      <td>1.054685</td>\n",
       "      <td>3.796712</td>\n",
       "      <td>1.545618</td>\n",
       "      <td>0.649606</td>\n",
       "    </tr>\n",
       "  </tbody>\n",
       "</table>\n",
       "</div>"
      ],
      "text/plain": [
       "              A         B         C         D\n",
       "count  6.000000  6.000000  6.000000  6.000000\n",
       "mean  -0.332603  0.992826 -0.039529  0.118946\n",
       "std    1.087777  1.493758  0.876972  0.475278\n",
       "min   -1.698165 -0.219369 -1.016538 -0.473581\n",
       "25%   -1.193100  0.051960 -0.495067 -0.286108\n",
       "50%   -0.215667  0.525068 -0.180383  0.240635\n",
       "75%    0.394665  1.207683  0.100760  0.448710\n",
       "max    1.054685  3.796712  1.545618  0.649606"
      ]
     },
     "execution_count": 24,
     "metadata": {},
     "output_type": "execute_result"
    }
   ],
   "source": [
    "df.describe()"
   ]
  },
  {
   "cell_type": "code",
   "execution_count": 25,
   "id": "db279b8d-247f-4a47-af72-ed76b0be24d0",
   "metadata": {},
   "outputs": [
    {
     "data": {
      "text/html": [
       "<div>\n",
       "<style scoped>\n",
       "    .dataframe tbody tr th:only-of-type {\n",
       "        vertical-align: middle;\n",
       "    }\n",
       "\n",
       "    .dataframe tbody tr th {\n",
       "        vertical-align: top;\n",
       "    }\n",
       "\n",
       "    .dataframe thead th {\n",
       "        text-align: right;\n",
       "    }\n",
       "</style>\n",
       "<table border=\"1\" class=\"dataframe\">\n",
       "  <thead>\n",
       "    <tr style=\"text-align: right;\">\n",
       "      <th></th>\n",
       "      <th>A</th>\n",
       "      <th>B</th>\n",
       "      <th>C</th>\n",
       "      <th>D</th>\n",
       "    </tr>\n",
       "  </thead>\n",
       "  <tbody>\n",
       "    <tr>\n",
       "      <th>2013-01-01</th>\n",
       "      <td>-0.683458</td>\n",
       "      <td>3.796712</td>\n",
       "      <td>-1.016538</td>\n",
       "      <td>0.295862</td>\n",
       "    </tr>\n",
       "    <tr>\n",
       "      <th>2013-01-02</th>\n",
       "      <td>0.252125</td>\n",
       "      <td>0.539947</td>\n",
       "      <td>-0.276371</td>\n",
       "      <td>0.649606</td>\n",
       "    </tr>\n",
       "    <tr>\n",
       "      <th>2013-01-03</th>\n",
       "      <td>-1.698165</td>\n",
       "      <td>-0.219369</td>\n",
       "      <td>1.545618</td>\n",
       "      <td>0.185408</td>\n",
       "    </tr>\n",
       "    <tr>\n",
       "      <th>2013-01-04</th>\n",
       "      <td>0.442178</td>\n",
       "      <td>-0.100783</td>\n",
       "      <td>-0.567966</td>\n",
       "      <td>-0.443279</td>\n",
       "    </tr>\n",
       "    <tr>\n",
       "      <th>2013-01-05</th>\n",
       "      <td>1.054685</td>\n",
       "      <td>1.430262</td>\n",
       "      <td>-0.084395</td>\n",
       "      <td>0.499660</td>\n",
       "    </tr>\n",
       "    <tr>\n",
       "      <th>2013-01-06</th>\n",
       "      <td>-1.362981</td>\n",
       "      <td>0.510188</td>\n",
       "      <td>0.162478</td>\n",
       "      <td>-0.473581</td>\n",
       "    </tr>\n",
       "  </tbody>\n",
       "</table>\n",
       "</div>"
      ],
      "text/plain": [
       "                   A         B         C         D\n",
       "2013-01-01 -0.683458  3.796712 -1.016538  0.295862\n",
       "2013-01-02  0.252125  0.539947 -0.276371  0.649606\n",
       "2013-01-03 -1.698165 -0.219369  1.545618  0.185408\n",
       "2013-01-04  0.442178 -0.100783 -0.567966 -0.443279\n",
       "2013-01-05  1.054685  1.430262 -0.084395  0.499660\n",
       "2013-01-06 -1.362981  0.510188  0.162478 -0.473581"
      ]
     },
     "execution_count": 25,
     "metadata": {},
     "output_type": "execute_result"
    }
   ],
   "source": [
    "df"
   ]
  },
  {
   "cell_type": "code",
   "execution_count": 26,
   "id": "ad879170-bbec-405c-bb29-0abfbbcff3a3",
   "metadata": {},
   "outputs": [
    {
     "data": {
      "text/html": [
       "<div>\n",
       "<style scoped>\n",
       "    .dataframe tbody tr th:only-of-type {\n",
       "        vertical-align: middle;\n",
       "    }\n",
       "\n",
       "    .dataframe tbody tr th {\n",
       "        vertical-align: top;\n",
       "    }\n",
       "\n",
       "    .dataframe thead th {\n",
       "        text-align: right;\n",
       "    }\n",
       "</style>\n",
       "<table border=\"1\" class=\"dataframe\">\n",
       "  <thead>\n",
       "    <tr style=\"text-align: right;\">\n",
       "      <th></th>\n",
       "      <th>2013-01-01</th>\n",
       "      <th>2013-01-02</th>\n",
       "      <th>2013-01-03</th>\n",
       "      <th>2013-01-04</th>\n",
       "      <th>2013-01-05</th>\n",
       "      <th>2013-01-06</th>\n",
       "    </tr>\n",
       "  </thead>\n",
       "  <tbody>\n",
       "    <tr>\n",
       "      <th>A</th>\n",
       "      <td>-0.683458</td>\n",
       "      <td>0.252125</td>\n",
       "      <td>-1.698165</td>\n",
       "      <td>0.442178</td>\n",
       "      <td>1.054685</td>\n",
       "      <td>-1.362981</td>\n",
       "    </tr>\n",
       "    <tr>\n",
       "      <th>B</th>\n",
       "      <td>3.796712</td>\n",
       "      <td>0.539947</td>\n",
       "      <td>-0.219369</td>\n",
       "      <td>-0.100783</td>\n",
       "      <td>1.430262</td>\n",
       "      <td>0.510188</td>\n",
       "    </tr>\n",
       "    <tr>\n",
       "      <th>C</th>\n",
       "      <td>-1.016538</td>\n",
       "      <td>-0.276371</td>\n",
       "      <td>1.545618</td>\n",
       "      <td>-0.567966</td>\n",
       "      <td>-0.084395</td>\n",
       "      <td>0.162478</td>\n",
       "    </tr>\n",
       "    <tr>\n",
       "      <th>D</th>\n",
       "      <td>0.295862</td>\n",
       "      <td>0.649606</td>\n",
       "      <td>0.185408</td>\n",
       "      <td>-0.443279</td>\n",
       "      <td>0.499660</td>\n",
       "      <td>-0.473581</td>\n",
       "    </tr>\n",
       "  </tbody>\n",
       "</table>\n",
       "</div>"
      ],
      "text/plain": [
       "   2013-01-01  2013-01-02  2013-01-03  2013-01-04  2013-01-05  2013-01-06\n",
       "A   -0.683458    0.252125   -1.698165    0.442178    1.054685   -1.362981\n",
       "B    3.796712    0.539947   -0.219369   -0.100783    1.430262    0.510188\n",
       "C   -1.016538   -0.276371    1.545618   -0.567966   -0.084395    0.162478\n",
       "D    0.295862    0.649606    0.185408   -0.443279    0.499660   -0.473581"
      ]
     },
     "execution_count": 26,
     "metadata": {},
     "output_type": "execute_result"
    }
   ],
   "source": [
    "# transpose \n",
    "df.T"
   ]
  },
  {
   "cell_type": "code",
   "execution_count": 27,
   "id": "36db2d57-f8f7-4ddb-8be4-08d564e210aa",
   "metadata": {},
   "outputs": [
    {
     "data": {
      "text/html": [
       "<div>\n",
       "<style scoped>\n",
       "    .dataframe tbody tr th:only-of-type {\n",
       "        vertical-align: middle;\n",
       "    }\n",
       "\n",
       "    .dataframe tbody tr th {\n",
       "        vertical-align: top;\n",
       "    }\n",
       "\n",
       "    .dataframe thead th {\n",
       "        text-align: right;\n",
       "    }\n",
       "</style>\n",
       "<table border=\"1\" class=\"dataframe\">\n",
       "  <thead>\n",
       "    <tr style=\"text-align: right;\">\n",
       "      <th></th>\n",
       "      <th>D</th>\n",
       "      <th>C</th>\n",
       "      <th>B</th>\n",
       "      <th>A</th>\n",
       "    </tr>\n",
       "  </thead>\n",
       "  <tbody>\n",
       "    <tr>\n",
       "      <th>2013-01-01</th>\n",
       "      <td>0.295862</td>\n",
       "      <td>-1.016538</td>\n",
       "      <td>3.796712</td>\n",
       "      <td>-0.683458</td>\n",
       "    </tr>\n",
       "    <tr>\n",
       "      <th>2013-01-02</th>\n",
       "      <td>0.649606</td>\n",
       "      <td>-0.276371</td>\n",
       "      <td>0.539947</td>\n",
       "      <td>0.252125</td>\n",
       "    </tr>\n",
       "    <tr>\n",
       "      <th>2013-01-03</th>\n",
       "      <td>0.185408</td>\n",
       "      <td>1.545618</td>\n",
       "      <td>-0.219369</td>\n",
       "      <td>-1.698165</td>\n",
       "    </tr>\n",
       "    <tr>\n",
       "      <th>2013-01-04</th>\n",
       "      <td>-0.443279</td>\n",
       "      <td>-0.567966</td>\n",
       "      <td>-0.100783</td>\n",
       "      <td>0.442178</td>\n",
       "    </tr>\n",
       "    <tr>\n",
       "      <th>2013-01-05</th>\n",
       "      <td>0.499660</td>\n",
       "      <td>-0.084395</td>\n",
       "      <td>1.430262</td>\n",
       "      <td>1.054685</td>\n",
       "    </tr>\n",
       "    <tr>\n",
       "      <th>2013-01-06</th>\n",
       "      <td>-0.473581</td>\n",
       "      <td>0.162478</td>\n",
       "      <td>0.510188</td>\n",
       "      <td>-1.362981</td>\n",
       "    </tr>\n",
       "  </tbody>\n",
       "</table>\n",
       "</div>"
      ],
      "text/plain": [
       "                   D         C         B         A\n",
       "2013-01-01  0.295862 -1.016538  3.796712 -0.683458\n",
       "2013-01-02  0.649606 -0.276371  0.539947  0.252125\n",
       "2013-01-03  0.185408  1.545618 -0.219369 -1.698165\n",
       "2013-01-04 -0.443279 -0.567966 -0.100783  0.442178\n",
       "2013-01-05  0.499660 -0.084395  1.430262  1.054685\n",
       "2013-01-06 -0.473581  0.162478  0.510188 -1.362981"
      ]
     },
     "execution_count": 27,
     "metadata": {},
     "output_type": "execute_result"
    }
   ],
   "source": [
    "# DataFrame.sort_index() sorts by an axis:\n",
    "df.sort_index(axis=1, ascending=False)\n"
   ]
  },
  {
   "cell_type": "code",
   "execution_count": 28,
   "id": "abab9d80-174c-4a0f-92fc-7e65a35ef7a9",
   "metadata": {},
   "outputs": [
    {
     "data": {
      "text/html": [
       "<div>\n",
       "<style scoped>\n",
       "    .dataframe tbody tr th:only-of-type {\n",
       "        vertical-align: middle;\n",
       "    }\n",
       "\n",
       "    .dataframe tbody tr th {\n",
       "        vertical-align: top;\n",
       "    }\n",
       "\n",
       "    .dataframe thead th {\n",
       "        text-align: right;\n",
       "    }\n",
       "</style>\n",
       "<table border=\"1\" class=\"dataframe\">\n",
       "  <thead>\n",
       "    <tr style=\"text-align: right;\">\n",
       "      <th></th>\n",
       "      <th>A</th>\n",
       "      <th>B</th>\n",
       "      <th>C</th>\n",
       "      <th>D</th>\n",
       "    </tr>\n",
       "  </thead>\n",
       "  <tbody>\n",
       "    <tr>\n",
       "      <th>2013-01-03</th>\n",
       "      <td>-1.698165</td>\n",
       "      <td>-0.219369</td>\n",
       "      <td>1.545618</td>\n",
       "      <td>0.185408</td>\n",
       "    </tr>\n",
       "    <tr>\n",
       "      <th>2013-01-04</th>\n",
       "      <td>0.442178</td>\n",
       "      <td>-0.100783</td>\n",
       "      <td>-0.567966</td>\n",
       "      <td>-0.443279</td>\n",
       "    </tr>\n",
       "    <tr>\n",
       "      <th>2013-01-06</th>\n",
       "      <td>-1.362981</td>\n",
       "      <td>0.510188</td>\n",
       "      <td>0.162478</td>\n",
       "      <td>-0.473581</td>\n",
       "    </tr>\n",
       "    <tr>\n",
       "      <th>2013-01-02</th>\n",
       "      <td>0.252125</td>\n",
       "      <td>0.539947</td>\n",
       "      <td>-0.276371</td>\n",
       "      <td>0.649606</td>\n",
       "    </tr>\n",
       "    <tr>\n",
       "      <th>2013-01-05</th>\n",
       "      <td>1.054685</td>\n",
       "      <td>1.430262</td>\n",
       "      <td>-0.084395</td>\n",
       "      <td>0.499660</td>\n",
       "    </tr>\n",
       "    <tr>\n",
       "      <th>2013-01-01</th>\n",
       "      <td>-0.683458</td>\n",
       "      <td>3.796712</td>\n",
       "      <td>-1.016538</td>\n",
       "      <td>0.295862</td>\n",
       "    </tr>\n",
       "  </tbody>\n",
       "</table>\n",
       "</div>"
      ],
      "text/plain": [
       "                   A         B         C         D\n",
       "2013-01-03 -1.698165 -0.219369  1.545618  0.185408\n",
       "2013-01-04  0.442178 -0.100783 -0.567966 -0.443279\n",
       "2013-01-06 -1.362981  0.510188  0.162478 -0.473581\n",
       "2013-01-02  0.252125  0.539947 -0.276371  0.649606\n",
       "2013-01-05  1.054685  1.430262 -0.084395  0.499660\n",
       "2013-01-01 -0.683458  3.796712 -1.016538  0.295862"
      ]
     },
     "execution_count": 28,
     "metadata": {},
     "output_type": "execute_result"
    }
   ],
   "source": [
    "# DataFrame.sort_values() sorts by values:\n",
    "df.sort_values(by=\"B\")"
   ]
  },
  {
   "cell_type": "markdown",
   "id": "16c106fd-8327-470e-8e92-647b1cd31356",
   "metadata": {},
   "source": [
    "## Selection"
   ]
  },
  {
   "cell_type": "markdown",
   "id": "88bdec53-543f-4c90-9f74-b7b0d4684007",
   "metadata": {},
   "source": [
    "While standard Python / NumPy expressions for selecting and setting are intuitive and come in handy for interactive work, for production code, we recommend the optimized pandas data access methods:\n",
    "- `DataFrame.at()`\n",
    "- `DataFrame.iat()`\n",
    "- `DataFrame.loc()`\n",
    "- `DataFrame.iloc()`"
   ]
  },
  {
   "cell_type": "markdown",
   "id": "e15eba0e-fe04-45e6-aa8f-696e4ba406fc",
   "metadata": {},
   "source": [
    "For a DataFrame, passing a single label selects a columns and yields a Series equivalent to `df.A`:\n",
    "\n"
   ]
  },
  {
   "cell_type": "code",
   "execution_count": 29,
   "id": "3c54bd66-fb86-409d-907c-db6f167607ba",
   "metadata": {},
   "outputs": [
    {
     "data": {
      "text/plain": [
       "2013-01-01   -0.683458\n",
       "2013-01-02    0.252125\n",
       "2013-01-03   -1.698165\n",
       "2013-01-04    0.442178\n",
       "2013-01-05    1.054685\n",
       "2013-01-06   -1.362981\n",
       "Freq: D, Name: A, dtype: float64"
      ]
     },
     "execution_count": 29,
     "metadata": {},
     "output_type": "execute_result"
    }
   ],
   "source": [
    "df[\"A\"]\n"
   ]
  },
  {
   "cell_type": "markdown",
   "id": "46882ab0-10f6-416c-9922-0d22a23b1a81",
   "metadata": {},
   "source": [
    "For a DataFrame, passing a slice : selects matching rows:\n",
    "\n"
   ]
  },
  {
   "cell_type": "code",
   "execution_count": 30,
   "id": "e5a1bf59-53a8-40b5-8de2-d61eb08e05f6",
   "metadata": {},
   "outputs": [
    {
     "data": {
      "text/html": [
       "<div>\n",
       "<style scoped>\n",
       "    .dataframe tbody tr th:only-of-type {\n",
       "        vertical-align: middle;\n",
       "    }\n",
       "\n",
       "    .dataframe tbody tr th {\n",
       "        vertical-align: top;\n",
       "    }\n",
       "\n",
       "    .dataframe thead th {\n",
       "        text-align: right;\n",
       "    }\n",
       "</style>\n",
       "<table border=\"1\" class=\"dataframe\">\n",
       "  <thead>\n",
       "    <tr style=\"text-align: right;\">\n",
       "      <th></th>\n",
       "      <th>A</th>\n",
       "      <th>B</th>\n",
       "      <th>C</th>\n",
       "      <th>D</th>\n",
       "    </tr>\n",
       "  </thead>\n",
       "  <tbody>\n",
       "    <tr>\n",
       "      <th>2013-01-01</th>\n",
       "      <td>-0.683458</td>\n",
       "      <td>3.796712</td>\n",
       "      <td>-1.016538</td>\n",
       "      <td>0.295862</td>\n",
       "    </tr>\n",
       "    <tr>\n",
       "      <th>2013-01-02</th>\n",
       "      <td>0.252125</td>\n",
       "      <td>0.539947</td>\n",
       "      <td>-0.276371</td>\n",
       "      <td>0.649606</td>\n",
       "    </tr>\n",
       "    <tr>\n",
       "      <th>2013-01-03</th>\n",
       "      <td>-1.698165</td>\n",
       "      <td>-0.219369</td>\n",
       "      <td>1.545618</td>\n",
       "      <td>0.185408</td>\n",
       "    </tr>\n",
       "  </tbody>\n",
       "</table>\n",
       "</div>"
      ],
      "text/plain": [
       "                   A         B         C         D\n",
       "2013-01-01 -0.683458  3.796712 -1.016538  0.295862\n",
       "2013-01-02  0.252125  0.539947 -0.276371  0.649606\n",
       "2013-01-03 -1.698165 -0.219369  1.545618  0.185408"
      ]
     },
     "execution_count": 30,
     "metadata": {},
     "output_type": "execute_result"
    }
   ],
   "source": [
    "df[0:3]"
   ]
  },
  {
   "cell_type": "code",
   "execution_count": 31,
   "id": "22c049ba-c982-4c00-b9a4-4757b74cf1aa",
   "metadata": {},
   "outputs": [
    {
     "data": {
      "text/html": [
       "<div>\n",
       "<style scoped>\n",
       "    .dataframe tbody tr th:only-of-type {\n",
       "        vertical-align: middle;\n",
       "    }\n",
       "\n",
       "    .dataframe tbody tr th {\n",
       "        vertical-align: top;\n",
       "    }\n",
       "\n",
       "    .dataframe thead th {\n",
       "        text-align: right;\n",
       "    }\n",
       "</style>\n",
       "<table border=\"1\" class=\"dataframe\">\n",
       "  <thead>\n",
       "    <tr style=\"text-align: right;\">\n",
       "      <th></th>\n",
       "      <th>A</th>\n",
       "      <th>B</th>\n",
       "      <th>C</th>\n",
       "      <th>D</th>\n",
       "    </tr>\n",
       "  </thead>\n",
       "  <tbody>\n",
       "    <tr>\n",
       "      <th>2013-01-02</th>\n",
       "      <td>0.252125</td>\n",
       "      <td>0.539947</td>\n",
       "      <td>-0.276371</td>\n",
       "      <td>0.649606</td>\n",
       "    </tr>\n",
       "    <tr>\n",
       "      <th>2013-01-03</th>\n",
       "      <td>-1.698165</td>\n",
       "      <td>-0.219369</td>\n",
       "      <td>1.545618</td>\n",
       "      <td>0.185408</td>\n",
       "    </tr>\n",
       "    <tr>\n",
       "      <th>2013-01-04</th>\n",
       "      <td>0.442178</td>\n",
       "      <td>-0.100783</td>\n",
       "      <td>-0.567966</td>\n",
       "      <td>-0.443279</td>\n",
       "    </tr>\n",
       "  </tbody>\n",
       "</table>\n",
       "</div>"
      ],
      "text/plain": [
       "                   A         B         C         D\n",
       "2013-01-02  0.252125  0.539947 -0.276371  0.649606\n",
       "2013-01-03 -1.698165 -0.219369  1.545618  0.185408\n",
       "2013-01-04  0.442178 -0.100783 -0.567966 -0.443279"
      ]
     },
     "execution_count": 31,
     "metadata": {},
     "output_type": "execute_result"
    }
   ],
   "source": [
    "df[\"20130102\":\"20130104\"]"
   ]
  },
  {
   "cell_type": "markdown",
   "id": "c7609740-27f2-45cd-a6fa-cb84875430db",
   "metadata": {},
   "source": [
    "## Selection by label\n",
    "\n",
    "See more in Selection by Label using `DataFrame.loc()` or `DataFrame.at()`.\n",
    "\n",
    "Selecting a row matching a label:"
   ]
  },
  {
   "cell_type": "code",
   "execution_count": 32,
   "id": "a1c1c5dc",
   "metadata": {},
   "outputs": [
    {
     "data": {
      "text/plain": [
       "DatetimeIndex(['2013-01-01', '2013-01-02', '2013-01-03', '2013-01-04',\n",
       "               '2013-01-05', '2013-01-06'],\n",
       "              dtype='datetime64[ns]', freq='D')"
      ]
     },
     "execution_count": 32,
     "metadata": {},
     "output_type": "execute_result"
    }
   ],
   "source": [
    "dates"
   ]
  },
  {
   "cell_type": "code",
   "execution_count": 33,
   "id": "e1d2c370",
   "metadata": {},
   "outputs": [
    {
     "data": {
      "text/html": [
       "<div>\n",
       "<style scoped>\n",
       "    .dataframe tbody tr th:only-of-type {\n",
       "        vertical-align: middle;\n",
       "    }\n",
       "\n",
       "    .dataframe tbody tr th {\n",
       "        vertical-align: top;\n",
       "    }\n",
       "\n",
       "    .dataframe thead th {\n",
       "        text-align: right;\n",
       "    }\n",
       "</style>\n",
       "<table border=\"1\" class=\"dataframe\">\n",
       "  <thead>\n",
       "    <tr style=\"text-align: right;\">\n",
       "      <th></th>\n",
       "      <th>A</th>\n",
       "      <th>B</th>\n",
       "      <th>C</th>\n",
       "      <th>D</th>\n",
       "    </tr>\n",
       "  </thead>\n",
       "  <tbody>\n",
       "    <tr>\n",
       "      <th>2013-01-01</th>\n",
       "      <td>-0.683458</td>\n",
       "      <td>3.796712</td>\n",
       "      <td>-1.016538</td>\n",
       "      <td>0.295862</td>\n",
       "    </tr>\n",
       "    <tr>\n",
       "      <th>2013-01-02</th>\n",
       "      <td>0.252125</td>\n",
       "      <td>0.539947</td>\n",
       "      <td>-0.276371</td>\n",
       "      <td>0.649606</td>\n",
       "    </tr>\n",
       "    <tr>\n",
       "      <th>2013-01-03</th>\n",
       "      <td>-1.698165</td>\n",
       "      <td>-0.219369</td>\n",
       "      <td>1.545618</td>\n",
       "      <td>0.185408</td>\n",
       "    </tr>\n",
       "    <tr>\n",
       "      <th>2013-01-04</th>\n",
       "      <td>0.442178</td>\n",
       "      <td>-0.100783</td>\n",
       "      <td>-0.567966</td>\n",
       "      <td>-0.443279</td>\n",
       "    </tr>\n",
       "    <tr>\n",
       "      <th>2013-01-05</th>\n",
       "      <td>1.054685</td>\n",
       "      <td>1.430262</td>\n",
       "      <td>-0.084395</td>\n",
       "      <td>0.499660</td>\n",
       "    </tr>\n",
       "    <tr>\n",
       "      <th>2013-01-06</th>\n",
       "      <td>-1.362981</td>\n",
       "      <td>0.510188</td>\n",
       "      <td>0.162478</td>\n",
       "      <td>-0.473581</td>\n",
       "    </tr>\n",
       "  </tbody>\n",
       "</table>\n",
       "</div>"
      ],
      "text/plain": [
       "                   A         B         C         D\n",
       "2013-01-01 -0.683458  3.796712 -1.016538  0.295862\n",
       "2013-01-02  0.252125  0.539947 -0.276371  0.649606\n",
       "2013-01-03 -1.698165 -0.219369  1.545618  0.185408\n",
       "2013-01-04  0.442178 -0.100783 -0.567966 -0.443279\n",
       "2013-01-05  1.054685  1.430262 -0.084395  0.499660\n",
       "2013-01-06 -1.362981  0.510188  0.162478 -0.473581"
      ]
     },
     "execution_count": 33,
     "metadata": {},
     "output_type": "execute_result"
    }
   ],
   "source": [
    "df"
   ]
  },
  {
   "cell_type": "code",
   "execution_count": 34,
   "id": "ac2d3521-2ea7-4863-9155-c511c0217425",
   "metadata": {},
   "outputs": [
    {
     "data": {
      "text/plain": [
       "A   -0.683458\n",
       "B    3.796712\n",
       "C   -1.016538\n",
       "D    0.295862\n",
       "Name: 2013-01-01 00:00:00, dtype: float64"
      ]
     },
     "execution_count": 34,
     "metadata": {},
     "output_type": "execute_result"
    }
   ],
   "source": [
    "df.loc[dates[0]]"
   ]
  },
  {
   "cell_type": "markdown",
   "id": "8b9d7756-dd07-4c57-aedb-cad251f089e5",
   "metadata": {},
   "source": [
    "Selecting all rows `(:)` with a select column labels:\n",
    "\n"
   ]
  },
  {
   "cell_type": "code",
   "execution_count": 26,
   "id": "89b69d15-c005-4cc7-bfc5-b2b2557ebbac",
   "metadata": {},
   "outputs": [
    {
     "data": {
      "text/html": [
       "<div>\n",
       "<style scoped>\n",
       "    .dataframe tbody tr th:only-of-type {\n",
       "        vertical-align: middle;\n",
       "    }\n",
       "\n",
       "    .dataframe tbody tr th {\n",
       "        vertical-align: top;\n",
       "    }\n",
       "\n",
       "    .dataframe thead th {\n",
       "        text-align: right;\n",
       "    }\n",
       "</style>\n",
       "<table border=\"1\" class=\"dataframe\">\n",
       "  <thead>\n",
       "    <tr style=\"text-align: right;\">\n",
       "      <th></th>\n",
       "      <th>A</th>\n",
       "      <th>B</th>\n",
       "    </tr>\n",
       "  </thead>\n",
       "  <tbody>\n",
       "    <tr>\n",
       "      <th>2013-01-01</th>\n",
       "      <td>-2.142933</td>\n",
       "      <td>-0.919831</td>\n",
       "    </tr>\n",
       "    <tr>\n",
       "      <th>2013-01-02</th>\n",
       "      <td>-0.652408</td>\n",
       "      <td>-1.295199</td>\n",
       "    </tr>\n",
       "    <tr>\n",
       "      <th>2013-01-03</th>\n",
       "      <td>-1.823859</td>\n",
       "      <td>0.213019</td>\n",
       "    </tr>\n",
       "    <tr>\n",
       "      <th>2013-01-04</th>\n",
       "      <td>0.808892</td>\n",
       "      <td>-0.871928</td>\n",
       "    </tr>\n",
       "    <tr>\n",
       "      <th>2013-01-05</th>\n",
       "      <td>-1.393803</td>\n",
       "      <td>0.860246</td>\n",
       "    </tr>\n",
       "    <tr>\n",
       "      <th>2013-01-06</th>\n",
       "      <td>1.229415</td>\n",
       "      <td>-0.712939</td>\n",
       "    </tr>\n",
       "  </tbody>\n",
       "</table>\n",
       "</div>"
      ],
      "text/plain": [
       "                   A         B\n",
       "2013-01-01 -2.142933 -0.919831\n",
       "2013-01-02 -0.652408 -1.295199\n",
       "2013-01-03 -1.823859  0.213019\n",
       "2013-01-04  0.808892 -0.871928\n",
       "2013-01-05 -1.393803  0.860246\n",
       "2013-01-06  1.229415 -0.712939"
      ]
     },
     "execution_count": 26,
     "metadata": {},
     "output_type": "execute_result"
    }
   ],
   "source": [
    "df.loc[:, [\"A\", \"B\"]]"
   ]
  },
  {
   "cell_type": "code",
   "execution_count": 27,
   "id": "98b49ce8-9050-4116-897a-6b449d862a3f",
   "metadata": {},
   "outputs": [
    {
     "data": {
      "text/html": [
       "<div>\n",
       "<style scoped>\n",
       "    .dataframe tbody tr th:only-of-type {\n",
       "        vertical-align: middle;\n",
       "    }\n",
       "\n",
       "    .dataframe tbody tr th {\n",
       "        vertical-align: top;\n",
       "    }\n",
       "\n",
       "    .dataframe thead th {\n",
       "        text-align: right;\n",
       "    }\n",
       "</style>\n",
       "<table border=\"1\" class=\"dataframe\">\n",
       "  <thead>\n",
       "    <tr style=\"text-align: right;\">\n",
       "      <th></th>\n",
       "      <th>A</th>\n",
       "      <th>B</th>\n",
       "    </tr>\n",
       "  </thead>\n",
       "  <tbody>\n",
       "    <tr>\n",
       "      <th>2013-01-02</th>\n",
       "      <td>-0.652408</td>\n",
       "      <td>-1.295199</td>\n",
       "    </tr>\n",
       "    <tr>\n",
       "      <th>2013-01-03</th>\n",
       "      <td>-1.823859</td>\n",
       "      <td>0.213019</td>\n",
       "    </tr>\n",
       "    <tr>\n",
       "      <th>2013-01-04</th>\n",
       "      <td>0.808892</td>\n",
       "      <td>-0.871928</td>\n",
       "    </tr>\n",
       "  </tbody>\n",
       "</table>\n",
       "</div>"
      ],
      "text/plain": [
       "                   A         B\n",
       "2013-01-02 -0.652408 -1.295199\n",
       "2013-01-03 -1.823859  0.213019\n",
       "2013-01-04  0.808892 -0.871928"
      ]
     },
     "execution_count": 27,
     "metadata": {},
     "output_type": "execute_result"
    }
   ],
   "source": [
    "# For label slicing, both endpoints are included:\n",
    "df.loc[\"20130102\":\"20130104\", [\"A\", \"B\"]]"
   ]
  },
  {
   "cell_type": "code",
   "execution_count": 28,
   "id": "e9383c8d-1f02-4ca0-8f92-f4bd315ad6f5",
   "metadata": {},
   "outputs": [
    {
     "data": {
      "text/plain": [
       "-2.1429333283118814"
      ]
     },
     "execution_count": 28,
     "metadata": {},
     "output_type": "execute_result"
    }
   ],
   "source": [
    "# Selecting a single row and column label returns a scalar:\n",
    "df.loc[dates[0], \"A\"]"
   ]
  },
  {
   "cell_type": "code",
   "execution_count": 29,
   "id": "edd5858a-6ffc-43c1-b6d2-f926473ed60e",
   "metadata": {},
   "outputs": [
    {
     "data": {
      "text/plain": [
       "-2.1429333283118814"
      ]
     },
     "execution_count": 29,
     "metadata": {},
     "output_type": "execute_result"
    }
   ],
   "source": [
    "# faster \n",
    "df.at[dates[0], \"A\"]"
   ]
  },
  {
   "cell_type": "markdown",
   "id": "45b12a6f-94f1-44aa-b716-207ff2ccd6f9",
   "metadata": {},
   "source": [
    "## Selection by position\n",
    "\n",
    "See more in Selection by Position using` DataFrame.iloc(`) or` DataFrame.iat(`).\n",
    "\n",
    "Select via the position of the passed integers:"
   ]
  },
  {
   "cell_type": "code",
   "execution_count": 35,
   "id": "a8a1ac69",
   "metadata": {},
   "outputs": [
    {
     "data": {
      "text/html": [
       "<div>\n",
       "<style scoped>\n",
       "    .dataframe tbody tr th:only-of-type {\n",
       "        vertical-align: middle;\n",
       "    }\n",
       "\n",
       "    .dataframe tbody tr th {\n",
       "        vertical-align: top;\n",
       "    }\n",
       "\n",
       "    .dataframe thead th {\n",
       "        text-align: right;\n",
       "    }\n",
       "</style>\n",
       "<table border=\"1\" class=\"dataframe\">\n",
       "  <thead>\n",
       "    <tr style=\"text-align: right;\">\n",
       "      <th></th>\n",
       "      <th>A</th>\n",
       "      <th>B</th>\n",
       "      <th>C</th>\n",
       "      <th>D</th>\n",
       "    </tr>\n",
       "  </thead>\n",
       "  <tbody>\n",
       "    <tr>\n",
       "      <th>2013-01-01</th>\n",
       "      <td>-0.683458</td>\n",
       "      <td>3.796712</td>\n",
       "      <td>-1.016538</td>\n",
       "      <td>0.295862</td>\n",
       "    </tr>\n",
       "    <tr>\n",
       "      <th>2013-01-02</th>\n",
       "      <td>0.252125</td>\n",
       "      <td>0.539947</td>\n",
       "      <td>-0.276371</td>\n",
       "      <td>0.649606</td>\n",
       "    </tr>\n",
       "    <tr>\n",
       "      <th>2013-01-03</th>\n",
       "      <td>-1.698165</td>\n",
       "      <td>-0.219369</td>\n",
       "      <td>1.545618</td>\n",
       "      <td>0.185408</td>\n",
       "    </tr>\n",
       "    <tr>\n",
       "      <th>2013-01-04</th>\n",
       "      <td>0.442178</td>\n",
       "      <td>-0.100783</td>\n",
       "      <td>-0.567966</td>\n",
       "      <td>-0.443279</td>\n",
       "    </tr>\n",
       "    <tr>\n",
       "      <th>2013-01-05</th>\n",
       "      <td>1.054685</td>\n",
       "      <td>1.430262</td>\n",
       "      <td>-0.084395</td>\n",
       "      <td>0.499660</td>\n",
       "    </tr>\n",
       "    <tr>\n",
       "      <th>2013-01-06</th>\n",
       "      <td>-1.362981</td>\n",
       "      <td>0.510188</td>\n",
       "      <td>0.162478</td>\n",
       "      <td>-0.473581</td>\n",
       "    </tr>\n",
       "  </tbody>\n",
       "</table>\n",
       "</div>"
      ],
      "text/plain": [
       "                   A         B         C         D\n",
       "2013-01-01 -0.683458  3.796712 -1.016538  0.295862\n",
       "2013-01-02  0.252125  0.539947 -0.276371  0.649606\n",
       "2013-01-03 -1.698165 -0.219369  1.545618  0.185408\n",
       "2013-01-04  0.442178 -0.100783 -0.567966 -0.443279\n",
       "2013-01-05  1.054685  1.430262 -0.084395  0.499660\n",
       "2013-01-06 -1.362981  0.510188  0.162478 -0.473581"
      ]
     },
     "execution_count": 35,
     "metadata": {},
     "output_type": "execute_result"
    }
   ],
   "source": [
    "df"
   ]
  },
  {
   "cell_type": "code",
   "execution_count": 36,
   "id": "b83a4bbb-b710-4333-bed9-c5421b21799a",
   "metadata": {},
   "outputs": [
    {
     "data": {
      "text/plain": [
       "A    0.442178\n",
       "B   -0.100783\n",
       "C   -0.567966\n",
       "D   -0.443279\n",
       "Name: 2013-01-04 00:00:00, dtype: float64"
      ]
     },
     "execution_count": 36,
     "metadata": {},
     "output_type": "execute_result"
    }
   ],
   "source": [
    "df.iloc[3]"
   ]
  },
  {
   "cell_type": "code",
   "execution_count": 31,
   "id": "12ad55d8-ae5b-4c7c-843c-d1e789611832",
   "metadata": {},
   "outputs": [
    {
     "data": {
      "text/html": [
       "<div>\n",
       "<style scoped>\n",
       "    .dataframe tbody tr th:only-of-type {\n",
       "        vertical-align: middle;\n",
       "    }\n",
       "\n",
       "    .dataframe tbody tr th {\n",
       "        vertical-align: top;\n",
       "    }\n",
       "\n",
       "    .dataframe thead th {\n",
       "        text-align: right;\n",
       "    }\n",
       "</style>\n",
       "<table border=\"1\" class=\"dataframe\">\n",
       "  <thead>\n",
       "    <tr style=\"text-align: right;\">\n",
       "      <th></th>\n",
       "      <th>A</th>\n",
       "      <th>B</th>\n",
       "    </tr>\n",
       "  </thead>\n",
       "  <tbody>\n",
       "    <tr>\n",
       "      <th>2013-01-04</th>\n",
       "      <td>0.808892</td>\n",
       "      <td>-0.871928</td>\n",
       "    </tr>\n",
       "    <tr>\n",
       "      <th>2013-01-05</th>\n",
       "      <td>-1.393803</td>\n",
       "      <td>0.860246</td>\n",
       "    </tr>\n",
       "  </tbody>\n",
       "</table>\n",
       "</div>"
      ],
      "text/plain": [
       "                   A         B\n",
       "2013-01-04  0.808892 -0.871928\n",
       "2013-01-05 -1.393803  0.860246"
      ]
     },
     "execution_count": 31,
     "metadata": {},
     "output_type": "execute_result"
    }
   ],
   "source": [
    "df.iloc[3:5, 0:2]"
   ]
  },
  {
   "cell_type": "code",
   "execution_count": 33,
   "id": "834b7aaf-724f-4406-80c3-163086c71d46",
   "metadata": {},
   "outputs": [
    {
     "data": {
      "text/html": [
       "<div>\n",
       "<style scoped>\n",
       "    .dataframe tbody tr th:only-of-type {\n",
       "        vertical-align: middle;\n",
       "    }\n",
       "\n",
       "    .dataframe tbody tr th {\n",
       "        vertical-align: top;\n",
       "    }\n",
       "\n",
       "    .dataframe thead th {\n",
       "        text-align: right;\n",
       "    }\n",
       "</style>\n",
       "<table border=\"1\" class=\"dataframe\">\n",
       "  <thead>\n",
       "    <tr style=\"text-align: right;\">\n",
       "      <th></th>\n",
       "      <th>A</th>\n",
       "      <th>C</th>\n",
       "    </tr>\n",
       "  </thead>\n",
       "  <tbody>\n",
       "    <tr>\n",
       "      <th>2013-01-02</th>\n",
       "      <td>-0.652408</td>\n",
       "      <td>0.610316</td>\n",
       "    </tr>\n",
       "    <tr>\n",
       "      <th>2013-01-03</th>\n",
       "      <td>-1.823859</td>\n",
       "      <td>-1.083522</td>\n",
       "    </tr>\n",
       "    <tr>\n",
       "      <th>2013-01-05</th>\n",
       "      <td>-1.393803</td>\n",
       "      <td>-0.094055</td>\n",
       "    </tr>\n",
       "  </tbody>\n",
       "</table>\n",
       "</div>"
      ],
      "text/plain": [
       "                   A         C\n",
       "2013-01-02 -0.652408  0.610316\n",
       "2013-01-03 -1.823859 -1.083522\n",
       "2013-01-05 -1.393803 -0.094055"
      ]
     },
     "execution_count": 33,
     "metadata": {},
     "output_type": "execute_result"
    }
   ],
   "source": [
    "df.iloc[[1, 2, 4], [0, 2]]"
   ]
  },
  {
   "cell_type": "code",
   "execution_count": 34,
   "id": "1992ca36-1efa-409d-8139-cf58a42bce66",
   "metadata": {},
   "outputs": [
    {
     "data": {
      "text/html": [
       "<div>\n",
       "<style scoped>\n",
       "    .dataframe tbody tr th:only-of-type {\n",
       "        vertical-align: middle;\n",
       "    }\n",
       "\n",
       "    .dataframe tbody tr th {\n",
       "        vertical-align: top;\n",
       "    }\n",
       "\n",
       "    .dataframe thead th {\n",
       "        text-align: right;\n",
       "    }\n",
       "</style>\n",
       "<table border=\"1\" class=\"dataframe\">\n",
       "  <thead>\n",
       "    <tr style=\"text-align: right;\">\n",
       "      <th></th>\n",
       "      <th>A</th>\n",
       "      <th>B</th>\n",
       "      <th>C</th>\n",
       "      <th>D</th>\n",
       "    </tr>\n",
       "  </thead>\n",
       "  <tbody>\n",
       "    <tr>\n",
       "      <th>2013-01-02</th>\n",
       "      <td>-0.652408</td>\n",
       "      <td>-1.295199</td>\n",
       "      <td>0.610316</td>\n",
       "      <td>-0.749487</td>\n",
       "    </tr>\n",
       "    <tr>\n",
       "      <th>2013-01-03</th>\n",
       "      <td>-1.823859</td>\n",
       "      <td>0.213019</td>\n",
       "      <td>-1.083522</td>\n",
       "      <td>0.573589</td>\n",
       "    </tr>\n",
       "  </tbody>\n",
       "</table>\n",
       "</div>"
      ],
      "text/plain": [
       "                   A         B         C         D\n",
       "2013-01-02 -0.652408 -1.295199  0.610316 -0.749487\n",
       "2013-01-03 -1.823859  0.213019 -1.083522  0.573589"
      ]
     },
     "execution_count": 34,
     "metadata": {},
     "output_type": "execute_result"
    }
   ],
   "source": [
    "df.iloc[1:3, :]"
   ]
  },
  {
   "cell_type": "code",
   "execution_count": 35,
   "id": "3e6101e7-54cb-4e72-984d-ab443bbaa0f1",
   "metadata": {},
   "outputs": [
    {
     "data": {
      "text/html": [
       "<div>\n",
       "<style scoped>\n",
       "    .dataframe tbody tr th:only-of-type {\n",
       "        vertical-align: middle;\n",
       "    }\n",
       "\n",
       "    .dataframe tbody tr th {\n",
       "        vertical-align: top;\n",
       "    }\n",
       "\n",
       "    .dataframe thead th {\n",
       "        text-align: right;\n",
       "    }\n",
       "</style>\n",
       "<table border=\"1\" class=\"dataframe\">\n",
       "  <thead>\n",
       "    <tr style=\"text-align: right;\">\n",
       "      <th></th>\n",
       "      <th>B</th>\n",
       "      <th>C</th>\n",
       "    </tr>\n",
       "  </thead>\n",
       "  <tbody>\n",
       "    <tr>\n",
       "      <th>2013-01-01</th>\n",
       "      <td>-0.919831</td>\n",
       "      <td>0.388967</td>\n",
       "    </tr>\n",
       "    <tr>\n",
       "      <th>2013-01-02</th>\n",
       "      <td>-1.295199</td>\n",
       "      <td>0.610316</td>\n",
       "    </tr>\n",
       "    <tr>\n",
       "      <th>2013-01-03</th>\n",
       "      <td>0.213019</td>\n",
       "      <td>-1.083522</td>\n",
       "    </tr>\n",
       "    <tr>\n",
       "      <th>2013-01-04</th>\n",
       "      <td>-0.871928</td>\n",
       "      <td>0.617026</td>\n",
       "    </tr>\n",
       "    <tr>\n",
       "      <th>2013-01-05</th>\n",
       "      <td>0.860246</td>\n",
       "      <td>-0.094055</td>\n",
       "    </tr>\n",
       "    <tr>\n",
       "      <th>2013-01-06</th>\n",
       "      <td>-0.712939</td>\n",
       "      <td>0.811714</td>\n",
       "    </tr>\n",
       "  </tbody>\n",
       "</table>\n",
       "</div>"
      ],
      "text/plain": [
       "                   B         C\n",
       "2013-01-01 -0.919831  0.388967\n",
       "2013-01-02 -1.295199  0.610316\n",
       "2013-01-03  0.213019 -1.083522\n",
       "2013-01-04 -0.871928  0.617026\n",
       "2013-01-05  0.860246 -0.094055\n",
       "2013-01-06 -0.712939  0.811714"
      ]
     },
     "execution_count": 35,
     "metadata": {},
     "output_type": "execute_result"
    }
   ],
   "source": [
    "df.iloc[:, 1:3]"
   ]
  },
  {
   "cell_type": "code",
   "execution_count": 36,
   "id": "a2f99d63-326d-41ae-926b-5057eb834a14",
   "metadata": {},
   "outputs": [
    {
     "data": {
      "text/plain": [
       "-1.2951987650123933"
      ]
     },
     "execution_count": 36,
     "metadata": {},
     "output_type": "execute_result"
    }
   ],
   "source": [
    "df.iloc[1, 1]"
   ]
  },
  {
   "cell_type": "code",
   "execution_count": 37,
   "id": "02dbbccc-f4e1-4951-882d-c9cd40881dfb",
   "metadata": {},
   "outputs": [
    {
     "data": {
      "text/plain": [
       "-1.2951987650123933"
      ]
     },
     "execution_count": 37,
     "metadata": {},
     "output_type": "execute_result"
    }
   ],
   "source": [
    "# faster \n",
    "df.iat[1, 1]"
   ]
  },
  {
   "cell_type": "markdown",
   "id": "7e281650-d7ff-450d-b807-095c7e6c7a58",
   "metadata": {},
   "source": [
    "## Boolean indexing"
   ]
  },
  {
   "cell_type": "code",
   "execution_count": 37,
   "id": "f434b107",
   "metadata": {},
   "outputs": [
    {
     "data": {
      "text/html": [
       "<div>\n",
       "<style scoped>\n",
       "    .dataframe tbody tr th:only-of-type {\n",
       "        vertical-align: middle;\n",
       "    }\n",
       "\n",
       "    .dataframe tbody tr th {\n",
       "        vertical-align: top;\n",
       "    }\n",
       "\n",
       "    .dataframe thead th {\n",
       "        text-align: right;\n",
       "    }\n",
       "</style>\n",
       "<table border=\"1\" class=\"dataframe\">\n",
       "  <thead>\n",
       "    <tr style=\"text-align: right;\">\n",
       "      <th></th>\n",
       "      <th>A</th>\n",
       "      <th>B</th>\n",
       "      <th>C</th>\n",
       "      <th>D</th>\n",
       "    </tr>\n",
       "  </thead>\n",
       "  <tbody>\n",
       "    <tr>\n",
       "      <th>2013-01-01</th>\n",
       "      <td>-0.683458</td>\n",
       "      <td>3.796712</td>\n",
       "      <td>-1.016538</td>\n",
       "      <td>0.295862</td>\n",
       "    </tr>\n",
       "    <tr>\n",
       "      <th>2013-01-02</th>\n",
       "      <td>0.252125</td>\n",
       "      <td>0.539947</td>\n",
       "      <td>-0.276371</td>\n",
       "      <td>0.649606</td>\n",
       "    </tr>\n",
       "    <tr>\n",
       "      <th>2013-01-03</th>\n",
       "      <td>-1.698165</td>\n",
       "      <td>-0.219369</td>\n",
       "      <td>1.545618</td>\n",
       "      <td>0.185408</td>\n",
       "    </tr>\n",
       "    <tr>\n",
       "      <th>2013-01-04</th>\n",
       "      <td>0.442178</td>\n",
       "      <td>-0.100783</td>\n",
       "      <td>-0.567966</td>\n",
       "      <td>-0.443279</td>\n",
       "    </tr>\n",
       "    <tr>\n",
       "      <th>2013-01-05</th>\n",
       "      <td>1.054685</td>\n",
       "      <td>1.430262</td>\n",
       "      <td>-0.084395</td>\n",
       "      <td>0.499660</td>\n",
       "    </tr>\n",
       "    <tr>\n",
       "      <th>2013-01-06</th>\n",
       "      <td>-1.362981</td>\n",
       "      <td>0.510188</td>\n",
       "      <td>0.162478</td>\n",
       "      <td>-0.473581</td>\n",
       "    </tr>\n",
       "  </tbody>\n",
       "</table>\n",
       "</div>"
      ],
      "text/plain": [
       "                   A         B         C         D\n",
       "2013-01-01 -0.683458  3.796712 -1.016538  0.295862\n",
       "2013-01-02  0.252125  0.539947 -0.276371  0.649606\n",
       "2013-01-03 -1.698165 -0.219369  1.545618  0.185408\n",
       "2013-01-04  0.442178 -0.100783 -0.567966 -0.443279\n",
       "2013-01-05  1.054685  1.430262 -0.084395  0.499660\n",
       "2013-01-06 -1.362981  0.510188  0.162478 -0.473581"
      ]
     },
     "execution_count": 37,
     "metadata": {},
     "output_type": "execute_result"
    }
   ],
   "source": [
    "df"
   ]
  },
  {
   "cell_type": "code",
   "execution_count": 40,
   "id": "c7cff643-5551-4977-bf3d-538882c1bac4",
   "metadata": {},
   "outputs": [
    {
     "data": {
      "text/html": [
       "<div>\n",
       "<style scoped>\n",
       "    .dataframe tbody tr th:only-of-type {\n",
       "        vertical-align: middle;\n",
       "    }\n",
       "\n",
       "    .dataframe tbody tr th {\n",
       "        vertical-align: top;\n",
       "    }\n",
       "\n",
       "    .dataframe thead th {\n",
       "        text-align: right;\n",
       "    }\n",
       "</style>\n",
       "<table border=\"1\" class=\"dataframe\">\n",
       "  <thead>\n",
       "    <tr style=\"text-align: right;\">\n",
       "      <th></th>\n",
       "      <th>A</th>\n",
       "      <th>B</th>\n",
       "      <th>C</th>\n",
       "      <th>D</th>\n",
       "    </tr>\n",
       "  </thead>\n",
       "  <tbody>\n",
       "    <tr>\n",
       "      <th>2013-01-02</th>\n",
       "      <td>0.252125</td>\n",
       "      <td>0.539947</td>\n",
       "      <td>-0.276371</td>\n",
       "      <td>0.649606</td>\n",
       "    </tr>\n",
       "    <tr>\n",
       "      <th>2013-01-04</th>\n",
       "      <td>0.442178</td>\n",
       "      <td>-0.100783</td>\n",
       "      <td>-0.567966</td>\n",
       "      <td>-0.443279</td>\n",
       "    </tr>\n",
       "    <tr>\n",
       "      <th>2013-01-05</th>\n",
       "      <td>1.054685</td>\n",
       "      <td>1.430262</td>\n",
       "      <td>-0.084395</td>\n",
       "      <td>0.499660</td>\n",
       "    </tr>\n",
       "  </tbody>\n",
       "</table>\n",
       "</div>"
      ],
      "text/plain": [
       "                   A         B         C         D\n",
       "2013-01-02  0.252125  0.539947 -0.276371  0.649606\n",
       "2013-01-04  0.442178 -0.100783 -0.567966 -0.443279\n",
       "2013-01-05  1.054685  1.430262 -0.084395  0.499660"
      ]
     },
     "execution_count": 40,
     "metadata": {},
     "output_type": "execute_result"
    }
   ],
   "source": [
    "df[(df[\"A\"] > 0) & (df[\"C\"] < 0.1)]"
   ]
  },
  {
   "cell_type": "code",
   "execution_count": 39,
   "id": "3adbb970-8c78-4826-86aa-38a1415e2040",
   "metadata": {},
   "outputs": [
    {
     "data": {
      "text/html": [
       "<div>\n",
       "<style scoped>\n",
       "    .dataframe tbody tr th:only-of-type {\n",
       "        vertical-align: middle;\n",
       "    }\n",
       "\n",
       "    .dataframe tbody tr th {\n",
       "        vertical-align: top;\n",
       "    }\n",
       "\n",
       "    .dataframe thead th {\n",
       "        text-align: right;\n",
       "    }\n",
       "</style>\n",
       "<table border=\"1\" class=\"dataframe\">\n",
       "  <thead>\n",
       "    <tr style=\"text-align: right;\">\n",
       "      <th></th>\n",
       "      <th>A</th>\n",
       "      <th>B</th>\n",
       "      <th>C</th>\n",
       "      <th>D</th>\n",
       "    </tr>\n",
       "  </thead>\n",
       "  <tbody>\n",
       "    <tr>\n",
       "      <th>2013-01-01</th>\n",
       "      <td>NaN</td>\n",
       "      <td>NaN</td>\n",
       "      <td>0.388967</td>\n",
       "      <td>NaN</td>\n",
       "    </tr>\n",
       "    <tr>\n",
       "      <th>2013-01-02</th>\n",
       "      <td>NaN</td>\n",
       "      <td>NaN</td>\n",
       "      <td>0.610316</td>\n",
       "      <td>NaN</td>\n",
       "    </tr>\n",
       "    <tr>\n",
       "      <th>2013-01-03</th>\n",
       "      <td>NaN</td>\n",
       "      <td>0.213019</td>\n",
       "      <td>NaN</td>\n",
       "      <td>0.573589</td>\n",
       "    </tr>\n",
       "    <tr>\n",
       "      <th>2013-01-04</th>\n",
       "      <td>0.808892</td>\n",
       "      <td>NaN</td>\n",
       "      <td>0.617026</td>\n",
       "      <td>NaN</td>\n",
       "    </tr>\n",
       "    <tr>\n",
       "      <th>2013-01-05</th>\n",
       "      <td>NaN</td>\n",
       "      <td>0.860246</td>\n",
       "      <td>NaN</td>\n",
       "      <td>0.092548</td>\n",
       "    </tr>\n",
       "    <tr>\n",
       "      <th>2013-01-06</th>\n",
       "      <td>1.229415</td>\n",
       "      <td>NaN</td>\n",
       "      <td>0.811714</td>\n",
       "      <td>3.010295</td>\n",
       "    </tr>\n",
       "  </tbody>\n",
       "</table>\n",
       "</div>"
      ],
      "text/plain": [
       "                   A         B         C         D\n",
       "2013-01-01       NaN       NaN  0.388967       NaN\n",
       "2013-01-02       NaN       NaN  0.610316       NaN\n",
       "2013-01-03       NaN  0.213019       NaN  0.573589\n",
       "2013-01-04  0.808892       NaN  0.617026       NaN\n",
       "2013-01-05       NaN  0.860246       NaN  0.092548\n",
       "2013-01-06  1.229415       NaN  0.811714  3.010295"
      ]
     },
     "execution_count": 39,
     "metadata": {},
     "output_type": "execute_result"
    }
   ],
   "source": [
    "df[df > 0]"
   ]
  },
  {
   "cell_type": "code",
   "execution_count": 43,
   "id": "a29efcd0-5b9f-48fb-abe6-59ae7a2d3751",
   "metadata": {},
   "outputs": [
    {
     "data": {
      "text/html": [
       "<div>\n",
       "<style scoped>\n",
       "    .dataframe tbody tr th:only-of-type {\n",
       "        vertical-align: middle;\n",
       "    }\n",
       "\n",
       "    .dataframe tbody tr th {\n",
       "        vertical-align: top;\n",
       "    }\n",
       "\n",
       "    .dataframe thead th {\n",
       "        text-align: right;\n",
       "    }\n",
       "</style>\n",
       "<table border=\"1\" class=\"dataframe\">\n",
       "  <thead>\n",
       "    <tr style=\"text-align: right;\">\n",
       "      <th></th>\n",
       "      <th>A</th>\n",
       "      <th>B</th>\n",
       "      <th>C</th>\n",
       "      <th>D</th>\n",
       "      <th>E</th>\n",
       "    </tr>\n",
       "  </thead>\n",
       "  <tbody>\n",
       "    <tr>\n",
       "      <th>2013-01-01</th>\n",
       "      <td>-2.142933</td>\n",
       "      <td>-0.919831</td>\n",
       "      <td>0.388967</td>\n",
       "      <td>-0.096977</td>\n",
       "      <td>one</td>\n",
       "    </tr>\n",
       "    <tr>\n",
       "      <th>2013-01-02</th>\n",
       "      <td>-0.652408</td>\n",
       "      <td>-1.295199</td>\n",
       "      <td>0.610316</td>\n",
       "      <td>-0.749487</td>\n",
       "      <td>one</td>\n",
       "    </tr>\n",
       "    <tr>\n",
       "      <th>2013-01-03</th>\n",
       "      <td>-1.823859</td>\n",
       "      <td>0.213019</td>\n",
       "      <td>-1.083522</td>\n",
       "      <td>0.573589</td>\n",
       "      <td>two</td>\n",
       "    </tr>\n",
       "    <tr>\n",
       "      <th>2013-01-04</th>\n",
       "      <td>0.808892</td>\n",
       "      <td>-0.871928</td>\n",
       "      <td>0.617026</td>\n",
       "      <td>-0.273238</td>\n",
       "      <td>three</td>\n",
       "    </tr>\n",
       "    <tr>\n",
       "      <th>2013-01-05</th>\n",
       "      <td>-1.393803</td>\n",
       "      <td>0.860246</td>\n",
       "      <td>-0.094055</td>\n",
       "      <td>0.092548</td>\n",
       "      <td>four</td>\n",
       "    </tr>\n",
       "    <tr>\n",
       "      <th>2013-01-06</th>\n",
       "      <td>1.229415</td>\n",
       "      <td>-0.712939</td>\n",
       "      <td>0.811714</td>\n",
       "      <td>3.010295</td>\n",
       "      <td>three</td>\n",
       "    </tr>\n",
       "  </tbody>\n",
       "</table>\n",
       "</div>"
      ],
      "text/plain": [
       "                   A         B         C         D      E\n",
       "2013-01-01 -2.142933 -0.919831  0.388967 -0.096977    one\n",
       "2013-01-02 -0.652408 -1.295199  0.610316 -0.749487    one\n",
       "2013-01-03 -1.823859  0.213019 -1.083522  0.573589    two\n",
       "2013-01-04  0.808892 -0.871928  0.617026 -0.273238  three\n",
       "2013-01-05 -1.393803  0.860246 -0.094055  0.092548   four\n",
       "2013-01-06  1.229415 -0.712939  0.811714  3.010295  three"
      ]
     },
     "execution_count": 43,
     "metadata": {},
     "output_type": "execute_result"
    }
   ],
   "source": [
    "df2 = df.copy()\n",
    "df2[\"E\"] = [\"one\", \"one\", \"two\", \"three\", \"four\", \"three\"]\n",
    "df2"
   ]
  },
  {
   "cell_type": "code",
   "execution_count": 44,
   "id": "64424e40-f227-49aa-9c52-e8b2b54e08b7",
   "metadata": {},
   "outputs": [
    {
     "data": {
      "text/html": [
       "<div>\n",
       "<style scoped>\n",
       "    .dataframe tbody tr th:only-of-type {\n",
       "        vertical-align: middle;\n",
       "    }\n",
       "\n",
       "    .dataframe tbody tr th {\n",
       "        vertical-align: top;\n",
       "    }\n",
       "\n",
       "    .dataframe thead th {\n",
       "        text-align: right;\n",
       "    }\n",
       "</style>\n",
       "<table border=\"1\" class=\"dataframe\">\n",
       "  <thead>\n",
       "    <tr style=\"text-align: right;\">\n",
       "      <th></th>\n",
       "      <th>A</th>\n",
       "      <th>B</th>\n",
       "      <th>C</th>\n",
       "      <th>D</th>\n",
       "      <th>E</th>\n",
       "    </tr>\n",
       "  </thead>\n",
       "  <tbody>\n",
       "    <tr>\n",
       "      <th>2013-01-03</th>\n",
       "      <td>-1.823859</td>\n",
       "      <td>0.213019</td>\n",
       "      <td>-1.083522</td>\n",
       "      <td>0.573589</td>\n",
       "      <td>two</td>\n",
       "    </tr>\n",
       "    <tr>\n",
       "      <th>2013-01-05</th>\n",
       "      <td>-1.393803</td>\n",
       "      <td>0.860246</td>\n",
       "      <td>-0.094055</td>\n",
       "      <td>0.092548</td>\n",
       "      <td>four</td>\n",
       "    </tr>\n",
       "  </tbody>\n",
       "</table>\n",
       "</div>"
      ],
      "text/plain": [
       "                   A         B         C         D     E\n",
       "2013-01-03 -1.823859  0.213019 -1.083522  0.573589   two\n",
       "2013-01-05 -1.393803  0.860246 -0.094055  0.092548  four"
      ]
     },
     "execution_count": 44,
     "metadata": {},
     "output_type": "execute_result"
    }
   ],
   "source": [
    "# filtering using isin\n",
    "\n",
    "df2[df2[\"E\"].isin([\"two\", \"four\"])]"
   ]
  },
  {
   "cell_type": "markdown",
   "id": "8ff42b9b-d93d-4031-96e8-acc8dc90e08e",
   "metadata": {},
   "source": [
    "## Setting\n",
    "Setting a new column automatically aligns the data by the indexes:\n",
    "\n"
   ]
  },
  {
   "cell_type": "code",
   "execution_count": 46,
   "id": "17dfdfab-f39d-4bdd-a50d-aa2352c2c4b3",
   "metadata": {},
   "outputs": [],
   "source": [
    "s1 = pd.Series([1, 2, 3, 4, 5, 6], index=pd.date_range(\"20130102\", periods=6))"
   ]
  },
  {
   "cell_type": "code",
   "execution_count": 47,
   "id": "59192753-0c85-42cf-bcd4-792f03ccb5d8",
   "metadata": {},
   "outputs": [
    {
     "data": {
      "text/plain": [
       "2013-01-02    1\n",
       "2013-01-03    2\n",
       "2013-01-04    3\n",
       "2013-01-05    4\n",
       "2013-01-06    5\n",
       "2013-01-07    6\n",
       "Freq: D, dtype: int64"
      ]
     },
     "execution_count": 47,
     "metadata": {},
     "output_type": "execute_result"
    }
   ],
   "source": [
    "s1"
   ]
  },
  {
   "cell_type": "code",
   "execution_count": 49,
   "id": "0468799b-87ae-4b28-b2d0-b8821fe614cb",
   "metadata": {},
   "outputs": [],
   "source": [
    "# setting by label\n",
    "df.at[dates[0], \"A\"] = 0\n"
   ]
  },
  {
   "cell_type": "code",
   "execution_count": 50,
   "id": "92d4083c-7488-437f-bc49-8870f02ca437",
   "metadata": {},
   "outputs": [],
   "source": [
    "# setting by position\n",
    "df.iat[0, 1] = 0"
   ]
  },
  {
   "cell_type": "code",
   "execution_count": 51,
   "id": "6310c3f0-b6b9-4fee-92c9-7a4fd86ac7fc",
   "metadata": {},
   "outputs": [],
   "source": [
    "# setting by assignment\n",
    "df.loc[:, \"D\"] = np.array([5] * len(df))\n"
   ]
  },
  {
   "cell_type": "code",
   "execution_count": 52,
   "id": "f7a40f5e-6086-4ad5-a8ca-9e684e702bf9",
   "metadata": {},
   "outputs": [
    {
     "data": {
      "text/html": [
       "<div>\n",
       "<style scoped>\n",
       "    .dataframe tbody tr th:only-of-type {\n",
       "        vertical-align: middle;\n",
       "    }\n",
       "\n",
       "    .dataframe tbody tr th {\n",
       "        vertical-align: top;\n",
       "    }\n",
       "\n",
       "    .dataframe thead th {\n",
       "        text-align: right;\n",
       "    }\n",
       "</style>\n",
       "<table border=\"1\" class=\"dataframe\">\n",
       "  <thead>\n",
       "    <tr style=\"text-align: right;\">\n",
       "      <th></th>\n",
       "      <th>A</th>\n",
       "      <th>B</th>\n",
       "      <th>C</th>\n",
       "      <th>D</th>\n",
       "    </tr>\n",
       "  </thead>\n",
       "  <tbody>\n",
       "    <tr>\n",
       "      <th>2013-01-01</th>\n",
       "      <td>0.000000</td>\n",
       "      <td>0.000000</td>\n",
       "      <td>0.388967</td>\n",
       "      <td>5.0</td>\n",
       "    </tr>\n",
       "    <tr>\n",
       "      <th>2013-01-02</th>\n",
       "      <td>-0.652408</td>\n",
       "      <td>-1.295199</td>\n",
       "      <td>0.610316</td>\n",
       "      <td>5.0</td>\n",
       "    </tr>\n",
       "    <tr>\n",
       "      <th>2013-01-03</th>\n",
       "      <td>-1.823859</td>\n",
       "      <td>0.213019</td>\n",
       "      <td>-1.083522</td>\n",
       "      <td>5.0</td>\n",
       "    </tr>\n",
       "    <tr>\n",
       "      <th>2013-01-04</th>\n",
       "      <td>0.808892</td>\n",
       "      <td>-0.871928</td>\n",
       "      <td>0.617026</td>\n",
       "      <td>5.0</td>\n",
       "    </tr>\n",
       "    <tr>\n",
       "      <th>2013-01-05</th>\n",
       "      <td>-1.393803</td>\n",
       "      <td>0.860246</td>\n",
       "      <td>-0.094055</td>\n",
       "      <td>5.0</td>\n",
       "    </tr>\n",
       "    <tr>\n",
       "      <th>2013-01-06</th>\n",
       "      <td>1.229415</td>\n",
       "      <td>-0.712939</td>\n",
       "      <td>0.811714</td>\n",
       "      <td>5.0</td>\n",
       "    </tr>\n",
       "  </tbody>\n",
       "</table>\n",
       "</div>"
      ],
      "text/plain": [
       "                   A         B         C    D\n",
       "2013-01-01  0.000000  0.000000  0.388967  5.0\n",
       "2013-01-02 -0.652408 -1.295199  0.610316  5.0\n",
       "2013-01-03 -1.823859  0.213019 -1.083522  5.0\n",
       "2013-01-04  0.808892 -0.871928  0.617026  5.0\n",
       "2013-01-05 -1.393803  0.860246 -0.094055  5.0\n",
       "2013-01-06  1.229415 -0.712939  0.811714  5.0"
      ]
     },
     "execution_count": 52,
     "metadata": {},
     "output_type": "execute_result"
    }
   ],
   "source": [
    "df"
   ]
  },
  {
   "cell_type": "code",
   "execution_count": 53,
   "id": "15a33339-adb1-4145-a7cb-94d3a7ee2501",
   "metadata": {},
   "outputs": [
    {
     "data": {
      "text/html": [
       "<div>\n",
       "<style scoped>\n",
       "    .dataframe tbody tr th:only-of-type {\n",
       "        vertical-align: middle;\n",
       "    }\n",
       "\n",
       "    .dataframe tbody tr th {\n",
       "        vertical-align: top;\n",
       "    }\n",
       "\n",
       "    .dataframe thead th {\n",
       "        text-align: right;\n",
       "    }\n",
       "</style>\n",
       "<table border=\"1\" class=\"dataframe\">\n",
       "  <thead>\n",
       "    <tr style=\"text-align: right;\">\n",
       "      <th></th>\n",
       "      <th>A</th>\n",
       "      <th>B</th>\n",
       "      <th>C</th>\n",
       "      <th>D</th>\n",
       "    </tr>\n",
       "  </thead>\n",
       "  <tbody>\n",
       "    <tr>\n",
       "      <th>2013-01-01</th>\n",
       "      <td>0.000000</td>\n",
       "      <td>0.000000</td>\n",
       "      <td>-0.388967</td>\n",
       "      <td>-5.0</td>\n",
       "    </tr>\n",
       "    <tr>\n",
       "      <th>2013-01-02</th>\n",
       "      <td>-0.652408</td>\n",
       "      <td>-1.295199</td>\n",
       "      <td>-0.610316</td>\n",
       "      <td>-5.0</td>\n",
       "    </tr>\n",
       "    <tr>\n",
       "      <th>2013-01-03</th>\n",
       "      <td>-1.823859</td>\n",
       "      <td>-0.213019</td>\n",
       "      <td>-1.083522</td>\n",
       "      <td>-5.0</td>\n",
       "    </tr>\n",
       "    <tr>\n",
       "      <th>2013-01-04</th>\n",
       "      <td>-0.808892</td>\n",
       "      <td>-0.871928</td>\n",
       "      <td>-0.617026</td>\n",
       "      <td>-5.0</td>\n",
       "    </tr>\n",
       "    <tr>\n",
       "      <th>2013-01-05</th>\n",
       "      <td>-1.393803</td>\n",
       "      <td>-0.860246</td>\n",
       "      <td>-0.094055</td>\n",
       "      <td>-5.0</td>\n",
       "    </tr>\n",
       "    <tr>\n",
       "      <th>2013-01-06</th>\n",
       "      <td>-1.229415</td>\n",
       "      <td>-0.712939</td>\n",
       "      <td>-0.811714</td>\n",
       "      <td>-5.0</td>\n",
       "    </tr>\n",
       "  </tbody>\n",
       "</table>\n",
       "</div>"
      ],
      "text/plain": [
       "                   A         B         C    D\n",
       "2013-01-01  0.000000  0.000000 -0.388967 -5.0\n",
       "2013-01-02 -0.652408 -1.295199 -0.610316 -5.0\n",
       "2013-01-03 -1.823859 -0.213019 -1.083522 -5.0\n",
       "2013-01-04 -0.808892 -0.871928 -0.617026 -5.0\n",
       "2013-01-05 -1.393803 -0.860246 -0.094055 -5.0\n",
       "2013-01-06 -1.229415 -0.712939 -0.811714 -5.0"
      ]
     },
     "execution_count": 53,
     "metadata": {},
     "output_type": "execute_result"
    }
   ],
   "source": [
    "df2 = df.copy()\n",
    "df2[df2 > 0] = -df2\n",
    "df2"
   ]
  },
  {
   "cell_type": "markdown",
   "id": "7c8a4812-dad3-4088-8838-a5d70ba10add",
   "metadata": {},
   "source": [
    "## Missing data"
   ]
  },
  {
   "cell_type": "markdown",
   "id": "6b55ec65-fb7f-4820-8367-5d10c8838f35",
   "metadata": {},
   "source": [
    "For NumPy data types, `np.nan` represents missing data. \n",
    "It is by default not included in computations. \n",
    "\n",
    "Reindexing allows you to change/add/delete the index on a specified axis. This returns a copy of the data:"
   ]
  },
  {
   "cell_type": "code",
   "execution_count": 55,
   "id": "6ce2f067-12b8-4d87-930e-3956e89d3f49",
   "metadata": {},
   "outputs": [],
   "source": [
    "df1 = df.reindex(index=dates[0:4], columns=list(df.columns) + [\"E\"])"
   ]
  },
  {
   "cell_type": "code",
   "execution_count": 56,
   "id": "fcf22d69-2d66-431e-8f19-19f221e102c9",
   "metadata": {},
   "outputs": [],
   "source": [
    "df1.loc[dates[0] : dates[1], \"E\"] = 1"
   ]
  },
  {
   "cell_type": "code",
   "execution_count": 57,
   "id": "9b91a670-6ff3-4c75-b928-1337742a27dd",
   "metadata": {},
   "outputs": [
    {
     "data": {
      "text/html": [
       "<div>\n",
       "<style scoped>\n",
       "    .dataframe tbody tr th:only-of-type {\n",
       "        vertical-align: middle;\n",
       "    }\n",
       "\n",
       "    .dataframe tbody tr th {\n",
       "        vertical-align: top;\n",
       "    }\n",
       "\n",
       "    .dataframe thead th {\n",
       "        text-align: right;\n",
       "    }\n",
       "</style>\n",
       "<table border=\"1\" class=\"dataframe\">\n",
       "  <thead>\n",
       "    <tr style=\"text-align: right;\">\n",
       "      <th></th>\n",
       "      <th>A</th>\n",
       "      <th>B</th>\n",
       "      <th>C</th>\n",
       "      <th>D</th>\n",
       "      <th>E</th>\n",
       "    </tr>\n",
       "  </thead>\n",
       "  <tbody>\n",
       "    <tr>\n",
       "      <th>2013-01-01</th>\n",
       "      <td>0.187772</td>\n",
       "      <td>0.483595</td>\n",
       "      <td>-0.031297</td>\n",
       "      <td>0.214045</td>\n",
       "      <td>1.0</td>\n",
       "    </tr>\n",
       "    <tr>\n",
       "      <th>2013-01-02</th>\n",
       "      <td>-0.475598</td>\n",
       "      <td>1.220424</td>\n",
       "      <td>-0.656457</td>\n",
       "      <td>1.346357</td>\n",
       "      <td>1.0</td>\n",
       "    </tr>\n",
       "    <tr>\n",
       "      <th>2013-01-03</th>\n",
       "      <td>1.778614</td>\n",
       "      <td>-1.409747</td>\n",
       "      <td>-0.710553</td>\n",
       "      <td>0.989969</td>\n",
       "      <td>NaN</td>\n",
       "    </tr>\n",
       "    <tr>\n",
       "      <th>2013-01-04</th>\n",
       "      <td>-0.244300</td>\n",
       "      <td>1.438121</td>\n",
       "      <td>-1.454807</td>\n",
       "      <td>-0.051501</td>\n",
       "      <td>NaN</td>\n",
       "    </tr>\n",
       "  </tbody>\n",
       "</table>\n",
       "</div>"
      ],
      "text/plain": [
       "                   A         B         C         D    E\n",
       "2013-01-01  0.187772  0.483595 -0.031297  0.214045  1.0\n",
       "2013-01-02 -0.475598  1.220424 -0.656457  1.346357  1.0\n",
       "2013-01-03  1.778614 -1.409747 -0.710553  0.989969  NaN\n",
       "2013-01-04 -0.244300  1.438121 -1.454807 -0.051501  NaN"
      ]
     },
     "execution_count": 57,
     "metadata": {},
     "output_type": "execute_result"
    }
   ],
   "source": [
    "df1"
   ]
  },
  {
   "cell_type": "code",
   "execution_count": 58,
   "id": "99fad944-ead8-4a61-804b-e47f4c8139f3",
   "metadata": {},
   "outputs": [
    {
     "data": {
      "text/html": [
       "<div>\n",
       "<style scoped>\n",
       "    .dataframe tbody tr th:only-of-type {\n",
       "        vertical-align: middle;\n",
       "    }\n",
       "\n",
       "    .dataframe tbody tr th {\n",
       "        vertical-align: top;\n",
       "    }\n",
       "\n",
       "    .dataframe thead th {\n",
       "        text-align: right;\n",
       "    }\n",
       "</style>\n",
       "<table border=\"1\" class=\"dataframe\">\n",
       "  <thead>\n",
       "    <tr style=\"text-align: right;\">\n",
       "      <th></th>\n",
       "      <th>A</th>\n",
       "      <th>B</th>\n",
       "      <th>C</th>\n",
       "      <th>D</th>\n",
       "      <th>E</th>\n",
       "    </tr>\n",
       "  </thead>\n",
       "  <tbody>\n",
       "    <tr>\n",
       "      <th>2013-01-01</th>\n",
       "      <td>0.187772</td>\n",
       "      <td>0.483595</td>\n",
       "      <td>-0.031297</td>\n",
       "      <td>0.214045</td>\n",
       "      <td>1.0</td>\n",
       "    </tr>\n",
       "    <tr>\n",
       "      <th>2013-01-02</th>\n",
       "      <td>-0.475598</td>\n",
       "      <td>1.220424</td>\n",
       "      <td>-0.656457</td>\n",
       "      <td>1.346357</td>\n",
       "      <td>1.0</td>\n",
       "    </tr>\n",
       "  </tbody>\n",
       "</table>\n",
       "</div>"
      ],
      "text/plain": [
       "                   A         B         C         D    E\n",
       "2013-01-01  0.187772  0.483595 -0.031297  0.214045  1.0\n",
       "2013-01-02 -0.475598  1.220424 -0.656457  1.346357  1.0"
      ]
     },
     "execution_count": 58,
     "metadata": {},
     "output_type": "execute_result"
    }
   ],
   "source": [
    "# DataFrame.dropna() drops any rows that have missing data:\n",
    "df1.dropna(how=\"any\")"
   ]
  },
  {
   "cell_type": "code",
   "execution_count": 59,
   "id": "d4f86174-297f-4199-82bf-a430cb86180c",
   "metadata": {},
   "outputs": [
    {
     "data": {
      "text/html": [
       "<div>\n",
       "<style scoped>\n",
       "    .dataframe tbody tr th:only-of-type {\n",
       "        vertical-align: middle;\n",
       "    }\n",
       "\n",
       "    .dataframe tbody tr th {\n",
       "        vertical-align: top;\n",
       "    }\n",
       "\n",
       "    .dataframe thead th {\n",
       "        text-align: right;\n",
       "    }\n",
       "</style>\n",
       "<table border=\"1\" class=\"dataframe\">\n",
       "  <thead>\n",
       "    <tr style=\"text-align: right;\">\n",
       "      <th></th>\n",
       "      <th>A</th>\n",
       "      <th>B</th>\n",
       "      <th>C</th>\n",
       "      <th>D</th>\n",
       "      <th>E</th>\n",
       "    </tr>\n",
       "  </thead>\n",
       "  <tbody>\n",
       "    <tr>\n",
       "      <th>2013-01-01</th>\n",
       "      <td>0.187772</td>\n",
       "      <td>0.483595</td>\n",
       "      <td>-0.031297</td>\n",
       "      <td>0.214045</td>\n",
       "      <td>1.0</td>\n",
       "    </tr>\n",
       "    <tr>\n",
       "      <th>2013-01-02</th>\n",
       "      <td>-0.475598</td>\n",
       "      <td>1.220424</td>\n",
       "      <td>-0.656457</td>\n",
       "      <td>1.346357</td>\n",
       "      <td>1.0</td>\n",
       "    </tr>\n",
       "    <tr>\n",
       "      <th>2013-01-03</th>\n",
       "      <td>1.778614</td>\n",
       "      <td>-1.409747</td>\n",
       "      <td>-0.710553</td>\n",
       "      <td>0.989969</td>\n",
       "      <td>5.0</td>\n",
       "    </tr>\n",
       "    <tr>\n",
       "      <th>2013-01-04</th>\n",
       "      <td>-0.244300</td>\n",
       "      <td>1.438121</td>\n",
       "      <td>-1.454807</td>\n",
       "      <td>-0.051501</td>\n",
       "      <td>5.0</td>\n",
       "    </tr>\n",
       "  </tbody>\n",
       "</table>\n",
       "</div>"
      ],
      "text/plain": [
       "                   A         B         C         D    E\n",
       "2013-01-01  0.187772  0.483595 -0.031297  0.214045  1.0\n",
       "2013-01-02 -0.475598  1.220424 -0.656457  1.346357  1.0\n",
       "2013-01-03  1.778614 -1.409747 -0.710553  0.989969  5.0\n",
       "2013-01-04 -0.244300  1.438121 -1.454807 -0.051501  5.0"
      ]
     },
     "execution_count": 59,
     "metadata": {},
     "output_type": "execute_result"
    }
   ],
   "source": [
    "# DataFrame.fillna() fills missing data:\n",
    "df1.fillna(value=5)"
   ]
  },
  {
   "cell_type": "code",
   "execution_count": 60,
   "id": "6e5e41bb-d672-47f8-9473-9e54eacbddc1",
   "metadata": {},
   "outputs": [
    {
     "data": {
      "text/html": [
       "<div>\n",
       "<style scoped>\n",
       "    .dataframe tbody tr th:only-of-type {\n",
       "        vertical-align: middle;\n",
       "    }\n",
       "\n",
       "    .dataframe tbody tr th {\n",
       "        vertical-align: top;\n",
       "    }\n",
       "\n",
       "    .dataframe thead th {\n",
       "        text-align: right;\n",
       "    }\n",
       "</style>\n",
       "<table border=\"1\" class=\"dataframe\">\n",
       "  <thead>\n",
       "    <tr style=\"text-align: right;\">\n",
       "      <th></th>\n",
       "      <th>A</th>\n",
       "      <th>B</th>\n",
       "      <th>C</th>\n",
       "      <th>D</th>\n",
       "      <th>E</th>\n",
       "    </tr>\n",
       "  </thead>\n",
       "  <tbody>\n",
       "    <tr>\n",
       "      <th>2013-01-01</th>\n",
       "      <td>False</td>\n",
       "      <td>False</td>\n",
       "      <td>False</td>\n",
       "      <td>False</td>\n",
       "      <td>False</td>\n",
       "    </tr>\n",
       "    <tr>\n",
       "      <th>2013-01-02</th>\n",
       "      <td>False</td>\n",
       "      <td>False</td>\n",
       "      <td>False</td>\n",
       "      <td>False</td>\n",
       "      <td>False</td>\n",
       "    </tr>\n",
       "    <tr>\n",
       "      <th>2013-01-03</th>\n",
       "      <td>False</td>\n",
       "      <td>False</td>\n",
       "      <td>False</td>\n",
       "      <td>False</td>\n",
       "      <td>True</td>\n",
       "    </tr>\n",
       "    <tr>\n",
       "      <th>2013-01-04</th>\n",
       "      <td>False</td>\n",
       "      <td>False</td>\n",
       "      <td>False</td>\n",
       "      <td>False</td>\n",
       "      <td>True</td>\n",
       "    </tr>\n",
       "  </tbody>\n",
       "</table>\n",
       "</div>"
      ],
      "text/plain": [
       "                A      B      C      D      E\n",
       "2013-01-01  False  False  False  False  False\n",
       "2013-01-02  False  False  False  False  False\n",
       "2013-01-03  False  False  False  False   True\n",
       "2013-01-04  False  False  False  False   True"
      ]
     },
     "execution_count": 60,
     "metadata": {},
     "output_type": "execute_result"
    }
   ],
   "source": [
    "# isna() gets the boolean mask where values are nan:\n",
    "pd.isna(df1)"
   ]
  },
  {
   "cell_type": "code",
   "execution_count": 62,
   "id": "e9e4a67e",
   "metadata": {},
   "outputs": [
    {
     "data": {
      "text/plain": [
       "True"
      ]
     },
     "execution_count": 62,
     "metadata": {},
     "output_type": "execute_result"
    }
   ],
   "source": [
    "pd.isna(df1).any().any()"
   ]
  },
  {
   "cell_type": "markdown",
   "id": "47dd0540-5dfc-4802-bab3-2befcd01a2ae",
   "metadata": {},
   "source": [
    "## Operations"
   ]
  },
  {
   "cell_type": "code",
   "execution_count": 48,
   "id": "9b11914f-ebc8-4048-9411-76ca7988eff3",
   "metadata": {},
   "outputs": [
    {
     "data": {
      "text/html": [
       "<div>\n",
       "<style scoped>\n",
       "    .dataframe tbody tr th:only-of-type {\n",
       "        vertical-align: middle;\n",
       "    }\n",
       "\n",
       "    .dataframe tbody tr th {\n",
       "        vertical-align: top;\n",
       "    }\n",
       "\n",
       "    .dataframe thead th {\n",
       "        text-align: right;\n",
       "    }\n",
       "</style>\n",
       "<table border=\"1\" class=\"dataframe\">\n",
       "  <thead>\n",
       "    <tr style=\"text-align: right;\">\n",
       "      <th></th>\n",
       "      <th>A</th>\n",
       "      <th>B</th>\n",
       "      <th>C</th>\n",
       "      <th>D</th>\n",
       "    </tr>\n",
       "  </thead>\n",
       "  <tbody>\n",
       "    <tr>\n",
       "      <th>2013-01-01</th>\n",
       "      <td>0.187772</td>\n",
       "      <td>0.483595</td>\n",
       "      <td>-0.031297</td>\n",
       "      <td>0.214045</td>\n",
       "    </tr>\n",
       "    <tr>\n",
       "      <th>2013-01-02</th>\n",
       "      <td>-0.475598</td>\n",
       "      <td>1.220424</td>\n",
       "      <td>-0.656457</td>\n",
       "      <td>1.346357</td>\n",
       "    </tr>\n",
       "    <tr>\n",
       "      <th>2013-01-03</th>\n",
       "      <td>1.778614</td>\n",
       "      <td>-1.409747</td>\n",
       "      <td>-0.710553</td>\n",
       "      <td>0.989969</td>\n",
       "    </tr>\n",
       "    <tr>\n",
       "      <th>2013-01-04</th>\n",
       "      <td>-0.244300</td>\n",
       "      <td>1.438121</td>\n",
       "      <td>-1.454807</td>\n",
       "      <td>-0.051501</td>\n",
       "    </tr>\n",
       "    <tr>\n",
       "      <th>2013-01-05</th>\n",
       "      <td>0.767371</td>\n",
       "      <td>-2.234320</td>\n",
       "      <td>0.153770</td>\n",
       "      <td>-0.003748</td>\n",
       "    </tr>\n",
       "    <tr>\n",
       "      <th>2013-01-06</th>\n",
       "      <td>0.916263</td>\n",
       "      <td>1.325839</td>\n",
       "      <td>-1.839756</td>\n",
       "      <td>0.275991</td>\n",
       "    </tr>\n",
       "  </tbody>\n",
       "</table>\n",
       "</div>"
      ],
      "text/plain": [
       "                   A         B         C         D\n",
       "2013-01-01  0.187772  0.483595 -0.031297  0.214045\n",
       "2013-01-02 -0.475598  1.220424 -0.656457  1.346357\n",
       "2013-01-03  1.778614 -1.409747 -0.710553  0.989969\n",
       "2013-01-04 -0.244300  1.438121 -1.454807 -0.051501\n",
       "2013-01-05  0.767371 -2.234320  0.153770 -0.003748\n",
       "2013-01-06  0.916263  1.325839 -1.839756  0.275991"
      ]
     },
     "execution_count": 48,
     "metadata": {},
     "output_type": "execute_result"
    }
   ],
   "source": [
    "df"
   ]
  },
  {
   "cell_type": "code",
   "execution_count": 49,
   "id": "32afad30-41a4-4346-803f-80b278e894fe",
   "metadata": {},
   "outputs": [
    {
     "data": {
      "text/plain": [
       "A    0.488354\n",
       "B    0.137318\n",
       "C   -0.756517\n",
       "D    0.461852\n",
       "dtype: float64"
      ]
     },
     "execution_count": 49,
     "metadata": {},
     "output_type": "execute_result"
    }
   ],
   "source": [
    "df.mean()\n"
   ]
  },
  {
   "cell_type": "code",
   "execution_count": 50,
   "id": "959df9f0-85d6-4f33-8715-27949119db39",
   "metadata": {},
   "outputs": [
    {
     "data": {
      "text/plain": [
       "2013-01-01    0.213529\n",
       "2013-01-02    0.358681\n",
       "2013-01-03    0.162071\n",
       "2013-01-04   -0.078122\n",
       "2013-01-05   -0.329232\n",
       "2013-01-06    0.169584\n",
       "Freq: D, dtype: float64"
      ]
     },
     "execution_count": 50,
     "metadata": {},
     "output_type": "execute_result"
    }
   ],
   "source": [
    "df.mean(axis=1)"
   ]
  },
  {
   "cell_type": "markdown",
   "id": "173c79a0-7797-4ba7-950f-af3df170cec2",
   "metadata": {},
   "source": [
    "Operating with another `Series` or `DataFrame` with a different index or column will align the result with the union of the index or column labels. In addition, pandas automatically broadcasts along the specified dimension and will fill unaligned labels with `np.nan`."
   ]
  },
  {
   "cell_type": "code",
   "execution_count": 51,
   "id": "0a7235f8-4505-423b-94a6-3d4325f6e2bd",
   "metadata": {},
   "outputs": [],
   "source": [
    "s = pd.Series([1, 3, 5, np.nan, 6, 8], index=dates).shift(2)"
   ]
  },
  {
   "cell_type": "code",
   "execution_count": 52,
   "id": "823d1bd2-a228-4f0e-855e-634d0b2cc8c6",
   "metadata": {},
   "outputs": [
    {
     "data": {
      "text/plain": [
       "2013-01-01    NaN\n",
       "2013-01-02    NaN\n",
       "2013-01-03    1.0\n",
       "2013-01-04    3.0\n",
       "2013-01-05    5.0\n",
       "2013-01-06    NaN\n",
       "Freq: D, dtype: float64"
      ]
     },
     "execution_count": 52,
     "metadata": {},
     "output_type": "execute_result"
    }
   ],
   "source": [
    "s"
   ]
  },
  {
   "cell_type": "code",
   "execution_count": 53,
   "id": "a0a7583d-1abb-4eb1-882f-7507b45cc6bd",
   "metadata": {},
   "outputs": [
    {
     "data": {
      "text/html": [
       "<div>\n",
       "<style scoped>\n",
       "    .dataframe tbody tr th:only-of-type {\n",
       "        vertical-align: middle;\n",
       "    }\n",
       "\n",
       "    .dataframe tbody tr th {\n",
       "        vertical-align: top;\n",
       "    }\n",
       "\n",
       "    .dataframe thead th {\n",
       "        text-align: right;\n",
       "    }\n",
       "</style>\n",
       "<table border=\"1\" class=\"dataframe\">\n",
       "  <thead>\n",
       "    <tr style=\"text-align: right;\">\n",
       "      <th></th>\n",
       "      <th>A</th>\n",
       "      <th>B</th>\n",
       "      <th>C</th>\n",
       "      <th>D</th>\n",
       "    </tr>\n",
       "  </thead>\n",
       "  <tbody>\n",
       "    <tr>\n",
       "      <th>2013-01-01</th>\n",
       "      <td>NaN</td>\n",
       "      <td>NaN</td>\n",
       "      <td>NaN</td>\n",
       "      <td>NaN</td>\n",
       "    </tr>\n",
       "    <tr>\n",
       "      <th>2013-01-02</th>\n",
       "      <td>NaN</td>\n",
       "      <td>NaN</td>\n",
       "      <td>NaN</td>\n",
       "      <td>NaN</td>\n",
       "    </tr>\n",
       "    <tr>\n",
       "      <th>2013-01-03</th>\n",
       "      <td>0.778614</td>\n",
       "      <td>-2.409747</td>\n",
       "      <td>-1.710553</td>\n",
       "      <td>-0.010031</td>\n",
       "    </tr>\n",
       "    <tr>\n",
       "      <th>2013-01-04</th>\n",
       "      <td>-3.244300</td>\n",
       "      <td>-1.561879</td>\n",
       "      <td>-4.454807</td>\n",
       "      <td>-3.051501</td>\n",
       "    </tr>\n",
       "    <tr>\n",
       "      <th>2013-01-05</th>\n",
       "      <td>-4.232629</td>\n",
       "      <td>-7.234320</td>\n",
       "      <td>-4.846230</td>\n",
       "      <td>-5.003748</td>\n",
       "    </tr>\n",
       "    <tr>\n",
       "      <th>2013-01-06</th>\n",
       "      <td>NaN</td>\n",
       "      <td>NaN</td>\n",
       "      <td>NaN</td>\n",
       "      <td>NaN</td>\n",
       "    </tr>\n",
       "  </tbody>\n",
       "</table>\n",
       "</div>"
      ],
      "text/plain": [
       "                   A         B         C         D\n",
       "2013-01-01       NaN       NaN       NaN       NaN\n",
       "2013-01-02       NaN       NaN       NaN       NaN\n",
       "2013-01-03  0.778614 -2.409747 -1.710553 -0.010031\n",
       "2013-01-04 -3.244300 -1.561879 -4.454807 -3.051501\n",
       "2013-01-05 -4.232629 -7.234320 -4.846230 -5.003748\n",
       "2013-01-06       NaN       NaN       NaN       NaN"
      ]
     },
     "execution_count": 53,
     "metadata": {},
     "output_type": "execute_result"
    }
   ],
   "source": [
    "df.sub(s, axis=\"index\")"
   ]
  },
  {
   "cell_type": "markdown",
   "id": "d2a5998c-9a6e-4a47-9647-ebcb0ee0b070",
   "metadata": {},
   "source": [
    "## User defined functions"
   ]
  },
  {
   "cell_type": "markdown",
   "id": "5285dd22-b268-4e71-9cf1-599f84c6cdf6",
   "metadata": {},
   "source": [
    "`DataFrame.agg()` and `DataFrame.transform()` applies a user defined function that reduces or broadcasts its result respectively."
   ]
  },
  {
   "cell_type": "code",
   "execution_count": 63,
   "id": "06e356da",
   "metadata": {},
   "outputs": [
    {
     "data": {
      "text/html": [
       "<div>\n",
       "<style scoped>\n",
       "    .dataframe tbody tr th:only-of-type {\n",
       "        vertical-align: middle;\n",
       "    }\n",
       "\n",
       "    .dataframe tbody tr th {\n",
       "        vertical-align: top;\n",
       "    }\n",
       "\n",
       "    .dataframe thead th {\n",
       "        text-align: right;\n",
       "    }\n",
       "</style>\n",
       "<table border=\"1\" class=\"dataframe\">\n",
       "  <thead>\n",
       "    <tr style=\"text-align: right;\">\n",
       "      <th></th>\n",
       "      <th>A</th>\n",
       "      <th>B</th>\n",
       "      <th>C</th>\n",
       "      <th>D</th>\n",
       "    </tr>\n",
       "  </thead>\n",
       "  <tbody>\n",
       "    <tr>\n",
       "      <th>2013-01-01</th>\n",
       "      <td>0.187772</td>\n",
       "      <td>0.483595</td>\n",
       "      <td>-0.031297</td>\n",
       "      <td>0.214045</td>\n",
       "    </tr>\n",
       "    <tr>\n",
       "      <th>2013-01-02</th>\n",
       "      <td>-0.475598</td>\n",
       "      <td>1.220424</td>\n",
       "      <td>-0.656457</td>\n",
       "      <td>1.346357</td>\n",
       "    </tr>\n",
       "    <tr>\n",
       "      <th>2013-01-03</th>\n",
       "      <td>1.778614</td>\n",
       "      <td>-1.409747</td>\n",
       "      <td>-0.710553</td>\n",
       "      <td>0.989969</td>\n",
       "    </tr>\n",
       "    <tr>\n",
       "      <th>2013-01-04</th>\n",
       "      <td>-0.244300</td>\n",
       "      <td>1.438121</td>\n",
       "      <td>-1.454807</td>\n",
       "      <td>-0.051501</td>\n",
       "    </tr>\n",
       "    <tr>\n",
       "      <th>2013-01-05</th>\n",
       "      <td>0.767371</td>\n",
       "      <td>-2.234320</td>\n",
       "      <td>0.153770</td>\n",
       "      <td>-0.003748</td>\n",
       "    </tr>\n",
       "    <tr>\n",
       "      <th>2013-01-06</th>\n",
       "      <td>0.916263</td>\n",
       "      <td>1.325839</td>\n",
       "      <td>-1.839756</td>\n",
       "      <td>0.275991</td>\n",
       "    </tr>\n",
       "  </tbody>\n",
       "</table>\n",
       "</div>"
      ],
      "text/plain": [
       "                   A         B         C         D\n",
       "2013-01-01  0.187772  0.483595 -0.031297  0.214045\n",
       "2013-01-02 -0.475598  1.220424 -0.656457  1.346357\n",
       "2013-01-03  1.778614 -1.409747 -0.710553  0.989969\n",
       "2013-01-04 -0.244300  1.438121 -1.454807 -0.051501\n",
       "2013-01-05  0.767371 -2.234320  0.153770 -0.003748\n",
       "2013-01-06  0.916263  1.325839 -1.839756  0.275991"
      ]
     },
     "execution_count": 63,
     "metadata": {},
     "output_type": "execute_result"
    }
   ],
   "source": [
    "df"
   ]
  },
  {
   "cell_type": "code",
   "execution_count": 54,
   "id": "84f7a4bf-ed05-4216-a023-537b9b5b9be4",
   "metadata": {},
   "outputs": [
    {
     "data": {
      "text/plain": [
       "A    2.734781\n",
       "B    0.768983\n",
       "C   -4.236494\n",
       "D    2.586372\n",
       "dtype: float64"
      ]
     },
     "execution_count": 54,
     "metadata": {},
     "output_type": "execute_result"
    }
   ],
   "source": [
    "df.agg(lambda x: np.mean(x) * 5.6)"
   ]
  },
  {
   "cell_type": "code",
   "execution_count": 68,
   "id": "1a705fa3-140c-4afe-9be6-cecf390833cd",
   "metadata": {},
   "outputs": [
    {
     "data": {
      "text/html": [
       "<div>\n",
       "<style scoped>\n",
       "    .dataframe tbody tr th:only-of-type {\n",
       "        vertical-align: middle;\n",
       "    }\n",
       "\n",
       "    .dataframe tbody tr th {\n",
       "        vertical-align: top;\n",
       "    }\n",
       "\n",
       "    .dataframe thead th {\n",
       "        text-align: right;\n",
       "    }\n",
       "</style>\n",
       "<table border=\"1\" class=\"dataframe\">\n",
       "  <thead>\n",
       "    <tr style=\"text-align: right;\">\n",
       "      <th></th>\n",
       "      <th>A</th>\n",
       "      <th>B</th>\n",
       "      <th>C</th>\n",
       "      <th>D</th>\n",
       "    </tr>\n",
       "  </thead>\n",
       "  <tbody>\n",
       "    <tr>\n",
       "      <th>2013-01-01</th>\n",
       "      <td>0.000000</td>\n",
       "      <td>0.000000</td>\n",
       "      <td>39.363420</td>\n",
       "      <td>506.0</td>\n",
       "    </tr>\n",
       "    <tr>\n",
       "      <th>2013-01-02</th>\n",
       "      <td>-66.023723</td>\n",
       "      <td>-131.074115</td>\n",
       "      <td>61.763933</td>\n",
       "      <td>506.0</td>\n",
       "    </tr>\n",
       "    <tr>\n",
       "      <th>2013-01-03</th>\n",
       "      <td>-184.574546</td>\n",
       "      <td>21.557568</td>\n",
       "      <td>-109.652448</td>\n",
       "      <td>506.0</td>\n",
       "    </tr>\n",
       "    <tr>\n",
       "      <th>2013-01-04</th>\n",
       "      <td>81.859858</td>\n",
       "      <td>-88.239098</td>\n",
       "      <td>62.442987</td>\n",
       "      <td>506.0</td>\n",
       "    </tr>\n",
       "    <tr>\n",
       "      <th>2013-01-05</th>\n",
       "      <td>-141.052842</td>\n",
       "      <td>87.056899</td>\n",
       "      <td>-9.518376</td>\n",
       "      <td>506.0</td>\n",
       "    </tr>\n",
       "    <tr>\n",
       "      <th>2013-01-06</th>\n",
       "      <td>124.416804</td>\n",
       "      <td>-72.149386</td>\n",
       "      <td>82.145457</td>\n",
       "      <td>506.0</td>\n",
       "    </tr>\n",
       "  </tbody>\n",
       "</table>\n",
       "</div>"
      ],
      "text/plain": [
       "                     A           B           C      D\n",
       "2013-01-01    0.000000    0.000000   39.363420  506.0\n",
       "2013-01-02  -66.023723 -131.074115   61.763933  506.0\n",
       "2013-01-03 -184.574546   21.557568 -109.652448  506.0\n",
       "2013-01-04   81.859858  -88.239098   62.442987  506.0\n",
       "2013-01-05 -141.052842   87.056899   -9.518376  506.0\n",
       "2013-01-06  124.416804  -72.149386   82.145457  506.0"
      ]
     },
     "execution_count": 68,
     "metadata": {},
     "output_type": "execute_result"
    }
   ],
   "source": [
    "df.transform(lambda x: x * 101.2)"
   ]
  },
  {
   "cell_type": "markdown",
   "id": "953fa81c-8a53-4f66-829d-f88cd061bf60",
   "metadata": {},
   "source": [
    "## Value Counts"
   ]
  },
  {
   "cell_type": "code",
   "execution_count": 69,
   "id": "bc7505a7-af99-4124-8ecf-b3e164d3b4c3",
   "metadata": {},
   "outputs": [
    {
     "data": {
      "text/plain": [
       "0    2\n",
       "1    4\n",
       "2    2\n",
       "3    3\n",
       "4    2\n",
       "5    0\n",
       "6    5\n",
       "7    3\n",
       "8    5\n",
       "9    6\n",
       "dtype: int64"
      ]
     },
     "execution_count": 69,
     "metadata": {},
     "output_type": "execute_result"
    }
   ],
   "source": [
    "s = pd.Series(np.random.randint(0, 7, size=10))\n",
    "s"
   ]
  },
  {
   "cell_type": "code",
   "execution_count": 70,
   "id": "0d59ddb8-9a62-415f-b16c-e0590e810afe",
   "metadata": {},
   "outputs": [
    {
     "data": {
      "text/plain": [
       "2    3\n",
       "3    2\n",
       "5    2\n",
       "4    1\n",
       "0    1\n",
       "6    1\n",
       "Name: count, dtype: int64"
      ]
     },
     "execution_count": 70,
     "metadata": {},
     "output_type": "execute_result"
    }
   ],
   "source": [
    "s.value_counts()"
   ]
  },
  {
   "cell_type": "markdown",
   "id": "5d3ec9e0-2447-44ac-a217-63ff830743c7",
   "metadata": {},
   "source": [
    "## String Methods"
   ]
  },
  {
   "cell_type": "markdown",
   "id": "dae9d527-74c4-4521-8b6f-b35e5b1e3237",
   "metadata": {},
   "source": [
    "`Series` is equipped with a set of string processing methods in the `str` attribute that make it easy to operate on each element of the array, as in the code snippet below. See more at [Vectorized String Methods](https://pandas.pydata.org/docs/user_guide/text.html#text-string-methods)'."
   ]
  },
  {
   "cell_type": "code",
   "execution_count": 71,
   "id": "c49e9af1-8fb5-45b9-9af7-7dd3c21b4637",
   "metadata": {},
   "outputs": [
    {
     "data": {
      "text/plain": [
       "0       a\n",
       "1       b\n",
       "2       c\n",
       "3    aaba\n",
       "4    baca\n",
       "5     NaN\n",
       "6    caba\n",
       "7     dog\n",
       "8     cat\n",
       "dtype: object"
      ]
     },
     "execution_count": 71,
     "metadata": {},
     "output_type": "execute_result"
    }
   ],
   "source": [
    "s = pd.Series([\"A\", \"B\", \"C\", \"Aaba\", \"Baca\", np.nan, \"CABA\", \"dog\", \"cat\"])\n",
    "s.str.lower()"
   ]
  },
  {
   "cell_type": "markdown",
   "id": "a708044e-f74c-4386-9b2e-64b119e88406",
   "metadata": {},
   "source": [
    "## Concat"
   ]
  },
  {
   "cell_type": "markdown",
   "id": "0d0c8842-6553-4dbb-a1ad-0930289ac1ab",
   "metadata": {},
   "source": [
    "pandas provides various facilities for easily combining together Series` and DataFrame objects with various kinds of set logic for the indexes and relational algebra functionality in the case of join / merge-type operations.\n",
    "\n",
    "See the [Merging section](https://pandas.pydata.org/docs/user_guide/merging.html#merging).\n",
    "\n",
    "Concatenating pandas objects together row-wise with `concat()`:"
   ]
  },
  {
   "cell_type": "code",
   "execution_count": 64,
   "id": "e036450f-92e3-41c7-b3ea-14d056b8ab56",
   "metadata": {},
   "outputs": [],
   "source": [
    "df = pd.DataFrame(np.random.randn(10, 4))\n",
    "pieces = [df[:3], df[3:7], df[7:]]\n",
    "df1 = pd.concat(pieces)"
   ]
  },
  {
   "cell_type": "code",
   "execution_count": 65,
   "id": "a0b32100-293a-4f16-951f-6baee72e7da2",
   "metadata": {},
   "outputs": [
    {
     "data": {
      "text/html": [
       "<div>\n",
       "<style scoped>\n",
       "    .dataframe tbody tr th:only-of-type {\n",
       "        vertical-align: middle;\n",
       "    }\n",
       "\n",
       "    .dataframe tbody tr th {\n",
       "        vertical-align: top;\n",
       "    }\n",
       "\n",
       "    .dataframe thead th {\n",
       "        text-align: right;\n",
       "    }\n",
       "</style>\n",
       "<table border=\"1\" class=\"dataframe\">\n",
       "  <thead>\n",
       "    <tr style=\"text-align: right;\">\n",
       "      <th></th>\n",
       "      <th>0</th>\n",
       "      <th>1</th>\n",
       "      <th>2</th>\n",
       "      <th>3</th>\n",
       "    </tr>\n",
       "  </thead>\n",
       "  <tbody>\n",
       "    <tr>\n",
       "      <th>0</th>\n",
       "      <td>1.161245</td>\n",
       "      <td>-1.689605</td>\n",
       "      <td>0.212501</td>\n",
       "      <td>0.604730</td>\n",
       "    </tr>\n",
       "    <tr>\n",
       "      <th>1</th>\n",
       "      <td>0.688916</td>\n",
       "      <td>-1.894878</td>\n",
       "      <td>0.900608</td>\n",
       "      <td>1.382980</td>\n",
       "    </tr>\n",
       "    <tr>\n",
       "      <th>2</th>\n",
       "      <td>-0.240503</td>\n",
       "      <td>2.223762</td>\n",
       "      <td>0.434532</td>\n",
       "      <td>0.723551</td>\n",
       "    </tr>\n",
       "    <tr>\n",
       "      <th>3</th>\n",
       "      <td>-0.334617</td>\n",
       "      <td>1.232590</td>\n",
       "      <td>-0.736885</td>\n",
       "      <td>-0.738327</td>\n",
       "    </tr>\n",
       "    <tr>\n",
       "      <th>4</th>\n",
       "      <td>-0.204399</td>\n",
       "      <td>0.042472</td>\n",
       "      <td>0.619476</td>\n",
       "      <td>-1.218318</td>\n",
       "    </tr>\n",
       "    <tr>\n",
       "      <th>5</th>\n",
       "      <td>-1.949979</td>\n",
       "      <td>0.967746</td>\n",
       "      <td>-0.618492</td>\n",
       "      <td>1.881661</td>\n",
       "    </tr>\n",
       "    <tr>\n",
       "      <th>6</th>\n",
       "      <td>-1.866132</td>\n",
       "      <td>2.005535</td>\n",
       "      <td>-0.369335</td>\n",
       "      <td>-0.518591</td>\n",
       "    </tr>\n",
       "    <tr>\n",
       "      <th>7</th>\n",
       "      <td>0.067667</td>\n",
       "      <td>-1.013928</td>\n",
       "      <td>-0.002665</td>\n",
       "      <td>-0.120495</td>\n",
       "    </tr>\n",
       "    <tr>\n",
       "      <th>8</th>\n",
       "      <td>-0.706661</td>\n",
       "      <td>1.739631</td>\n",
       "      <td>1.219705</td>\n",
       "      <td>0.963450</td>\n",
       "    </tr>\n",
       "    <tr>\n",
       "      <th>9</th>\n",
       "      <td>-1.598782</td>\n",
       "      <td>0.568086</td>\n",
       "      <td>0.950103</td>\n",
       "      <td>0.317117</td>\n",
       "    </tr>\n",
       "  </tbody>\n",
       "</table>\n",
       "</div>"
      ],
      "text/plain": [
       "          0         1         2         3\n",
       "0  1.161245 -1.689605  0.212501  0.604730\n",
       "1  0.688916 -1.894878  0.900608  1.382980\n",
       "2 -0.240503  2.223762  0.434532  0.723551\n",
       "3 -0.334617  1.232590 -0.736885 -0.738327\n",
       "4 -0.204399  0.042472  0.619476 -1.218318\n",
       "5 -1.949979  0.967746 -0.618492  1.881661\n",
       "6 -1.866132  2.005535 -0.369335 -0.518591\n",
       "7  0.067667 -1.013928 -0.002665 -0.120495\n",
       "8 -0.706661  1.739631  1.219705  0.963450\n",
       "9 -1.598782  0.568086  0.950103  0.317117"
      ]
     },
     "execution_count": 65,
     "metadata": {},
     "output_type": "execute_result"
    }
   ],
   "source": [
    "df"
   ]
  },
  {
   "cell_type": "code",
   "execution_count": 66,
   "id": "cfaa95d1-50d4-4b49-bd1c-ee320bd969f1",
   "metadata": {},
   "outputs": [
    {
     "data": {
      "text/html": [
       "<div>\n",
       "<style scoped>\n",
       "    .dataframe tbody tr th:only-of-type {\n",
       "        vertical-align: middle;\n",
       "    }\n",
       "\n",
       "    .dataframe tbody tr th {\n",
       "        vertical-align: top;\n",
       "    }\n",
       "\n",
       "    .dataframe thead th {\n",
       "        text-align: right;\n",
       "    }\n",
       "</style>\n",
       "<table border=\"1\" class=\"dataframe\">\n",
       "  <thead>\n",
       "    <tr style=\"text-align: right;\">\n",
       "      <th></th>\n",
       "      <th>0</th>\n",
       "      <th>1</th>\n",
       "      <th>2</th>\n",
       "      <th>3</th>\n",
       "    </tr>\n",
       "  </thead>\n",
       "  <tbody>\n",
       "    <tr>\n",
       "      <th>0</th>\n",
       "      <td>1.161245</td>\n",
       "      <td>-1.689605</td>\n",
       "      <td>0.212501</td>\n",
       "      <td>0.604730</td>\n",
       "    </tr>\n",
       "    <tr>\n",
       "      <th>1</th>\n",
       "      <td>0.688916</td>\n",
       "      <td>-1.894878</td>\n",
       "      <td>0.900608</td>\n",
       "      <td>1.382980</td>\n",
       "    </tr>\n",
       "    <tr>\n",
       "      <th>2</th>\n",
       "      <td>-0.240503</td>\n",
       "      <td>2.223762</td>\n",
       "      <td>0.434532</td>\n",
       "      <td>0.723551</td>\n",
       "    </tr>\n",
       "    <tr>\n",
       "      <th>3</th>\n",
       "      <td>-0.334617</td>\n",
       "      <td>1.232590</td>\n",
       "      <td>-0.736885</td>\n",
       "      <td>-0.738327</td>\n",
       "    </tr>\n",
       "    <tr>\n",
       "      <th>4</th>\n",
       "      <td>-0.204399</td>\n",
       "      <td>0.042472</td>\n",
       "      <td>0.619476</td>\n",
       "      <td>-1.218318</td>\n",
       "    </tr>\n",
       "    <tr>\n",
       "      <th>5</th>\n",
       "      <td>-1.949979</td>\n",
       "      <td>0.967746</td>\n",
       "      <td>-0.618492</td>\n",
       "      <td>1.881661</td>\n",
       "    </tr>\n",
       "    <tr>\n",
       "      <th>6</th>\n",
       "      <td>-1.866132</td>\n",
       "      <td>2.005535</td>\n",
       "      <td>-0.369335</td>\n",
       "      <td>-0.518591</td>\n",
       "    </tr>\n",
       "    <tr>\n",
       "      <th>7</th>\n",
       "      <td>0.067667</td>\n",
       "      <td>-1.013928</td>\n",
       "      <td>-0.002665</td>\n",
       "      <td>-0.120495</td>\n",
       "    </tr>\n",
       "    <tr>\n",
       "      <th>8</th>\n",
       "      <td>-0.706661</td>\n",
       "      <td>1.739631</td>\n",
       "      <td>1.219705</td>\n",
       "      <td>0.963450</td>\n",
       "    </tr>\n",
       "    <tr>\n",
       "      <th>9</th>\n",
       "      <td>-1.598782</td>\n",
       "      <td>0.568086</td>\n",
       "      <td>0.950103</td>\n",
       "      <td>0.317117</td>\n",
       "    </tr>\n",
       "  </tbody>\n",
       "</table>\n",
       "</div>"
      ],
      "text/plain": [
       "          0         1         2         3\n",
       "0  1.161245 -1.689605  0.212501  0.604730\n",
       "1  0.688916 -1.894878  0.900608  1.382980\n",
       "2 -0.240503  2.223762  0.434532  0.723551\n",
       "3 -0.334617  1.232590 -0.736885 -0.738327\n",
       "4 -0.204399  0.042472  0.619476 -1.218318\n",
       "5 -1.949979  0.967746 -0.618492  1.881661\n",
       "6 -1.866132  2.005535 -0.369335 -0.518591\n",
       "7  0.067667 -1.013928 -0.002665 -0.120495\n",
       "8 -0.706661  1.739631  1.219705  0.963450\n",
       "9 -1.598782  0.568086  0.950103  0.317117"
      ]
     },
     "execution_count": 66,
     "metadata": {},
     "output_type": "execute_result"
    }
   ],
   "source": [
    "df1"
   ]
  },
  {
   "cell_type": "code",
   "execution_count": 68,
   "id": "292e1470",
   "metadata": {},
   "outputs": [
    {
     "data": {
      "text/html": [
       "<div>\n",
       "<style scoped>\n",
       "    .dataframe tbody tr th:only-of-type {\n",
       "        vertical-align: middle;\n",
       "    }\n",
       "\n",
       "    .dataframe tbody tr th {\n",
       "        vertical-align: top;\n",
       "    }\n",
       "\n",
       "    .dataframe thead th {\n",
       "        text-align: right;\n",
       "    }\n",
       "</style>\n",
       "<table border=\"1\" class=\"dataframe\">\n",
       "  <thead>\n",
       "    <tr style=\"text-align: right;\">\n",
       "      <th></th>\n",
       "      <th>0</th>\n",
       "      <th>1</th>\n",
       "      <th>2</th>\n",
       "      <th>3</th>\n",
       "    </tr>\n",
       "  </thead>\n",
       "  <tbody>\n",
       "    <tr>\n",
       "      <th>0</th>\n",
       "      <td>1.161245</td>\n",
       "      <td>-1.689605</td>\n",
       "      <td>0.212501</td>\n",
       "      <td>0.604730</td>\n",
       "    </tr>\n",
       "    <tr>\n",
       "      <th>1</th>\n",
       "      <td>0.688916</td>\n",
       "      <td>-1.894878</td>\n",
       "      <td>0.900608</td>\n",
       "      <td>1.382980</td>\n",
       "    </tr>\n",
       "    <tr>\n",
       "      <th>2</th>\n",
       "      <td>-0.240503</td>\n",
       "      <td>2.223762</td>\n",
       "      <td>0.434532</td>\n",
       "      <td>0.723551</td>\n",
       "    </tr>\n",
       "    <tr>\n",
       "      <th>3</th>\n",
       "      <td>-0.334617</td>\n",
       "      <td>1.232590</td>\n",
       "      <td>-0.736885</td>\n",
       "      <td>-0.738327</td>\n",
       "    </tr>\n",
       "    <tr>\n",
       "      <th>4</th>\n",
       "      <td>-0.204399</td>\n",
       "      <td>0.042472</td>\n",
       "      <td>0.619476</td>\n",
       "      <td>-1.218318</td>\n",
       "    </tr>\n",
       "    <tr>\n",
       "      <th>5</th>\n",
       "      <td>-1.949979</td>\n",
       "      <td>0.967746</td>\n",
       "      <td>-0.618492</td>\n",
       "      <td>1.881661</td>\n",
       "    </tr>\n",
       "    <tr>\n",
       "      <th>6</th>\n",
       "      <td>-1.866132</td>\n",
       "      <td>2.005535</td>\n",
       "      <td>-0.369335</td>\n",
       "      <td>-0.518591</td>\n",
       "    </tr>\n",
       "    <tr>\n",
       "      <th>7</th>\n",
       "      <td>0.067667</td>\n",
       "      <td>-1.013928</td>\n",
       "      <td>-0.002665</td>\n",
       "      <td>-0.120495</td>\n",
       "    </tr>\n",
       "    <tr>\n",
       "      <th>8</th>\n",
       "      <td>-0.706661</td>\n",
       "      <td>1.739631</td>\n",
       "      <td>1.219705</td>\n",
       "      <td>0.963450</td>\n",
       "    </tr>\n",
       "    <tr>\n",
       "      <th>9</th>\n",
       "      <td>-1.598782</td>\n",
       "      <td>0.568086</td>\n",
       "      <td>0.950103</td>\n",
       "      <td>0.317117</td>\n",
       "    </tr>\n",
       "    <tr>\n",
       "      <th>10</th>\n",
       "      <td>1.161245</td>\n",
       "      <td>-1.689605</td>\n",
       "      <td>0.212501</td>\n",
       "      <td>0.604730</td>\n",
       "    </tr>\n",
       "    <tr>\n",
       "      <th>11</th>\n",
       "      <td>0.688916</td>\n",
       "      <td>-1.894878</td>\n",
       "      <td>0.900608</td>\n",
       "      <td>1.382980</td>\n",
       "    </tr>\n",
       "    <tr>\n",
       "      <th>12</th>\n",
       "      <td>-0.240503</td>\n",
       "      <td>2.223762</td>\n",
       "      <td>0.434532</td>\n",
       "      <td>0.723551</td>\n",
       "    </tr>\n",
       "    <tr>\n",
       "      <th>13</th>\n",
       "      <td>-0.334617</td>\n",
       "      <td>1.232590</td>\n",
       "      <td>-0.736885</td>\n",
       "      <td>-0.738327</td>\n",
       "    </tr>\n",
       "    <tr>\n",
       "      <th>14</th>\n",
       "      <td>-0.204399</td>\n",
       "      <td>0.042472</td>\n",
       "      <td>0.619476</td>\n",
       "      <td>-1.218318</td>\n",
       "    </tr>\n",
       "    <tr>\n",
       "      <th>15</th>\n",
       "      <td>-1.949979</td>\n",
       "      <td>0.967746</td>\n",
       "      <td>-0.618492</td>\n",
       "      <td>1.881661</td>\n",
       "    </tr>\n",
       "    <tr>\n",
       "      <th>16</th>\n",
       "      <td>-1.866132</td>\n",
       "      <td>2.005535</td>\n",
       "      <td>-0.369335</td>\n",
       "      <td>-0.518591</td>\n",
       "    </tr>\n",
       "    <tr>\n",
       "      <th>17</th>\n",
       "      <td>0.067667</td>\n",
       "      <td>-1.013928</td>\n",
       "      <td>-0.002665</td>\n",
       "      <td>-0.120495</td>\n",
       "    </tr>\n",
       "    <tr>\n",
       "      <th>18</th>\n",
       "      <td>-0.706661</td>\n",
       "      <td>1.739631</td>\n",
       "      <td>1.219705</td>\n",
       "      <td>0.963450</td>\n",
       "    </tr>\n",
       "    <tr>\n",
       "      <th>19</th>\n",
       "      <td>-1.598782</td>\n",
       "      <td>0.568086</td>\n",
       "      <td>0.950103</td>\n",
       "      <td>0.317117</td>\n",
       "    </tr>\n",
       "  </tbody>\n",
       "</table>\n",
       "</div>"
      ],
      "text/plain": [
       "           0         1         2         3\n",
       "0   1.161245 -1.689605  0.212501  0.604730\n",
       "1   0.688916 -1.894878  0.900608  1.382980\n",
       "2  -0.240503  2.223762  0.434532  0.723551\n",
       "3  -0.334617  1.232590 -0.736885 -0.738327\n",
       "4  -0.204399  0.042472  0.619476 -1.218318\n",
       "5  -1.949979  0.967746 -0.618492  1.881661\n",
       "6  -1.866132  2.005535 -0.369335 -0.518591\n",
       "7   0.067667 -1.013928 -0.002665 -0.120495\n",
       "8  -0.706661  1.739631  1.219705  0.963450\n",
       "9  -1.598782  0.568086  0.950103  0.317117\n",
       "10  1.161245 -1.689605  0.212501  0.604730\n",
       "11  0.688916 -1.894878  0.900608  1.382980\n",
       "12 -0.240503  2.223762  0.434532  0.723551\n",
       "13 -0.334617  1.232590 -0.736885 -0.738327\n",
       "14 -0.204399  0.042472  0.619476 -1.218318\n",
       "15 -1.949979  0.967746 -0.618492  1.881661\n",
       "16 -1.866132  2.005535 -0.369335 -0.518591\n",
       "17  0.067667 -1.013928 -0.002665 -0.120495\n",
       "18 -0.706661  1.739631  1.219705  0.963450\n",
       "19 -1.598782  0.568086  0.950103  0.317117"
      ]
     },
     "execution_count": 68,
     "metadata": {},
     "output_type": "execute_result"
    }
   ],
   "source": [
    "pd.concat([df,df1]).reset_index(drop=True)"
   ]
  },
  {
   "cell_type": "markdown",
   "id": "a7af5987-a98f-40e1-aa79-64bf9fd6a895",
   "metadata": {},
   "source": [
    "Adding a column to a DataFrame is relatively fast. However, adding a row requires a copy, and may be expensive. We recommend passing a pre-built list of records to the DataFrame constructor instead of building a DataFrame by iteratively appending records to it."
   ]
  },
  {
   "cell_type": "markdown",
   "id": "0d667c27-2620-4ff7-9921-6374f028fa13",
   "metadata": {},
   "source": [
    "## Join\n",
    "`merge()` enables SQL style join types along specific columns. See the Database style joining section.\n"
   ]
  },
  {
   "cell_type": "code",
   "execution_count": 74,
   "id": "ab0d1845-82ab-409a-81cf-59fff50a2242",
   "metadata": {},
   "outputs": [
    {
     "data": {
      "text/html": [
       "<div>\n",
       "<style scoped>\n",
       "    .dataframe tbody tr th:only-of-type {\n",
       "        vertical-align: middle;\n",
       "    }\n",
       "\n",
       "    .dataframe tbody tr th {\n",
       "        vertical-align: top;\n",
       "    }\n",
       "\n",
       "    .dataframe thead th {\n",
       "        text-align: right;\n",
       "    }\n",
       "</style>\n",
       "<table border=\"1\" class=\"dataframe\">\n",
       "  <thead>\n",
       "    <tr style=\"text-align: right;\">\n",
       "      <th></th>\n",
       "      <th>key</th>\n",
       "      <th>lval</th>\n",
       "    </tr>\n",
       "  </thead>\n",
       "  <tbody>\n",
       "    <tr>\n",
       "      <th>0</th>\n",
       "      <td>foo</td>\n",
       "      <td>1</td>\n",
       "    </tr>\n",
       "    <tr>\n",
       "      <th>1</th>\n",
       "      <td>foo</td>\n",
       "      <td>2</td>\n",
       "    </tr>\n",
       "  </tbody>\n",
       "</table>\n",
       "</div>"
      ],
      "text/plain": [
       "   key  lval\n",
       "0  foo     1\n",
       "1  foo     2"
      ]
     },
     "execution_count": 74,
     "metadata": {},
     "output_type": "execute_result"
    }
   ],
   "source": [
    "left = pd.DataFrame({\"key\": [\"foo\", \"foo\"], \"lval\": [1, 2]})\n",
    "right = pd.DataFrame({\"key\": [\"foo\", \"foo\"], \"rval\": [1, 5]})\n",
    "left"
   ]
  },
  {
   "cell_type": "code",
   "execution_count": 75,
   "id": "4b41a03e-320a-460a-bf72-4b2a3d8012e0",
   "metadata": {},
   "outputs": [
    {
     "data": {
      "text/html": [
       "<div>\n",
       "<style scoped>\n",
       "    .dataframe tbody tr th:only-of-type {\n",
       "        vertical-align: middle;\n",
       "    }\n",
       "\n",
       "    .dataframe tbody tr th {\n",
       "        vertical-align: top;\n",
       "    }\n",
       "\n",
       "    .dataframe thead th {\n",
       "        text-align: right;\n",
       "    }\n",
       "</style>\n",
       "<table border=\"1\" class=\"dataframe\">\n",
       "  <thead>\n",
       "    <tr style=\"text-align: right;\">\n",
       "      <th></th>\n",
       "      <th>key</th>\n",
       "      <th>rval</th>\n",
       "    </tr>\n",
       "  </thead>\n",
       "  <tbody>\n",
       "    <tr>\n",
       "      <th>0</th>\n",
       "      <td>foo</td>\n",
       "      <td>1</td>\n",
       "    </tr>\n",
       "    <tr>\n",
       "      <th>1</th>\n",
       "      <td>foo</td>\n",
       "      <td>5</td>\n",
       "    </tr>\n",
       "  </tbody>\n",
       "</table>\n",
       "</div>"
      ],
      "text/plain": [
       "   key  rval\n",
       "0  foo     1\n",
       "1  foo     5"
      ]
     },
     "execution_count": 75,
     "metadata": {},
     "output_type": "execute_result"
    }
   ],
   "source": [
    "right"
   ]
  },
  {
   "cell_type": "code",
   "execution_count": 77,
   "id": "e3d154ae-6b10-4f19-9a2a-7f60f26de23f",
   "metadata": {},
   "outputs": [
    {
     "data": {
      "text/html": [
       "<div>\n",
       "<style scoped>\n",
       "    .dataframe tbody tr th:only-of-type {\n",
       "        vertical-align: middle;\n",
       "    }\n",
       "\n",
       "    .dataframe tbody tr th {\n",
       "        vertical-align: top;\n",
       "    }\n",
       "\n",
       "    .dataframe thead th {\n",
       "        text-align: right;\n",
       "    }\n",
       "</style>\n",
       "<table border=\"1\" class=\"dataframe\">\n",
       "  <thead>\n",
       "    <tr style=\"text-align: right;\">\n",
       "      <th></th>\n",
       "      <th>key</th>\n",
       "      <th>lval</th>\n",
       "      <th>rval</th>\n",
       "    </tr>\n",
       "  </thead>\n",
       "  <tbody>\n",
       "    <tr>\n",
       "      <th>0</th>\n",
       "      <td>foo</td>\n",
       "      <td>1</td>\n",
       "      <td>1</td>\n",
       "    </tr>\n",
       "    <tr>\n",
       "      <th>1</th>\n",
       "      <td>foo</td>\n",
       "      <td>1</td>\n",
       "      <td>5</td>\n",
       "    </tr>\n",
       "    <tr>\n",
       "      <th>2</th>\n",
       "      <td>foo</td>\n",
       "      <td>2</td>\n",
       "      <td>1</td>\n",
       "    </tr>\n",
       "    <tr>\n",
       "      <th>3</th>\n",
       "      <td>foo</td>\n",
       "      <td>2</td>\n",
       "      <td>5</td>\n",
       "    </tr>\n",
       "  </tbody>\n",
       "</table>\n",
       "</div>"
      ],
      "text/plain": [
       "   key  lval  rval\n",
       "0  foo     1     1\n",
       "1  foo     1     5\n",
       "2  foo     2     1\n",
       "3  foo     2     5"
      ]
     },
     "execution_count": 77,
     "metadata": {},
     "output_type": "execute_result"
    }
   ],
   "source": [
    "pd.merge(left, right, on=\"key\", how=\"left\")"
   ]
  },
  {
   "cell_type": "code",
   "execution_count": 73,
   "id": "ea41ed1c",
   "metadata": {},
   "outputs": [
    {
     "data": {
      "text/html": [
       "<div>\n",
       "<style scoped>\n",
       "    .dataframe tbody tr th:only-of-type {\n",
       "        vertical-align: middle;\n",
       "    }\n",
       "\n",
       "    .dataframe tbody tr th {\n",
       "        vertical-align: top;\n",
       "    }\n",
       "\n",
       "    .dataframe thead th {\n",
       "        text-align: right;\n",
       "    }\n",
       "</style>\n",
       "<table border=\"1\" class=\"dataframe\">\n",
       "  <thead>\n",
       "    <tr style=\"text-align: right;\">\n",
       "      <th></th>\n",
       "      <th>key</th>\n",
       "      <th>lval</th>\n",
       "      <th>rval</th>\n",
       "    </tr>\n",
       "  </thead>\n",
       "  <tbody>\n",
       "    <tr>\n",
       "      <th>0</th>\n",
       "      <td>foo</td>\n",
       "      <td>1</td>\n",
       "      <td>4</td>\n",
       "    </tr>\n",
       "    <tr>\n",
       "      <th>1</th>\n",
       "      <td>foo</td>\n",
       "      <td>1</td>\n",
       "      <td>5</td>\n",
       "    </tr>\n",
       "    <tr>\n",
       "      <th>2</th>\n",
       "      <td>foo</td>\n",
       "      <td>2</td>\n",
       "      <td>4</td>\n",
       "    </tr>\n",
       "    <tr>\n",
       "      <th>3</th>\n",
       "      <td>foo</td>\n",
       "      <td>2</td>\n",
       "      <td>5</td>\n",
       "    </tr>\n",
       "  </tbody>\n",
       "</table>\n",
       "</div>"
      ],
      "text/plain": [
       "   key  lval  rval\n",
       "0  foo     1     4\n",
       "1  foo     1     5\n",
       "2  foo     2     4\n",
       "3  foo     2     5"
      ]
     },
     "execution_count": 73,
     "metadata": {},
     "output_type": "execute_result"
    }
   ],
   "source": [
    "pd.merge(left, right, how=\"left\", on=\"key\")"
   ]
  },
  {
   "cell_type": "code",
   "execution_count": 79,
   "id": "76ad9d38-57e1-41f6-9f29-f6e9ea11f789",
   "metadata": {},
   "outputs": [
    {
     "data": {
      "text/html": [
       "<div>\n",
       "<style scoped>\n",
       "    .dataframe tbody tr th:only-of-type {\n",
       "        vertical-align: middle;\n",
       "    }\n",
       "\n",
       "    .dataframe tbody tr th {\n",
       "        vertical-align: top;\n",
       "    }\n",
       "\n",
       "    .dataframe thead th {\n",
       "        text-align: right;\n",
       "    }\n",
       "</style>\n",
       "<table border=\"1\" class=\"dataframe\">\n",
       "  <thead>\n",
       "    <tr style=\"text-align: right;\">\n",
       "      <th></th>\n",
       "      <th>key</th>\n",
       "      <th>lval</th>\n",
       "      <th>rval</th>\n",
       "    </tr>\n",
       "  </thead>\n",
       "  <tbody>\n",
       "    <tr>\n",
       "      <th>0</th>\n",
       "      <td>foo</td>\n",
       "      <td>1</td>\n",
       "      <td>4</td>\n",
       "    </tr>\n",
       "    <tr>\n",
       "      <th>1</th>\n",
       "      <td>bar</td>\n",
       "      <td>2</td>\n",
       "      <td>5</td>\n",
       "    </tr>\n",
       "  </tbody>\n",
       "</table>\n",
       "</div>"
      ],
      "text/plain": [
       "   key  lval  rval\n",
       "0  foo     1     4\n",
       "1  bar     2     5"
      ]
     },
     "execution_count": 79,
     "metadata": {},
     "output_type": "execute_result"
    }
   ],
   "source": [
    "left = pd.DataFrame({\"key\": [\"foo\", \"bar\"], \"lval\": [1, 2]})\n",
    "right = pd.DataFrame({\"key\": [\"foo\", \"bar\"], \"rval\": [4, 5]})\n",
    "# merge on unique keys\n",
    "pd.merge(left, right, on=\"key\")"
   ]
  },
  {
   "cell_type": "markdown",
   "id": "cb2c8170-414b-4d98-bc11-bd1e6eb06231",
   "metadata": {},
   "source": [
    "## Grouping\n",
    "By “group by” we are referring to a process involving one or more of the following steps\n",
    "1. Splitting the data into groups based on some criteria\n",
    "2. Applying a function to each group independ\n",
    "3. Combining the results into a data structure\n",
    "\n",
    "[See the Groupin](https://pandas.pydata.org/docs/user_guide/groupby.html#groupby)\n",
    "upby) section."
   ]
  },
  {
   "cell_type": "code",
   "execution_count": 78,
   "id": "75679ed9-9a92-43c1-ac38-40677384d465",
   "metadata": {},
   "outputs": [
    {
     "data": {
      "text/html": [
       "<div>\n",
       "<style scoped>\n",
       "    .dataframe tbody tr th:only-of-type {\n",
       "        vertical-align: middle;\n",
       "    }\n",
       "\n",
       "    .dataframe tbody tr th {\n",
       "        vertical-align: top;\n",
       "    }\n",
       "\n",
       "    .dataframe thead th {\n",
       "        text-align: right;\n",
       "    }\n",
       "</style>\n",
       "<table border=\"1\" class=\"dataframe\">\n",
       "  <thead>\n",
       "    <tr style=\"text-align: right;\">\n",
       "      <th></th>\n",
       "      <th>A</th>\n",
       "      <th>B</th>\n",
       "      <th>C</th>\n",
       "      <th>D</th>\n",
       "    </tr>\n",
       "  </thead>\n",
       "  <tbody>\n",
       "    <tr>\n",
       "      <th>0</th>\n",
       "      <td>foo</td>\n",
       "      <td>one</td>\n",
       "      <td>2.904631</td>\n",
       "      <td>1.047640</td>\n",
       "    </tr>\n",
       "    <tr>\n",
       "      <th>1</th>\n",
       "      <td>bar</td>\n",
       "      <td>one</td>\n",
       "      <td>1.103199</td>\n",
       "      <td>3.179463</td>\n",
       "    </tr>\n",
       "    <tr>\n",
       "      <th>2</th>\n",
       "      <td>foo</td>\n",
       "      <td>two</td>\n",
       "      <td>-0.462230</td>\n",
       "      <td>-0.346823</td>\n",
       "    </tr>\n",
       "    <tr>\n",
       "      <th>3</th>\n",
       "      <td>bar</td>\n",
       "      <td>three</td>\n",
       "      <td>1.202743</td>\n",
       "      <td>0.757172</td>\n",
       "    </tr>\n",
       "    <tr>\n",
       "      <th>4</th>\n",
       "      <td>foo</td>\n",
       "      <td>two</td>\n",
       "      <td>-0.480330</td>\n",
       "      <td>1.916903</td>\n",
       "    </tr>\n",
       "    <tr>\n",
       "      <th>5</th>\n",
       "      <td>bar</td>\n",
       "      <td>two</td>\n",
       "      <td>0.973013</td>\n",
       "      <td>-1.676209</td>\n",
       "    </tr>\n",
       "    <tr>\n",
       "      <th>6</th>\n",
       "      <td>foo</td>\n",
       "      <td>one</td>\n",
       "      <td>-0.068530</td>\n",
       "      <td>0.279328</td>\n",
       "    </tr>\n",
       "    <tr>\n",
       "      <th>7</th>\n",
       "      <td>foo</td>\n",
       "      <td>three</td>\n",
       "      <td>0.477634</td>\n",
       "      <td>1.033601</td>\n",
       "    </tr>\n",
       "  </tbody>\n",
       "</table>\n",
       "</div>"
      ],
      "text/plain": [
       "     A      B         C         D\n",
       "0  foo    one  2.904631  1.047640\n",
       "1  bar    one  1.103199  3.179463\n",
       "2  foo    two -0.462230 -0.346823\n",
       "3  bar  three  1.202743  0.757172\n",
       "4  foo    two -0.480330  1.916903\n",
       "5  bar    two  0.973013 -1.676209\n",
       "6  foo    one -0.068530  0.279328\n",
       "7  foo  three  0.477634  1.033601"
      ]
     },
     "execution_count": 78,
     "metadata": {},
     "output_type": "execute_result"
    }
   ],
   "source": [
    "df = pd.DataFrame(\n",
    "    {\n",
    "        \"A\": [\"foo\", \"bar\", \"foo\", \"bar\", \"foo\", \"bar\", \"foo\", \"foo\"],\n",
    "        \"B\": [\"one\", \"one\", \"two\", \"three\", \"two\", \"two\", \"one\", \"three\"],\n",
    "        \"C\": np.random.randn(8),\n",
    "        \"D\": np.random.randn(8),\n",
    "    }\n",
    ")\n",
    "df"
   ]
  },
  {
   "cell_type": "code",
   "execution_count": 81,
   "id": "dc8ccf8e-e974-459b-ba63-7cd0c171d1d5",
   "metadata": {},
   "outputs": [
    {
     "data": {
      "text/html": [
       "<div>\n",
       "<style scoped>\n",
       "    .dataframe tbody tr th:only-of-type {\n",
       "        vertical-align: middle;\n",
       "    }\n",
       "\n",
       "    .dataframe tbody tr th {\n",
       "        vertical-align: top;\n",
       "    }\n",
       "\n",
       "    .dataframe thead th {\n",
       "        text-align: right;\n",
       "    }\n",
       "</style>\n",
       "<table border=\"1\" class=\"dataframe\">\n",
       "  <thead>\n",
       "    <tr style=\"text-align: right;\">\n",
       "      <th></th>\n",
       "      <th>C</th>\n",
       "      <th>D</th>\n",
       "    </tr>\n",
       "    <tr>\n",
       "      <th>A</th>\n",
       "      <th></th>\n",
       "      <th></th>\n",
       "    </tr>\n",
       "  </thead>\n",
       "  <tbody>\n",
       "    <tr>\n",
       "      <th>bar</th>\n",
       "      <td>2.960693</td>\n",
       "      <td>-0.408202</td>\n",
       "    </tr>\n",
       "    <tr>\n",
       "      <th>foo</th>\n",
       "      <td>2.465401</td>\n",
       "      <td>1.857271</td>\n",
       "    </tr>\n",
       "  </tbody>\n",
       "</table>\n",
       "</div>"
      ],
      "text/plain": [
       "            C         D\n",
       "A                      \n",
       "bar  2.960693 -0.408202\n",
       "foo  2.465401  1.857271"
      ]
     },
     "execution_count": 81,
     "metadata": {},
     "output_type": "execute_result"
    }
   ],
   "source": [
    "df.groupby(\"A\")[[\"C\", \"D\"]].sum()"
   ]
  },
  {
   "cell_type": "code",
   "execution_count": 82,
   "id": "ee6dce1a-1edb-4e74-98df-35fd6b7c1da9",
   "metadata": {},
   "outputs": [
    {
     "data": {
      "text/html": [
       "<div>\n",
       "<style scoped>\n",
       "    .dataframe tbody tr th:only-of-type {\n",
       "        vertical-align: middle;\n",
       "    }\n",
       "\n",
       "    .dataframe tbody tr th {\n",
       "        vertical-align: top;\n",
       "    }\n",
       "\n",
       "    .dataframe thead th {\n",
       "        text-align: right;\n",
       "    }\n",
       "</style>\n",
       "<table border=\"1\" class=\"dataframe\">\n",
       "  <thead>\n",
       "    <tr style=\"text-align: right;\">\n",
       "      <th></th>\n",
       "      <th></th>\n",
       "      <th>C</th>\n",
       "      <th>D</th>\n",
       "    </tr>\n",
       "    <tr>\n",
       "      <th>A</th>\n",
       "      <th>B</th>\n",
       "      <th></th>\n",
       "      <th></th>\n",
       "    </tr>\n",
       "  </thead>\n",
       "  <tbody>\n",
       "    <tr>\n",
       "      <th rowspan=\"3\" valign=\"top\">bar</th>\n",
       "      <th>one</th>\n",
       "      <td>-0.552630</td>\n",
       "      <td>0.437685</td>\n",
       "    </tr>\n",
       "    <tr>\n",
       "      <th>three</th>\n",
       "      <td>0.028136</td>\n",
       "      <td>0.071908</td>\n",
       "    </tr>\n",
       "    <tr>\n",
       "      <th>two</th>\n",
       "      <td>3.485188</td>\n",
       "      <td>-0.917795</td>\n",
       "    </tr>\n",
       "    <tr>\n",
       "      <th rowspan=\"3\" valign=\"top\">foo</th>\n",
       "      <th>one</th>\n",
       "      <td>0.521976</td>\n",
       "      <td>2.640332</td>\n",
       "    </tr>\n",
       "    <tr>\n",
       "      <th>three</th>\n",
       "      <td>0.529225</td>\n",
       "      <td>-0.089033</td>\n",
       "    </tr>\n",
       "    <tr>\n",
       "      <th>two</th>\n",
       "      <td>1.414201</td>\n",
       "      <td>-0.694028</td>\n",
       "    </tr>\n",
       "  </tbody>\n",
       "</table>\n",
       "</div>"
      ],
      "text/plain": [
       "                  C         D\n",
       "A   B                        \n",
       "bar one   -0.552630  0.437685\n",
       "    three  0.028136  0.071908\n",
       "    two    3.485188 -0.917795\n",
       "foo one    0.521976  2.640332\n",
       "    three  0.529225 -0.089033\n",
       "    two    1.414201 -0.694028"
      ]
     },
     "execution_count": 82,
     "metadata": {},
     "output_type": "execute_result"
    }
   ],
   "source": [
    "df.groupby([\"A\", \"B\"]).sum() # use multiindex"
   ]
  },
  {
   "cell_type": "code",
   "execution_count": null,
   "id": "e813039a-1127-4b6d-b62f-624a9f288e0f",
   "metadata": {},
   "outputs": [],
   "source": []
  }
 ],
 "metadata": {
  "kernelspec": {
   "display_name": "Python 3 (ipykernel)",
   "language": "python",
   "name": "python3"
  },
  "language_info": {
   "codemirror_mode": {
    "name": "ipython",
    "version": 3
   },
   "file_extension": ".py",
   "mimetype": "text/x-python",
   "name": "python",
   "nbconvert_exporter": "python",
   "pygments_lexer": "ipython3",
   "version": "3.9.13"
  }
 },
 "nbformat": 4,
 "nbformat_minor": 5
}
