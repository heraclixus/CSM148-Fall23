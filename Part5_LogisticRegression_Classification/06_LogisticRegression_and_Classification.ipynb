{
 "cells": [
  {
   "cell_type": "code",
   "execution_count": 1,
   "id": "fdc47ad2",
   "metadata": {},
   "outputs": [],
   "source": [
    "# data loading and processing\n",
    "import numpy as np\n",
    "import pandas as pd\n",
    "\n",
    "# model \n",
    "from sklearn.linear_model import LogisticRegression\n",
    "\n",
    "# model selection\n",
    "from sklearn.model_selection import train_test_split\n",
    "from sklearn.model_selection import cross_val_score \n",
    "\n",
    "# evaluation metrics\n",
    "from sklearn.metrics import accuracy_score, f1_score, confusion_matrix, precision_score, recall_score, roc_auc_score\n",
    "from sklearn.metrics import roc_curve, precision_recall_curve"
   ]
  },
  {
   "cell_type": "markdown",
   "id": "6cf973fe",
   "metadata": {},
   "source": [
    "## Preprocessing"
   ]
  },
  {
   "cell_type": "code",
   "execution_count": 2,
   "id": "4655f335",
   "metadata": {},
   "outputs": [],
   "source": [
    "data = pd.read_csv(\"spotify-2023.csv\", encoding = \"ISO-8859-1\")"
   ]
  },
  {
   "cell_type": "code",
   "execution_count": 3,
   "id": "3f9bbbf7",
   "metadata": {},
   "outputs": [
    {
     "data": {
      "text/html": [
       "<div>\n",
       "<style scoped>\n",
       "    .dataframe tbody tr th:only-of-type {\n",
       "        vertical-align: middle;\n",
       "    }\n",
       "\n",
       "    .dataframe tbody tr th {\n",
       "        vertical-align: top;\n",
       "    }\n",
       "\n",
       "    .dataframe thead th {\n",
       "        text-align: right;\n",
       "    }\n",
       "</style>\n",
       "<table border=\"1\" class=\"dataframe\">\n",
       "  <thead>\n",
       "    <tr style=\"text-align: right;\">\n",
       "      <th></th>\n",
       "      <th>track_name</th>\n",
       "      <th>artist(s)_name</th>\n",
       "      <th>artist_count</th>\n",
       "      <th>released_year</th>\n",
       "      <th>released_month</th>\n",
       "      <th>released_day</th>\n",
       "      <th>in_spotify_playlists</th>\n",
       "      <th>in_spotify_charts</th>\n",
       "      <th>streams</th>\n",
       "      <th>in_apple_playlists</th>\n",
       "      <th>...</th>\n",
       "      <th>bpm</th>\n",
       "      <th>key</th>\n",
       "      <th>mode</th>\n",
       "      <th>danceability_%</th>\n",
       "      <th>valence_%</th>\n",
       "      <th>energy_%</th>\n",
       "      <th>acousticness_%</th>\n",
       "      <th>instrumentalness_%</th>\n",
       "      <th>liveness_%</th>\n",
       "      <th>speechiness_%</th>\n",
       "    </tr>\n",
       "  </thead>\n",
       "  <tbody>\n",
       "    <tr>\n",
       "      <th>0</th>\n",
       "      <td>Seven (feat. Latto) (Explicit Ver.)</td>\n",
       "      <td>Latto, Jung Kook</td>\n",
       "      <td>2</td>\n",
       "      <td>2023</td>\n",
       "      <td>7</td>\n",
       "      <td>14</td>\n",
       "      <td>553</td>\n",
       "      <td>147</td>\n",
       "      <td>141381703</td>\n",
       "      <td>43</td>\n",
       "      <td>...</td>\n",
       "      <td>125</td>\n",
       "      <td>B</td>\n",
       "      <td>Major</td>\n",
       "      <td>80</td>\n",
       "      <td>89</td>\n",
       "      <td>83</td>\n",
       "      <td>31</td>\n",
       "      <td>0</td>\n",
       "      <td>8</td>\n",
       "      <td>4</td>\n",
       "    </tr>\n",
       "    <tr>\n",
       "      <th>1</th>\n",
       "      <td>LALA</td>\n",
       "      <td>Myke Towers</td>\n",
       "      <td>1</td>\n",
       "      <td>2023</td>\n",
       "      <td>3</td>\n",
       "      <td>23</td>\n",
       "      <td>1474</td>\n",
       "      <td>48</td>\n",
       "      <td>133716286</td>\n",
       "      <td>48</td>\n",
       "      <td>...</td>\n",
       "      <td>92</td>\n",
       "      <td>C#</td>\n",
       "      <td>Major</td>\n",
       "      <td>71</td>\n",
       "      <td>61</td>\n",
       "      <td>74</td>\n",
       "      <td>7</td>\n",
       "      <td>0</td>\n",
       "      <td>10</td>\n",
       "      <td>4</td>\n",
       "    </tr>\n",
       "    <tr>\n",
       "      <th>2</th>\n",
       "      <td>vampire</td>\n",
       "      <td>Olivia Rodrigo</td>\n",
       "      <td>1</td>\n",
       "      <td>2023</td>\n",
       "      <td>6</td>\n",
       "      <td>30</td>\n",
       "      <td>1397</td>\n",
       "      <td>113</td>\n",
       "      <td>140003974</td>\n",
       "      <td>94</td>\n",
       "      <td>...</td>\n",
       "      <td>138</td>\n",
       "      <td>F</td>\n",
       "      <td>Major</td>\n",
       "      <td>51</td>\n",
       "      <td>32</td>\n",
       "      <td>53</td>\n",
       "      <td>17</td>\n",
       "      <td>0</td>\n",
       "      <td>31</td>\n",
       "      <td>6</td>\n",
       "    </tr>\n",
       "    <tr>\n",
       "      <th>3</th>\n",
       "      <td>Cruel Summer</td>\n",
       "      <td>Taylor Swift</td>\n",
       "      <td>1</td>\n",
       "      <td>2019</td>\n",
       "      <td>8</td>\n",
       "      <td>23</td>\n",
       "      <td>7858</td>\n",
       "      <td>100</td>\n",
       "      <td>800840817</td>\n",
       "      <td>116</td>\n",
       "      <td>...</td>\n",
       "      <td>170</td>\n",
       "      <td>A</td>\n",
       "      <td>Major</td>\n",
       "      <td>55</td>\n",
       "      <td>58</td>\n",
       "      <td>72</td>\n",
       "      <td>11</td>\n",
       "      <td>0</td>\n",
       "      <td>11</td>\n",
       "      <td>15</td>\n",
       "    </tr>\n",
       "    <tr>\n",
       "      <th>4</th>\n",
       "      <td>WHERE SHE GOES</td>\n",
       "      <td>Bad Bunny</td>\n",
       "      <td>1</td>\n",
       "      <td>2023</td>\n",
       "      <td>5</td>\n",
       "      <td>18</td>\n",
       "      <td>3133</td>\n",
       "      <td>50</td>\n",
       "      <td>303236322</td>\n",
       "      <td>84</td>\n",
       "      <td>...</td>\n",
       "      <td>144</td>\n",
       "      <td>A</td>\n",
       "      <td>Minor</td>\n",
       "      <td>65</td>\n",
       "      <td>23</td>\n",
       "      <td>80</td>\n",
       "      <td>14</td>\n",
       "      <td>63</td>\n",
       "      <td>11</td>\n",
       "      <td>6</td>\n",
       "    </tr>\n",
       "  </tbody>\n",
       "</table>\n",
       "<p>5 rows × 24 columns</p>\n",
       "</div>"
      ],
      "text/plain": [
       "                            track_name    artist(s)_name  artist_count  \\\n",
       "0  Seven (feat. Latto) (Explicit Ver.)  Latto, Jung Kook             2   \n",
       "1                                 LALA       Myke Towers             1   \n",
       "2                              vampire    Olivia Rodrigo             1   \n",
       "3                         Cruel Summer      Taylor Swift             1   \n",
       "4                       WHERE SHE GOES         Bad Bunny             1   \n",
       "\n",
       "   released_year  released_month  released_day  in_spotify_playlists  \\\n",
       "0           2023               7            14                   553   \n",
       "1           2023               3            23                  1474   \n",
       "2           2023               6            30                  1397   \n",
       "3           2019               8            23                  7858   \n",
       "4           2023               5            18                  3133   \n",
       "\n",
       "   in_spotify_charts    streams  in_apple_playlists  ...  bpm key   mode  \\\n",
       "0                147  141381703                  43  ...  125   B  Major   \n",
       "1                 48  133716286                  48  ...   92  C#  Major   \n",
       "2                113  140003974                  94  ...  138   F  Major   \n",
       "3                100  800840817                 116  ...  170   A  Major   \n",
       "4                 50  303236322                  84  ...  144   A  Minor   \n",
       "\n",
       "  danceability_%  valence_% energy_% acousticness_%  instrumentalness_%  \\\n",
       "0             80         89       83             31                   0   \n",
       "1             71         61       74              7                   0   \n",
       "2             51         32       53             17                   0   \n",
       "3             55         58       72             11                   0   \n",
       "4             65         23       80             14                  63   \n",
       "\n",
       "   liveness_%  speechiness_%  \n",
       "0           8              4  \n",
       "1          10              4  \n",
       "2          31              6  \n",
       "3          11             15  \n",
       "4          11              6  \n",
       "\n",
       "[5 rows x 24 columns]"
      ]
     },
     "execution_count": 3,
     "metadata": {},
     "output_type": "execute_result"
    }
   ],
   "source": [
    "data.head()"
   ]
  },
  {
   "cell_type": "code",
   "execution_count": 4,
   "id": "ca5412c0",
   "metadata": {},
   "outputs": [
    {
     "data": {
      "text/plain": [
       "0      405\n",
       "4       48\n",
       "2       42\n",
       "6       36\n",
       "3       18\n",
       "      ... \n",
       "76       1\n",
       "58       1\n",
       "79       1\n",
       "66       1\n",
       "147      1\n",
       "Name: in_spotify_charts, Length: 82, dtype: int64"
      ]
     },
     "execution_count": 4,
     "metadata": {},
     "output_type": "execute_result"
    }
   ],
   "source": [
    "data[\"in_spotify_charts\"].value_counts()"
   ]
  },
  {
   "cell_type": "code",
   "execution_count": 5,
   "id": "6699db42",
   "metadata": {},
   "outputs": [
    {
     "data": {
      "text/plain": [
       "<AxesSubplot:>"
      ]
     },
     "execution_count": 5,
     "metadata": {},
     "output_type": "execute_result"
    },
    {
     "data": {
      "image/png": "[encoded data removed]",
      "text/plain": [
       "<Figure size 640x480 with 1 Axes>"
      ]
     },
     "metadata": {},
     "output_type": "display_data"
    }
   ],
   "source": [
    "data[\"in_spotify_charts\"].hist()"
   ]
  },
  {
   "cell_type": "code",
   "execution_count": 6,
   "id": "9533e47e",
   "metadata": {},
   "outputs": [
    {
     "data": {
      "text/plain": [
       "count    953.000000\n",
       "mean      12.009444\n",
       "std       19.575992\n",
       "min        0.000000\n",
       "25%        0.000000\n",
       "50%        3.000000\n",
       "75%       16.000000\n",
       "max      147.000000\n",
       "Name: in_spotify_charts, dtype: float64"
      ]
     },
     "execution_count": 6,
     "metadata": {},
     "output_type": "execute_result"
    }
   ],
   "source": [
    "data[\"in_spotify_charts\"].describe()"
   ]
  },
  {
   "cell_type": "code",
   "execution_count": 7,
   "id": "7aeb7ea1",
   "metadata": {},
   "outputs": [],
   "source": [
    "data[\"label\"] = data[\"in_spotify_charts\"] >= 3\n",
    "data[\"label\"] = data[\"label\"].astype(int)"
   ]
  },
  {
   "cell_type": "code",
   "execution_count": 8,
   "id": "ad03dc67",
   "metadata": {},
   "outputs": [
    {
     "data": {
      "text/plain": [
       "0      1\n",
       "1      1\n",
       "2      1\n",
       "3      1\n",
       "4      1\n",
       "      ..\n",
       "948    0\n",
       "949    0\n",
       "950    0\n",
       "951    0\n",
       "952    0\n",
       "Name: label, Length: 953, dtype: int32"
      ]
     },
     "execution_count": 8,
     "metadata": {},
     "output_type": "execute_result"
    }
   ],
   "source": [
    "data[\"label\"]"
   ]
  },
  {
   "cell_type": "code",
   "execution_count": 9,
   "id": "368ffe21",
   "metadata": {},
   "outputs": [
    {
     "data": {
      "text/plain": [
       "1    490\n",
       "0    463\n",
       "Name: label, dtype: int64"
      ]
     },
     "execution_count": 9,
     "metadata": {},
     "output_type": "execute_result"
    }
   ],
   "source": [
    "data[\"label\"].value_counts()"
   ]
  },
  {
   "cell_type": "code",
   "execution_count": 10,
   "id": "4e4ce40d",
   "metadata": {},
   "outputs": [
    {
     "data": {
      "text/plain": [
       "(953, 25)"
      ]
     },
     "execution_count": 10,
     "metadata": {},
     "output_type": "execute_result"
    }
   ],
   "source": [
    "data.shape"
   ]
  },
  {
   "cell_type": "code",
   "execution_count": 11,
   "id": "60867113",
   "metadata": {},
   "outputs": [
    {
     "data": {
      "text/html": [
       "<div>\n",
       "<style scoped>\n",
       "    .dataframe tbody tr th:only-of-type {\n",
       "        vertical-align: middle;\n",
       "    }\n",
       "\n",
       "    .dataframe tbody tr th {\n",
       "        vertical-align: top;\n",
       "    }\n",
       "\n",
       "    .dataframe thead th {\n",
       "        text-align: right;\n",
       "    }\n",
       "</style>\n",
       "<table border=\"1\" class=\"dataframe\">\n",
       "  <thead>\n",
       "    <tr style=\"text-align: right;\">\n",
       "      <th></th>\n",
       "      <th>track_name</th>\n",
       "      <th>artist(s)_name</th>\n",
       "      <th>artist_count</th>\n",
       "      <th>released_year</th>\n",
       "      <th>released_month</th>\n",
       "      <th>released_day</th>\n",
       "      <th>in_spotify_playlists</th>\n",
       "      <th>in_spotify_charts</th>\n",
       "      <th>streams</th>\n",
       "      <th>in_apple_playlists</th>\n",
       "      <th>...</th>\n",
       "      <th>key</th>\n",
       "      <th>mode</th>\n",
       "      <th>danceability_%</th>\n",
       "      <th>valence_%</th>\n",
       "      <th>energy_%</th>\n",
       "      <th>acousticness_%</th>\n",
       "      <th>instrumentalness_%</th>\n",
       "      <th>liveness_%</th>\n",
       "      <th>speechiness_%</th>\n",
       "      <th>label</th>\n",
       "    </tr>\n",
       "  </thead>\n",
       "  <tbody>\n",
       "    <tr>\n",
       "      <th>0</th>\n",
       "      <td>Seven (feat. Latto) (Explicit Ver.)</td>\n",
       "      <td>Latto, Jung Kook</td>\n",
       "      <td>2</td>\n",
       "      <td>2023</td>\n",
       "      <td>7</td>\n",
       "      <td>14</td>\n",
       "      <td>553</td>\n",
       "      <td>147</td>\n",
       "      <td>141381703</td>\n",
       "      <td>43</td>\n",
       "      <td>...</td>\n",
       "      <td>B</td>\n",
       "      <td>Major</td>\n",
       "      <td>80</td>\n",
       "      <td>89</td>\n",
       "      <td>83</td>\n",
       "      <td>31</td>\n",
       "      <td>0</td>\n",
       "      <td>8</td>\n",
       "      <td>4</td>\n",
       "      <td>1</td>\n",
       "    </tr>\n",
       "    <tr>\n",
       "      <th>1</th>\n",
       "      <td>LALA</td>\n",
       "      <td>Myke Towers</td>\n",
       "      <td>1</td>\n",
       "      <td>2023</td>\n",
       "      <td>3</td>\n",
       "      <td>23</td>\n",
       "      <td>1474</td>\n",
       "      <td>48</td>\n",
       "      <td>133716286</td>\n",
       "      <td>48</td>\n",
       "      <td>...</td>\n",
       "      <td>C#</td>\n",
       "      <td>Major</td>\n",
       "      <td>71</td>\n",
       "      <td>61</td>\n",
       "      <td>74</td>\n",
       "      <td>7</td>\n",
       "      <td>0</td>\n",
       "      <td>10</td>\n",
       "      <td>4</td>\n",
       "      <td>1</td>\n",
       "    </tr>\n",
       "    <tr>\n",
       "      <th>2</th>\n",
       "      <td>vampire</td>\n",
       "      <td>Olivia Rodrigo</td>\n",
       "      <td>1</td>\n",
       "      <td>2023</td>\n",
       "      <td>6</td>\n",
       "      <td>30</td>\n",
       "      <td>1397</td>\n",
       "      <td>113</td>\n",
       "      <td>140003974</td>\n",
       "      <td>94</td>\n",
       "      <td>...</td>\n",
       "      <td>F</td>\n",
       "      <td>Major</td>\n",
       "      <td>51</td>\n",
       "      <td>32</td>\n",
       "      <td>53</td>\n",
       "      <td>17</td>\n",
       "      <td>0</td>\n",
       "      <td>31</td>\n",
       "      <td>6</td>\n",
       "      <td>1</td>\n",
       "    </tr>\n",
       "    <tr>\n",
       "      <th>3</th>\n",
       "      <td>Cruel Summer</td>\n",
       "      <td>Taylor Swift</td>\n",
       "      <td>1</td>\n",
       "      <td>2019</td>\n",
       "      <td>8</td>\n",
       "      <td>23</td>\n",
       "      <td>7858</td>\n",
       "      <td>100</td>\n",
       "      <td>800840817</td>\n",
       "      <td>116</td>\n",
       "      <td>...</td>\n",
       "      <td>A</td>\n",
       "      <td>Major</td>\n",
       "      <td>55</td>\n",
       "      <td>58</td>\n",
       "      <td>72</td>\n",
       "      <td>11</td>\n",
       "      <td>0</td>\n",
       "      <td>11</td>\n",
       "      <td>15</td>\n",
       "      <td>1</td>\n",
       "    </tr>\n",
       "    <tr>\n",
       "      <th>4</th>\n",
       "      <td>WHERE SHE GOES</td>\n",
       "      <td>Bad Bunny</td>\n",
       "      <td>1</td>\n",
       "      <td>2023</td>\n",
       "      <td>5</td>\n",
       "      <td>18</td>\n",
       "      <td>3133</td>\n",
       "      <td>50</td>\n",
       "      <td>303236322</td>\n",
       "      <td>84</td>\n",
       "      <td>...</td>\n",
       "      <td>A</td>\n",
       "      <td>Minor</td>\n",
       "      <td>65</td>\n",
       "      <td>23</td>\n",
       "      <td>80</td>\n",
       "      <td>14</td>\n",
       "      <td>63</td>\n",
       "      <td>11</td>\n",
       "      <td>6</td>\n",
       "      <td>1</td>\n",
       "    </tr>\n",
       "    <tr>\n",
       "      <th>...</th>\n",
       "      <td>...</td>\n",
       "      <td>...</td>\n",
       "      <td>...</td>\n",
       "      <td>...</td>\n",
       "      <td>...</td>\n",
       "      <td>...</td>\n",
       "      <td>...</td>\n",
       "      <td>...</td>\n",
       "      <td>...</td>\n",
       "      <td>...</td>\n",
       "      <td>...</td>\n",
       "      <td>...</td>\n",
       "      <td>...</td>\n",
       "      <td>...</td>\n",
       "      <td>...</td>\n",
       "      <td>...</td>\n",
       "      <td>...</td>\n",
       "      <td>...</td>\n",
       "      <td>...</td>\n",
       "      <td>...</td>\n",
       "      <td>...</td>\n",
       "    </tr>\n",
       "    <tr>\n",
       "      <th>948</th>\n",
       "      <td>My Mind &amp; Me</td>\n",
       "      <td>Selena Gomez</td>\n",
       "      <td>1</td>\n",
       "      <td>2022</td>\n",
       "      <td>11</td>\n",
       "      <td>3</td>\n",
       "      <td>953</td>\n",
       "      <td>0</td>\n",
       "      <td>91473363</td>\n",
       "      <td>61</td>\n",
       "      <td>...</td>\n",
       "      <td>A</td>\n",
       "      <td>Major</td>\n",
       "      <td>60</td>\n",
       "      <td>24</td>\n",
       "      <td>39</td>\n",
       "      <td>57</td>\n",
       "      <td>0</td>\n",
       "      <td>8</td>\n",
       "      <td>3</td>\n",
       "      <td>0</td>\n",
       "    </tr>\n",
       "    <tr>\n",
       "      <th>949</th>\n",
       "      <td>Bigger Than The Whole Sky</td>\n",
       "      <td>Taylor Swift</td>\n",
       "      <td>1</td>\n",
       "      <td>2022</td>\n",
       "      <td>10</td>\n",
       "      <td>21</td>\n",
       "      <td>1180</td>\n",
       "      <td>0</td>\n",
       "      <td>121871870</td>\n",
       "      <td>4</td>\n",
       "      <td>...</td>\n",
       "      <td>F#</td>\n",
       "      <td>Major</td>\n",
       "      <td>42</td>\n",
       "      <td>7</td>\n",
       "      <td>24</td>\n",
       "      <td>83</td>\n",
       "      <td>1</td>\n",
       "      <td>12</td>\n",
       "      <td>6</td>\n",
       "      <td>0</td>\n",
       "    </tr>\n",
       "    <tr>\n",
       "      <th>950</th>\n",
       "      <td>A Veces (feat. Feid)</td>\n",
       "      <td>Feid, Paulo Londra</td>\n",
       "      <td>2</td>\n",
       "      <td>2022</td>\n",
       "      <td>11</td>\n",
       "      <td>3</td>\n",
       "      <td>573</td>\n",
       "      <td>0</td>\n",
       "      <td>73513683</td>\n",
       "      <td>2</td>\n",
       "      <td>...</td>\n",
       "      <td>C#</td>\n",
       "      <td>Major</td>\n",
       "      <td>80</td>\n",
       "      <td>81</td>\n",
       "      <td>67</td>\n",
       "      <td>4</td>\n",
       "      <td>0</td>\n",
       "      <td>8</td>\n",
       "      <td>6</td>\n",
       "      <td>0</td>\n",
       "    </tr>\n",
       "    <tr>\n",
       "      <th>951</th>\n",
       "      <td>En La De Ella</td>\n",
       "      <td>Feid, Sech, Jhayco</td>\n",
       "      <td>3</td>\n",
       "      <td>2022</td>\n",
       "      <td>10</td>\n",
       "      <td>20</td>\n",
       "      <td>1320</td>\n",
       "      <td>0</td>\n",
       "      <td>133895612</td>\n",
       "      <td>29</td>\n",
       "      <td>...</td>\n",
       "      <td>C#</td>\n",
       "      <td>Major</td>\n",
       "      <td>82</td>\n",
       "      <td>67</td>\n",
       "      <td>77</td>\n",
       "      <td>8</td>\n",
       "      <td>0</td>\n",
       "      <td>12</td>\n",
       "      <td>5</td>\n",
       "      <td>0</td>\n",
       "    </tr>\n",
       "    <tr>\n",
       "      <th>952</th>\n",
       "      <td>Alone</td>\n",
       "      <td>Burna Boy</td>\n",
       "      <td>1</td>\n",
       "      <td>2022</td>\n",
       "      <td>11</td>\n",
       "      <td>4</td>\n",
       "      <td>782</td>\n",
       "      <td>2</td>\n",
       "      <td>96007391</td>\n",
       "      <td>27</td>\n",
       "      <td>...</td>\n",
       "      <td>E</td>\n",
       "      <td>Minor</td>\n",
       "      <td>61</td>\n",
       "      <td>32</td>\n",
       "      <td>67</td>\n",
       "      <td>15</td>\n",
       "      <td>0</td>\n",
       "      <td>11</td>\n",
       "      <td>5</td>\n",
       "      <td>0</td>\n",
       "    </tr>\n",
       "  </tbody>\n",
       "</table>\n",
       "<p>953 rows × 25 columns</p>\n",
       "</div>"
      ],
      "text/plain": [
       "                              track_name      artist(s)_name  artist_count  \\\n",
       "0    Seven (feat. Latto) (Explicit Ver.)    Latto, Jung Kook             2   \n",
       "1                                   LALA         Myke Towers             1   \n",
       "2                                vampire      Olivia Rodrigo             1   \n",
       "3                           Cruel Summer        Taylor Swift             1   \n",
       "4                         WHERE SHE GOES           Bad Bunny             1   \n",
       "..                                   ...                 ...           ...   \n",
       "948                         My Mind & Me        Selena Gomez             1   \n",
       "949            Bigger Than The Whole Sky        Taylor Swift             1   \n",
       "950                 A Veces (feat. Feid)  Feid, Paulo Londra             2   \n",
       "951                        En La De Ella  Feid, Sech, Jhayco             3   \n",
       "952                                Alone           Burna Boy             1   \n",
       "\n",
       "     released_year  released_month  released_day  in_spotify_playlists  \\\n",
       "0             2023               7            14                   553   \n",
       "1             2023               3            23                  1474   \n",
       "2             2023               6            30                  1397   \n",
       "3             2019               8            23                  7858   \n",
       "4             2023               5            18                  3133   \n",
       "..             ...             ...           ...                   ...   \n",
       "948           2022              11             3                   953   \n",
       "949           2022              10            21                  1180   \n",
       "950           2022              11             3                   573   \n",
       "951           2022              10            20                  1320   \n",
       "952           2022              11             4                   782   \n",
       "\n",
       "     in_spotify_charts    streams  in_apple_playlists  ...  key   mode  \\\n",
       "0                  147  141381703                  43  ...    B  Major   \n",
       "1                   48  133716286                  48  ...   C#  Major   \n",
       "2                  113  140003974                  94  ...    F  Major   \n",
       "3                  100  800840817                 116  ...    A  Major   \n",
       "4                   50  303236322                  84  ...    A  Minor   \n",
       "..                 ...        ...                 ...  ...  ...    ...   \n",
       "948                  0   91473363                  61  ...    A  Major   \n",
       "949                  0  121871870                   4  ...   F#  Major   \n",
       "950                  0   73513683                   2  ...   C#  Major   \n",
       "951                  0  133895612                  29  ...   C#  Major   \n",
       "952                  2   96007391                  27  ...    E  Minor   \n",
       "\n",
       "     danceability_% valence_%  energy_% acousticness_% instrumentalness_%  \\\n",
       "0                80        89        83             31                  0   \n",
       "1                71        61        74              7                  0   \n",
       "2                51        32        53             17                  0   \n",
       "3                55        58        72             11                  0   \n",
       "4                65        23        80             14                 63   \n",
       "..              ...       ...       ...            ...                ...   \n",
       "948              60        24        39             57                  0   \n",
       "949              42         7        24             83                  1   \n",
       "950              80        81        67              4                  0   \n",
       "951              82        67        77              8                  0   \n",
       "952              61        32        67             15                  0   \n",
       "\n",
       "     liveness_%  speechiness_%  label  \n",
       "0             8              4      1  \n",
       "1            10              4      1  \n",
       "2            31              6      1  \n",
       "3            11             15      1  \n",
       "4            11              6      1  \n",
       "..          ...            ...    ...  \n",
       "948           8              3      0  \n",
       "949          12              6      0  \n",
       "950           8              6      0  \n",
       "951          12              5      0  \n",
       "952          11              5      0  \n",
       "\n",
       "[953 rows x 25 columns]"
      ]
     },
     "execution_count": 11,
     "metadata": {},
     "output_type": "execute_result"
    }
   ],
   "source": [
    "data"
   ]
  },
  {
   "cell_type": "code",
   "execution_count": 13,
   "id": "e80f281e",
   "metadata": {},
   "outputs": [
    {
     "data": {
      "text/plain": [
       "Taylor Swift                 34\n",
       "The Weeknd                   22\n",
       "Bad Bunny                    19\n",
       "SZA                          19\n",
       "Harry Styles                 17\n",
       "                             ..\n",
       "Karol G, Ovy On The Drums     1\n",
       "Coolio, L.V.                  1\n",
       "Kordhell                      1\n",
       "Kenia OS                      1\n",
       "Feid, Sech, Jhayco            1\n",
       "Name: artist(s)_name, Length: 645, dtype: int64"
      ]
     },
     "execution_count": 13,
     "metadata": {},
     "output_type": "execute_result"
    }
   ],
   "source": [
    "data[\"artist(s)_name\"].value_counts()"
   ]
  },
  {
   "cell_type": "code",
   "execution_count": 85,
   "id": "365831bd",
   "metadata": {},
   "outputs": [],
   "source": [
    "# should we include this column? "
   ]
  },
  {
   "cell_type": "code",
   "execution_count": 14,
   "id": "0a99a439",
   "metadata": {},
   "outputs": [
    {
     "data": {
      "text/plain": [
       "Index(['track_name', 'artist(s)_name', 'artist_count', 'released_year',\n",
       "       'released_month', 'released_day', 'in_spotify_playlists',\n",
       "       'in_spotify_charts', 'streams', 'in_apple_playlists', 'in_apple_charts',\n",
       "       'in_deezer_playlists', 'in_deezer_charts', 'in_shazam_charts', 'bpm',\n",
       "       'key', 'mode', 'danceability_%', 'valence_%', 'energy_%',\n",
       "       'acousticness_%', 'instrumentalness_%', 'liveness_%', 'speechiness_%',\n",
       "       'label'],\n",
       "      dtype='object')"
      ]
     },
     "execution_count": 14,
     "metadata": {},
     "output_type": "execute_result"
    }
   ],
   "source": [
    "data.columns"
   ]
  },
  {
   "cell_type": "code",
   "execution_count": 16,
   "id": "79b03ba2",
   "metadata": {},
   "outputs": [],
   "source": [
    "from sklearn.preprocessing import LabelEncoder\n",
    "le = LabelEncoder()"
   ]
  },
  {
   "cell_type": "code",
   "execution_count": 17,
   "id": "431092b5",
   "metadata": {},
   "outputs": [],
   "source": [
    "data[\"key\"] = le.fit_transform(data[\"key\"])"
   ]
  },
  {
   "cell_type": "code",
   "execution_count": 18,
   "id": "e47ebb65",
   "metadata": {},
   "outputs": [
    {
     "data": {
      "text/html": [
       "<div>\n",
       "<style scoped>\n",
       "    .dataframe tbody tr th:only-of-type {\n",
       "        vertical-align: middle;\n",
       "    }\n",
       "\n",
       "    .dataframe tbody tr th {\n",
       "        vertical-align: top;\n",
       "    }\n",
       "\n",
       "    .dataframe thead th {\n",
       "        text-align: right;\n",
       "    }\n",
       "</style>\n",
       "<table border=\"1\" class=\"dataframe\">\n",
       "  <thead>\n",
       "    <tr style=\"text-align: right;\">\n",
       "      <th></th>\n",
       "      <th>track_name</th>\n",
       "      <th>artist(s)_name</th>\n",
       "      <th>artist_count</th>\n",
       "      <th>released_year</th>\n",
       "      <th>released_month</th>\n",
       "      <th>released_day</th>\n",
       "      <th>in_spotify_playlists</th>\n",
       "      <th>in_spotify_charts</th>\n",
       "      <th>streams</th>\n",
       "      <th>in_apple_playlists</th>\n",
       "      <th>...</th>\n",
       "      <th>key</th>\n",
       "      <th>mode</th>\n",
       "      <th>danceability_%</th>\n",
       "      <th>valence_%</th>\n",
       "      <th>energy_%</th>\n",
       "      <th>acousticness_%</th>\n",
       "      <th>instrumentalness_%</th>\n",
       "      <th>liveness_%</th>\n",
       "      <th>speechiness_%</th>\n",
       "      <th>label</th>\n",
       "    </tr>\n",
       "  </thead>\n",
       "  <tbody>\n",
       "    <tr>\n",
       "      <th>0</th>\n",
       "      <td>Seven (feat. Latto) (Explicit Ver.)</td>\n",
       "      <td>Latto, Jung Kook</td>\n",
       "      <td>2</td>\n",
       "      <td>2023</td>\n",
       "      <td>7</td>\n",
       "      <td>14</td>\n",
       "      <td>553</td>\n",
       "      <td>147</td>\n",
       "      <td>141381703</td>\n",
       "      <td>43</td>\n",
       "      <td>...</td>\n",
       "      <td>2</td>\n",
       "      <td>Major</td>\n",
       "      <td>80</td>\n",
       "      <td>89</td>\n",
       "      <td>83</td>\n",
       "      <td>31</td>\n",
       "      <td>0</td>\n",
       "      <td>8</td>\n",
       "      <td>4</td>\n",
       "      <td>1</td>\n",
       "    </tr>\n",
       "    <tr>\n",
       "      <th>1</th>\n",
       "      <td>LALA</td>\n",
       "      <td>Myke Towers</td>\n",
       "      <td>1</td>\n",
       "      <td>2023</td>\n",
       "      <td>3</td>\n",
       "      <td>23</td>\n",
       "      <td>1474</td>\n",
       "      <td>48</td>\n",
       "      <td>133716286</td>\n",
       "      <td>48</td>\n",
       "      <td>...</td>\n",
       "      <td>3</td>\n",
       "      <td>Major</td>\n",
       "      <td>71</td>\n",
       "      <td>61</td>\n",
       "      <td>74</td>\n",
       "      <td>7</td>\n",
       "      <td>0</td>\n",
       "      <td>10</td>\n",
       "      <td>4</td>\n",
       "      <td>1</td>\n",
       "    </tr>\n",
       "    <tr>\n",
       "      <th>2</th>\n",
       "      <td>vampire</td>\n",
       "      <td>Olivia Rodrigo</td>\n",
       "      <td>1</td>\n",
       "      <td>2023</td>\n",
       "      <td>6</td>\n",
       "      <td>30</td>\n",
       "      <td>1397</td>\n",
       "      <td>113</td>\n",
       "      <td>140003974</td>\n",
       "      <td>94</td>\n",
       "      <td>...</td>\n",
       "      <td>7</td>\n",
       "      <td>Major</td>\n",
       "      <td>51</td>\n",
       "      <td>32</td>\n",
       "      <td>53</td>\n",
       "      <td>17</td>\n",
       "      <td>0</td>\n",
       "      <td>31</td>\n",
       "      <td>6</td>\n",
       "      <td>1</td>\n",
       "    </tr>\n",
       "    <tr>\n",
       "      <th>3</th>\n",
       "      <td>Cruel Summer</td>\n",
       "      <td>Taylor Swift</td>\n",
       "      <td>1</td>\n",
       "      <td>2019</td>\n",
       "      <td>8</td>\n",
       "      <td>23</td>\n",
       "      <td>7858</td>\n",
       "      <td>100</td>\n",
       "      <td>800840817</td>\n",
       "      <td>116</td>\n",
       "      <td>...</td>\n",
       "      <td>0</td>\n",
       "      <td>Major</td>\n",
       "      <td>55</td>\n",
       "      <td>58</td>\n",
       "      <td>72</td>\n",
       "      <td>11</td>\n",
       "      <td>0</td>\n",
       "      <td>11</td>\n",
       "      <td>15</td>\n",
       "      <td>1</td>\n",
       "    </tr>\n",
       "    <tr>\n",
       "      <th>4</th>\n",
       "      <td>WHERE SHE GOES</td>\n",
       "      <td>Bad Bunny</td>\n",
       "      <td>1</td>\n",
       "      <td>2023</td>\n",
       "      <td>5</td>\n",
       "      <td>18</td>\n",
       "      <td>3133</td>\n",
       "      <td>50</td>\n",
       "      <td>303236322</td>\n",
       "      <td>84</td>\n",
       "      <td>...</td>\n",
       "      <td>0</td>\n",
       "      <td>Minor</td>\n",
       "      <td>65</td>\n",
       "      <td>23</td>\n",
       "      <td>80</td>\n",
       "      <td>14</td>\n",
       "      <td>63</td>\n",
       "      <td>11</td>\n",
       "      <td>6</td>\n",
       "      <td>1</td>\n",
       "    </tr>\n",
       "  </tbody>\n",
       "</table>\n",
       "<p>5 rows × 25 columns</p>\n",
       "</div>"
      ],
      "text/plain": [
       "                            track_name    artist(s)_name  artist_count  \\\n",
       "0  Seven (feat. Latto) (Explicit Ver.)  Latto, Jung Kook             2   \n",
       "1                                 LALA       Myke Towers             1   \n",
       "2                              vampire    Olivia Rodrigo             1   \n",
       "3                         Cruel Summer      Taylor Swift             1   \n",
       "4                       WHERE SHE GOES         Bad Bunny             1   \n",
       "\n",
       "   released_year  released_month  released_day  in_spotify_playlists  \\\n",
       "0           2023               7            14                   553   \n",
       "1           2023               3            23                  1474   \n",
       "2           2023               6            30                  1397   \n",
       "3           2019               8            23                  7858   \n",
       "4           2023               5            18                  3133   \n",
       "\n",
       "   in_spotify_charts    streams  in_apple_playlists  ...  key   mode  \\\n",
       "0                147  141381703                  43  ...    2  Major   \n",
       "1                 48  133716286                  48  ...    3  Major   \n",
       "2                113  140003974                  94  ...    7  Major   \n",
       "3                100  800840817                 116  ...    0  Major   \n",
       "4                 50  303236322                  84  ...    0  Minor   \n",
       "\n",
       "   danceability_% valence_%  energy_%  acousticness_% instrumentalness_%  \\\n",
       "0              80        89        83              31                  0   \n",
       "1              71        61        74               7                  0   \n",
       "2              51        32        53              17                  0   \n",
       "3              55        58        72              11                  0   \n",
       "4              65        23        80              14                 63   \n",
       "\n",
       "   liveness_%  speechiness_%  label  \n",
       "0           8              4      1  \n",
       "1          10              4      1  \n",
       "2          31              6      1  \n",
       "3          11             15      1  \n",
       "4          11              6      1  \n",
       "\n",
       "[5 rows x 25 columns]"
      ]
     },
     "execution_count": 18,
     "metadata": {},
     "output_type": "execute_result"
    }
   ],
   "source": [
    "data.head()"
   ]
  },
  {
   "cell_type": "code",
   "execution_count": 19,
   "id": "0de92456",
   "metadata": {},
   "outputs": [
    {
     "data": {
      "text/plain": [
       "0    2\n",
       "1    3\n",
       "2    7\n",
       "3    0\n",
       "Name: key, dtype: int32"
      ]
     },
     "execution_count": 19,
     "metadata": {},
     "output_type": "execute_result"
    }
   ],
   "source": [
    "data[\"key\"][:4]"
   ]
  },
  {
   "cell_type": "code",
   "execution_count": 20,
   "id": "68c3589e",
   "metadata": {},
   "outputs": [],
   "source": [
    "data[\"mode\"] = le.fit_transform(data[\"mode\"])"
   ]
  },
  {
   "cell_type": "code",
   "execution_count": 21,
   "id": "e06bffcb",
   "metadata": {},
   "outputs": [],
   "source": [
    "columns_of_interest = [\"in_spotify_playlists\", \"streams\", \"in_apple_playlists\", \"in_apple_charts\", \"mode\", \"label\"]"
   ]
  },
  {
   "cell_type": "code",
   "execution_count": 27,
   "id": "8fcfe754",
   "metadata": {},
   "outputs": [
    {
     "data": {
      "text/plain": [
       "(952, 6)"
      ]
     },
     "execution_count": 27,
     "metadata": {},
     "output_type": "execute_result"
    }
   ],
   "source": [
    "X = data[columns_of_interest].values.astype(np.int64)\n",
    "X.shape"
   ]
  },
  {
   "cell_type": "code",
   "execution_count": 23,
   "id": "5abce696",
   "metadata": {},
   "outputs": [],
   "source": [
    "data = data[columns_of_interest]"
   ]
  },
  {
   "cell_type": "code",
   "execution_count": 24,
   "id": "859ddeac",
   "metadata": {},
   "outputs": [
    {
     "data": {
      "text/plain": [
       "(953, 6)"
      ]
     },
     "execution_count": 24,
     "metadata": {},
     "output_type": "execute_result"
    }
   ],
   "source": [
    "data.shape"
   ]
  },
  {
   "cell_type": "code",
   "execution_count": 25,
   "id": "a935028e",
   "metadata": {},
   "outputs": [],
   "source": [
    "data = data[data[\"streams\"].apply(lambda x: str(x).isnumeric())]"
   ]
  },
  {
   "cell_type": "code",
   "execution_count": 26,
   "id": "508d7e45",
   "metadata": {},
   "outputs": [
    {
     "data": {
      "text/plain": [
       "0    549\n",
       "1    403\n",
       "Name: mode, dtype: int64"
      ]
     },
     "execution_count": 26,
     "metadata": {},
     "output_type": "execute_result"
    }
   ],
   "source": [
    "data[\"mode\"].value_counts()"
   ]
  },
  {
   "cell_type": "code",
   "execution_count": 98,
   "id": "65ba5e49",
   "metadata": {},
   "outputs": [],
   "source": [
    "data[\"streams\"] = data[\"streams\"].astype(np.int64)"
   ]
  },
  {
   "cell_type": "code",
   "execution_count": 28,
   "id": "fe9838ee",
   "metadata": {},
   "outputs": [
    {
     "data": {
      "text/plain": [
       "(952, 5)"
      ]
     },
     "execution_count": 28,
     "metadata": {},
     "output_type": "execute_result"
    }
   ],
   "source": [
    "X = data.loc[:, data.columns != 'label'].values\n",
    "X.shape"
   ]
  },
  {
   "cell_type": "code",
   "execution_count": 29,
   "id": "709cbef5",
   "metadata": {},
   "outputs": [
    {
     "data": {
      "text/plain": [
       "(952,)"
      ]
     },
     "execution_count": 29,
     "metadata": {},
     "output_type": "execute_result"
    }
   ],
   "source": [
    "y = data[\"label\"].values\n",
    "y.shape"
   ]
  },
  {
   "cell_type": "markdown",
   "id": "4daefccf",
   "metadata": {},
   "source": [
    "## Classification "
   ]
  },
  {
   "cell_type": "code",
   "execution_count": 30,
   "id": "6e112d10",
   "metadata": {},
   "outputs": [],
   "source": [
    "X_train, X_test, y_train, y_test = train_test_split(X,y, test_size=0.2)"
   ]
  },
  {
   "cell_type": "code",
   "execution_count": 31,
   "id": "4dc30c76",
   "metadata": {},
   "outputs": [],
   "source": [
    "model = LogisticRegression()"
   ]
  },
  {
   "cell_type": "code",
   "execution_count": 32,
   "id": "3c6f9a93",
   "metadata": {},
   "outputs": [
    {
     "data": {
      "text/plain": [
       "(761, 5)"
      ]
     },
     "execution_count": 32,
     "metadata": {},
     "output_type": "execute_result"
    }
   ],
   "source": [
    "X_train.shape"
   ]
  },
  {
   "cell_type": "code",
   "execution_count": 33,
   "id": "dcd8e3ff",
   "metadata": {},
   "outputs": [
    {
     "data": {
      "text/plain": [
       "(761,)"
      ]
     },
     "execution_count": 33,
     "metadata": {},
     "output_type": "execute_result"
    }
   ],
   "source": [
    "y_train.shape"
   ]
  },
  {
   "cell_type": "code",
   "execution_count": 34,
   "id": "4e10ee27",
   "metadata": {},
   "outputs": [],
   "source": [
    "model.fit(X_train, y_train)\n",
    "y_score = model.predict_proba(X_test)"
   ]
  },
  {
   "cell_type": "code",
   "execution_count": 36,
   "id": "b1e5d3be",
   "metadata": {},
   "outputs": [
    {
     "data": {
      "text/plain": [
       "array([[0.33316913, 0.66683087],\n",
       "       [0.38843243, 0.61156757],\n",
       "       [0.46907015, 0.53092985],\n",
       "       [0.47187909, 0.52812091],\n",
       "       [0.42252602, 0.57747398],\n",
       "       [0.43322075, 0.56677925],\n",
       "       [0.4610225 , 0.5389775 ],\n",
       "       [0.44073644, 0.55926356],\n",
       "       [0.46325274, 0.53674726],\n",
       "       [0.48022508, 0.51977492],\n",
       "       [0.49234269, 0.50765731],\n",
       "       [0.48127297, 0.51872703],\n",
       "       [0.4852894 , 0.5147106 ],\n",
       "       [0.49115345, 0.50884655],\n",
       "       [0.47162384, 0.52837616],\n",
       "       [0.33507529, 0.66492471],\n",
       "       [0.48931281, 0.51068719],\n",
       "       [0.43588253, 0.56411747],\n",
       "       [0.4159174 , 0.5840826 ],\n",
       "       [0.23641523, 0.76358477],\n",
       "       [0.45304113, 0.54695887],\n",
       "       [0.48233891, 0.51766109],\n",
       "       [0.48310886, 0.51689114],\n",
       "       [0.41280232, 0.58719768],\n",
       "       [0.48641887, 0.51358113],\n",
       "       [0.48506477, 0.51493523],\n",
       "       [0.45781424, 0.54218576],\n",
       "       [0.48909243, 0.51090757],\n",
       "       [0.47483338, 0.52516662],\n",
       "       [0.4763754 , 0.5236246 ],\n",
       "       [0.35140543, 0.64859457],\n",
       "       [0.4273974 , 0.5726026 ],\n",
       "       [0.46907634, 0.53092366],\n",
       "       [0.46897867, 0.53102133],\n",
       "       [0.42621677, 0.57378323],\n",
       "       [0.46709478, 0.53290522],\n",
       "       [0.48194373, 0.51805627],\n",
       "       [0.1950503 , 0.8049497 ],\n",
       "       [0.45998881, 0.54001119],\n",
       "       [0.45805587, 0.54194413],\n",
       "       [0.47457244, 0.52542756],\n",
       "       [0.44560703, 0.55439297],\n",
       "       [0.48393916, 0.51606084],\n",
       "       [0.46128765, 0.53871235],\n",
       "       [0.42686727, 0.57313273],\n",
       "       [0.40335811, 0.59664189],\n",
       "       [0.24804856, 0.75195144],\n",
       "       [0.41565786, 0.58434214],\n",
       "       [0.46292108, 0.53707892],\n",
       "       [0.43220424, 0.56779576],\n",
       "       [0.46965228, 0.53034772],\n",
       "       [0.42535957, 0.57464043],\n",
       "       [0.41574371, 0.58425629],\n",
       "       [0.47667795, 0.52332205],\n",
       "       [0.44124575, 0.55875425],\n",
       "       [0.47774366, 0.52225634],\n",
       "       [0.46767705, 0.53232295],\n",
       "       [0.46560125, 0.53439875],\n",
       "       [0.47670698, 0.52329302],\n",
       "       [0.49348321, 0.50651679],\n",
       "       [0.29817731, 0.70182269],\n",
       "       [0.49523255, 0.50476745],\n",
       "       [0.49463854, 0.50536146],\n",
       "       [0.49024125, 0.50975875],\n",
       "       [0.4774179 , 0.5225821 ],\n",
       "       [0.47787913, 0.52212087],\n",
       "       [0.42931237, 0.57068763],\n",
       "       [0.39427305, 0.60572695],\n",
       "       [0.32758451, 0.67241549],\n",
       "       [0.48603965, 0.51396035],\n",
       "       [0.40988228, 0.59011772],\n",
       "       [0.46387665, 0.53612335],\n",
       "       [0.43514937, 0.56485063],\n",
       "       [0.46411765, 0.53588235],\n",
       "       [0.49177806, 0.50822194],\n",
       "       [0.48587601, 0.51412399],\n",
       "       [0.48155503, 0.51844497],\n",
       "       [0.47722697, 0.52277303],\n",
       "       [0.3847477 , 0.6152523 ],\n",
       "       [0.49496563, 0.50503437],\n",
       "       [0.21550673, 0.78449327],\n",
       "       [0.47309017, 0.52690983],\n",
       "       [0.45171105, 0.54828895],\n",
       "       [0.272291  , 0.727709  ],\n",
       "       [0.2400621 , 0.7599379 ],\n",
       "       [0.35180637, 0.64819363],\n",
       "       [0.39893464, 0.60106536],\n",
       "       [0.40562392, 0.59437608],\n",
       "       [0.49319403, 0.50680597],\n",
       "       [0.36143436, 0.63856564],\n",
       "       [0.4701424 , 0.5298576 ],\n",
       "       [0.47181389, 0.52818611],\n",
       "       [0.47706909, 0.52293091],\n",
       "       [0.49282344, 0.50717656],\n",
       "       [0.44930408, 0.55069592],\n",
       "       [0.44611019, 0.55388981],\n",
       "       [0.47375368, 0.52624632],\n",
       "       [0.48231584, 0.51768416],\n",
       "       [0.37084933, 0.62915067],\n",
       "       [0.42125942, 0.57874058],\n",
       "       [0.36898383, 0.63101617],\n",
       "       [0.32596296, 0.67403704],\n",
       "       [0.47991471, 0.52008529],\n",
       "       [0.42251311, 0.57748689],\n",
       "       [0.32964247, 0.67035753],\n",
       "       [0.36353822, 0.63646178],\n",
       "       [0.18885387, 0.81114613],\n",
       "       [0.4903132 , 0.5096868 ],\n",
       "       [0.48581438, 0.51418562],\n",
       "       [0.48788628, 0.51211372],\n",
       "       [0.41533704, 0.58466296],\n",
       "       [0.49134143, 0.50865857],\n",
       "       [0.49220909, 0.50779091],\n",
       "       [0.40975186, 0.59024814],\n",
       "       [0.4913919 , 0.5086081 ],\n",
       "       [0.47632966, 0.52367034],\n",
       "       [0.41419203, 0.58580797],\n",
       "       [0.46410654, 0.53589346],\n",
       "       [0.34392387, 0.65607613],\n",
       "       [0.47664019, 0.52335981],\n",
       "       [0.48236007, 0.51763993],\n",
       "       [0.47322692, 0.52677308],\n",
       "       [0.38224836, 0.61775164],\n",
       "       [0.41189915, 0.58810085],\n",
       "       [0.24026525, 0.75973475],\n",
       "       [0.49153655, 0.50846345],\n",
       "       [0.4179597 , 0.5820403 ],\n",
       "       [0.43950776, 0.56049224],\n",
       "       [0.48354707, 0.51645293],\n",
       "       [0.36068933, 0.63931067],\n",
       "       [0.47075561, 0.52924439],\n",
       "       [0.47920721, 0.52079279],\n",
       "       [0.48845815, 0.51154185],\n",
       "       [0.4862129 , 0.5137871 ],\n",
       "       [0.48865243, 0.51134757],\n",
       "       [0.45642961, 0.54357039],\n",
       "       [0.49279588, 0.50720412],\n",
       "       [0.484467  , 0.515533  ],\n",
       "       [0.48252625, 0.51747375],\n",
       "       [0.46784833, 0.53215167],\n",
       "       [0.27167507, 0.72832493],\n",
       "       [0.46914686, 0.53085314],\n",
       "       [0.42370792, 0.57629208],\n",
       "       [0.40028853, 0.59971147],\n",
       "       [0.46475832, 0.53524168],\n",
       "       [0.45876377, 0.54123623],\n",
       "       [0.46803303, 0.53196697],\n",
       "       [0.49170693, 0.50829307],\n",
       "       [0.45495241, 0.54504759],\n",
       "       [0.46995652, 0.53004348],\n",
       "       [0.45597646, 0.54402354],\n",
       "       [0.4872421 , 0.5127579 ],\n",
       "       [0.37138336, 0.62861664],\n",
       "       [0.47929452, 0.52070548],\n",
       "       [0.46680122, 0.53319878],\n",
       "       [0.44146575, 0.55853425],\n",
       "       [0.28848691, 0.71151309],\n",
       "       [0.4922891 , 0.5077109 ],\n",
       "       [0.46077184, 0.53922816],\n",
       "       [0.49589521, 0.50410479],\n",
       "       [0.44904937, 0.55095063],\n",
       "       [0.45361072, 0.54638928],\n",
       "       [0.48534683, 0.51465317],\n",
       "       [0.48067071, 0.51932929],\n",
       "       [0.47196131, 0.52803869],\n",
       "       [0.3996154 , 0.6003846 ],\n",
       "       [0.49194872, 0.50805128],\n",
       "       [0.39926303, 0.60073697],\n",
       "       [0.47533834, 0.52466166],\n",
       "       [0.48843511, 0.51156489],\n",
       "       [0.30933138, 0.69066862],\n",
       "       [0.42382618, 0.57617382],\n",
       "       [0.42406933, 0.57593067],\n",
       "       [0.48065418, 0.51934582],\n",
       "       [0.38153832, 0.61846168],\n",
       "       [0.32224651, 0.67775349],\n",
       "       [0.49417707, 0.50582293],\n",
       "       [0.47024444, 0.52975556],\n",
       "       [0.48390659, 0.51609341],\n",
       "       [0.49295319, 0.50704681],\n",
       "       [0.48228517, 0.51771483],\n",
       "       [0.48411464, 0.51588536],\n",
       "       [0.47713242, 0.52286758],\n",
       "       [0.44519455, 0.55480545],\n",
       "       [0.4651926 , 0.5348074 ],\n",
       "       [0.46169556, 0.53830444],\n",
       "       [0.3432968 , 0.6567032 ],\n",
       "       [0.40070527, 0.59929473],\n",
       "       [0.49276766, 0.50723234],\n",
       "       [0.46774629, 0.53225371],\n",
       "       [0.47669189, 0.52330811]])"
      ]
     },
     "execution_count": 36,
     "metadata": {},
     "output_type": "execute_result"
    }
   ],
   "source": [
    "y_score"
   ]
  },
  {
   "cell_type": "code",
   "execution_count": 35,
   "id": "c44e48fc",
   "metadata": {
    "scrolled": true
   },
   "outputs": [
    {
     "data": {
      "text/plain": [
       "(191, 2)"
      ]
     },
     "execution_count": 35,
     "metadata": {},
     "output_type": "execute_result"
    }
   ],
   "source": [
    "y_score.shape"
   ]
  },
  {
   "cell_type": "code",
   "execution_count": 118,
   "id": "7f4f8e6d",
   "metadata": {},
   "outputs": [
    {
     "data": {
      "image/png": "[encoded data removed]",
      "text/plain": [
       "<Figure size 432x288 with 1 Axes>"
      ]
     },
     "metadata": {
      "needs_background": "light"
     },
     "output_type": "display_data"
    }
   ],
   "source": [
    "import matplotlib.pyplot as plt\n",
    "\n",
    "from sklearn.metrics import RocCurveDisplay\n",
    "\n",
    "\n",
    "RocCurveDisplay.from_predictions(\n",
    "    y_test,\n",
    "    y_score[:,0], \n",
    "    name=f\"classification roc\",\n",
    "    color=\"darkorange\",\n",
    "    plot_chance_level=True,\n",
    ")\n",
    "plt.axis(\"square\")\n",
    "plt.xlabel(\"False Positive Rate\")\n",
    "plt.ylabel(\"True Positive Rate\")\n",
    "plt.title(\"Spotify Classification\")\n",
    "plt.legend()\n",
    "plt.show()"
   ]
  },
  {
   "cell_type": "code",
   "execution_count": 119,
   "id": "8b825bed",
   "metadata": {},
   "outputs": [],
   "source": [
    "y_pred = model.predict(X_test)"
   ]
  },
  {
   "cell_type": "code",
   "execution_count": 120,
   "id": "c734774f",
   "metadata": {},
   "outputs": [
    {
     "name": "stdout",
     "output_type": "stream",
     "text": [
      "0.6649214659685864\n"
     ]
    }
   ],
   "source": [
    "print(accuracy_score(y_pred, y_test))"
   ]
  },
  {
   "cell_type": "code",
   "execution_count": null,
   "id": "8f4bd483",
   "metadata": {},
   "outputs": [],
   "source": []
  }
 ],
 "metadata": {
  "kernelspec": {
   "display_name": "Python 3 (ipykernel)",
   "language": "python",
   "name": "python3"
  },
  "language_info": {
   "codemirror_mode": {
    "name": "ipython",
    "version": 3
   },
   "file_extension": ".py",
   "mimetype": "text/x-python",
   "name": "python",
   "nbconvert_exporter": "python",
   "pygments_lexer": "ipython3",
   "version": "3.9.13"
  }
 },
 "nbformat": 4,
 "nbformat_minor": 5
}
